{
 "cells": [
  {
   "cell_type": "code",
   "execution_count": 532,
   "metadata": {},
   "outputs": [],
   "source": [
    "from requests import get\n",
    "from bs4 import BeautifulSoup\n",
    "import os\n",
    "import re\n",
    "from env import github_token, github_username\n",
    "import scraper\n",
    "import acquire_r\n",
    "import pandas as pd\n",
    "import json\n",
    "import seaborn as sns\n",
    "import time\n",
    "import prepare_r\n",
    "import matplotlib.pyplot as plt\n",
    "from sklearn.model_selection import train_test_split\n",
    "from sklearn.linear_model import LogisticRegression\n",
    "from sklearn.metrics import classification_report, accuracy_score"
   ]
  },
  {
   "cell_type": "code",
   "execution_count": 2,
   "metadata": {},
   "outputs": [],
   "source": [
    "headers = {\"Authorization\": f\"token {github_token}\", \"User-Agent\": github_username}\n",
    "\n",
    "if headers[\"Authorization\"] == \"token \" or headers[\"User-Agent\"] == \"\":\n",
    "    raise Exception(\n",
    "        \"You need to follow the instructions marked TODO in this script before trying to use it\"\n",
    "    )"
   ]
  },
  {
   "cell_type": "code",
   "execution_count": 79,
   "metadata": {},
   "outputs": [],
   "source": [
    "# List of urls to scrape\n",
    "g_url = ['https://github.com/search?o=desc&p=1&q=stars%3A%3E1&s=forks&type=Repositories', ' https://github.com/search?o=desc&p=2&q=stars%3A%3E1&s=forks&type=Repositories'\\\n",
    "         'https://github.com/search?o=desc&p=3&q=stars%3A%3E1&s=forks&type=Repositories', 'https://github.com/search?o=desc&p=4&q=stars%3A%3E1&s=forks&type=Repositories',\\\n",
    "         'https://github.com/search?o=desc&p=5&q=stars%3A%3E1&s=forks&type=Repositories','https://github.com/search?o=desc&p=6&q=stars%3A%3E1&s=forks&type=Repositories',\\\n",
    "        'https://github.com/search?o=desc&p=7&q=stars%3A%3E1&s=forks&type=Repositories','https://github.com/search?o=desc&p=8&q=stars%3A%3E1&s=forks&type=Repositories',\\\n",
    "        'https://github.com/search?o=desc&p=9&q=stars%3A%3E1&s=forks&type=Repositories','https://github.com/search?o=desc&p=10&q=stars%3A%3E1&s=forks&type=Repositories',\\\n",
    "        'https://github.com/search?o=desc&p=11&q=stars%3A%3E1&s=forks&type=Repositories','https://github.com/search?o=desc&p=12&q=stars%3A%3E1&s=forks&type=Repositories']"
   ]
  },
  {
   "cell_type": "code",
   "execution_count": 83,
   "metadata": {},
   "outputs": [],
   "source": [
    "def get_repos(urls):\n",
    "    repo = []\n",
    "    for url in urls:\n",
    "        time.sleep(10)\n",
    "        response = get(url, headers=headers)\n",
    "        soup = BeautifulSoup(response.text)\n",
    "        text = soup.find_all(attrs={\"f4 text-normal\"})\n",
    "        for i in text:\n",
    "            repo.append(i.find('a')['href'])\n",
    "    return repo\n"
   ]
  },
  {
   "cell_type": "code",
   "execution_count": 84,
   "metadata": {},
   "outputs": [],
   "source": [
    "repos = get_repos(g_url)"
   ]
  },
  {
   "cell_type": "code",
   "execution_count": 91,
   "metadata": {},
   "outputs": [
    {
     "data": {
      "text/plain": [
       "['/jtleek/datasharing',\n",
       " '/rdpeng/ProgrammingAssignment2',\n",
       " '/octocat/Spoon-Knife',\n",
       " '/tensorflow/tensorflow',\n",
       " '/SmartThingsCommunity/SmartThingsPublic',\n",
       " '/twbs/bootstrap',\n",
       " '/github/gitignore',\n",
       " '/rdpeng/ExData_Plotting1',\n",
       " '/tensorflow/models',\n",
       " '/nightscout/cgm-remote-monitor',\n",
       " '/facebook/react',\n",
       " '/DataScienceSpecialization/courses',\n",
       " '/angular/angular.js',\n",
       " '/jlord/patchwork',\n",
       " '/barryclark/jekyll-now',\n",
       " '/Snailclimb/JavaGuide',\n",
       " '/firstcontributions/first-contributions',\n",
       " '/bitcoin/bitcoin',\n",
       " '/spring-projects/spring-framework',\n",
       " '/vuejs/vue',\n",
       " '/getify/You-Dont-Know-JS',\n",
       " '/freeCodeCamp/freeCodeCamp',\n",
       " '/kubernetes/kubernetes',\n",
       " '/udacity/frontend-nanodegree-resume',\n",
       " '/mrdoob/three.js',\n",
       " '/TheAlgorithms/Python',\n",
       " '/LarryMad/recipes',\n",
       " '/ant-design/ant-design',\n",
       " '/d3/d3',\n",
       " '/apache/spark',\n",
       " '/DefinitelyTyped/DefinitelyTyped',\n",
       " '/django/django',\n",
       " '/apache/dubbo',\n",
       " '/996icu/996.ICU',\n",
       " '/justjavac/free-programming-books-zh_CN',\n",
       " '/ohmyzsh/ohmyzsh',\n",
       " '/scikit-learn/scikit-learn',\n",
       " '/shadowsocks/shadowsocks',\n",
       " '/facebook/react-native',\n",
       " '/jquery/jquery',\n",
       " '/git/git',\n",
       " '/ansible/ansible',\n",
       " '/PanJiaChen/vue-element-admin',\n",
       " '/facebook/create-react-app',\n",
       " '/slatedocs/slate',\n",
       " '/airbnb/javascript',\n",
       " '/dotnet/AspNetCore.Docs',\n",
       " '/iluwatar/java-design-patterns',\n",
       " '/laravel/laravel',\n",
       " '/rails/rails',\n",
       " '/BVLC/caffe',\n",
       " '/keras-team/keras',\n",
       " '/sindresorhus/awesome',\n",
       " '/kamranahmedse/developer-roadmap',\n",
       " '/donnemartin/system-design-primer',\n",
       " '/nodejs/node',\n",
       " '/antirez/redis',\n",
       " '/elastic/elasticsearch',\n",
       " '/angular/angular',\n",
       " '/moby/moby',\n",
       " '/mui-org/material-ui',\n",
       " '/vinta/awesome-python',\n",
       " '/gabrielecirulli/2048',\n",
       " '/shadowsocks/shadowsocks-windows',\n",
       " '/microsoft/vscode',\n",
       " '/wakaleo/game-of-life',\n",
       " '/macrozheng/mall',\n",
       " '/wesbos/JavaScript30',\n",
       " '/python/cpython',\n",
       " '/hakimel/reveal.js',\n",
       " '/helm/charts',\n",
       " '/atom/atom',\n",
       " '/ColorlibHQ/AdminLTE',\n",
       " '/animate-css/animate.css',\n",
       " '/apache/incubator-echarts',\n",
       " '/xingshaocheng/architect-awesome',\n",
       " '/udacity/course-collaboration-travel-plans',\n",
       " '/aymericdamien/TensorFlow-Examples',\n",
       " '/reduxjs/redux',\n",
       " '/tastejs/todomvc',\n",
       " '/CSSEGISandData/COVID-19',\n",
       " '/pallets/flask',\n",
       " '/ionic-team/ionic',\n",
       " '/qmk/qmk_firmware',\n",
       " '/flutter/flutter',\n",
       " '/pjreddie/darknet',\n",
       " '/odoo/odoo',\n",
       " '/doocs/advanced-java',\n",
       " '/Homebrew/legacy-homebrew',\n",
       " '/selfteaching/the-craft-of-selfteaching',\n",
       " '/jenkins-docs/simple-java-maven-app',\n",
       " '/Trinea/android-open-project',\n",
       " '/trekhleb/javascript-algorithms',\n",
       " '/udacity/fullstack-nanodegree-vm',\n",
       " '/scutan90/DeepLearning-500-questions',\n",
       " '/danielmiessler/SecLists',\n",
       " '/ytdl-org/youtube-dl',\n",
       " '/josephmisiti/awesome-machine-learning',\n",
       " '/protocolbuffers/protobuf',\n",
       " '/netty/netty',\n",
       " '/mmistakes/minimal-mistakes',\n",
       " '/electron/electron',\n",
       " '/233boy/v2ray',\n",
       " '/shadowsocks/shadowsocks-android',\n",
       " '/bailicangdu/vue2-elm',\n",
       " '/h5bp/html5-boilerplate',\n",
       " '/scm-ninja/starter-web',\n",
       " '/ageron/handson-ml',\n",
       " '/FortAwesome/Font-Awesome',\n",
       " '/getlantern/lantern']"
      ]
     },
     "execution_count": 91,
     "metadata": {},
     "output_type": "execute_result"
    }
   ],
   "source": [
    "repos"
   ]
  },
  {
   "cell_type": "code",
   "execution_count": 92,
   "metadata": {},
   "outputs": [
    {
     "name": "stderr",
     "output_type": "stream",
     "text": [
      "/Users/ravindersingh/codeup-data-science/nlp_project/git-language/scraper.py:28: UserWarning: No parser was explicitly specified, so I'm using the best available HTML parser for this system (\"lxml\"). This usually isn't a problem, but if you run this code on another system, or in a different virtual environment, it may use a different parser and behave differently.\n",
      "\n",
      "The code that caused this warning is on line 28 of the file /Users/ravindersingh/codeup-data-science/nlp_project/git-language/scraper.py. To get rid of this warning, pass the additional argument 'features=\"lxml\"' to the BeautifulSoup constructor.\n",
      "\n",
      "  soup = BeautifulSoup(response.text)\n"
     ]
    }
   ],
   "source": [
    "#repos = scraper.get_repos(g_url)"
   ]
  },
  {
   "cell_type": "code",
   "execution_count": 481,
   "metadata": {},
   "outputs": [],
   "source": [
    "f = open('data.json')\n",
    "json_file = json.load(f)"
   ]
  },
  {
   "cell_type": "code",
   "execution_count": 515,
   "metadata": {},
   "outputs": [],
   "source": [
    "df = pd.DataFrame(json_file)"
   ]
  },
  {
   "cell_type": "code",
   "execution_count": 516,
   "metadata": {},
   "outputs": [
    {
     "data": {
      "text/html": [
       "<div>\n",
       "<style scoped>\n",
       "    .dataframe tbody tr th:only-of-type {\n",
       "        vertical-align: middle;\n",
       "    }\n",
       "\n",
       "    .dataframe tbody tr th {\n",
       "        vertical-align: top;\n",
       "    }\n",
       "\n",
       "    .dataframe thead th {\n",
       "        text-align: right;\n",
       "    }\n",
       "</style>\n",
       "<table border=\"1\" class=\"dataframe\">\n",
       "  <thead>\n",
       "    <tr style=\"text-align: right;\">\n",
       "      <th></th>\n",
       "      <th>repo</th>\n",
       "      <th>language</th>\n",
       "      <th>readme_contents</th>\n",
       "    </tr>\n",
       "  </thead>\n",
       "  <tbody>\n",
       "    <tr>\n",
       "      <th>0</th>\n",
       "      <td>jenkins-docs/simple-java-maven-app</td>\n",
       "      <td>Java</td>\n",
       "      <td># simple-java-maven-app\\n\\nThis repository is ...</td>\n",
       "    </tr>\n",
       "    <tr>\n",
       "      <th>1</th>\n",
       "      <td>Trinea/android-open-project</td>\n",
       "      <td>None</td>\n",
       "      <td>Android 开源项目分类汇总，更全更新可见 [codekk.com](https://p...</td>\n",
       "    </tr>\n",
       "    <tr>\n",
       "      <th>2</th>\n",
       "      <td>trekhleb/javascript-algorithms</td>\n",
       "      <td>JavaScript</td>\n",
       "      <td># Algoritmos y Estructuras de Datos en JavaScr...</td>\n",
       "    </tr>\n",
       "    <tr>\n",
       "      <th>3</th>\n",
       "      <td>udacity/fullstack-nanodegree-vm</td>\n",
       "      <td>Python</td>\n",
       "      <td># Full Stack Web Developer Nanodegree program ...</td>\n",
       "    </tr>\n",
       "    <tr>\n",
       "      <th>4</th>\n",
       "      <td>scutan90/DeepLearning-500-questions</td>\n",
       "      <td>None</td>\n",
       "      <td># 禁止转载，禁止转载，禁止转载！\\n# GitHub上非最新内容，最新内容请期待新书。\\n...</td>\n",
       "    </tr>\n",
       "    <tr>\n",
       "      <th>...</th>\n",
       "      <td>...</td>\n",
       "      <td>...</td>\n",
       "      <td>...</td>\n",
       "    </tr>\n",
       "    <tr>\n",
       "      <th>105</th>\n",
       "      <td>pjreddie/darknet</td>\n",
       "      <td>C</td>\n",
       "      <td>![Darknet Logo](http://pjreddie.com/media/file...</td>\n",
       "    </tr>\n",
       "    <tr>\n",
       "      <th>106</th>\n",
       "      <td>odoo/odoo</td>\n",
       "      <td>JavaScript</td>\n",
       "      <td>[![Build Status](http://runbot.odoo.com/runbot...</td>\n",
       "    </tr>\n",
       "    <tr>\n",
       "      <th>107</th>\n",
       "      <td>doocs/advanced-java</td>\n",
       "      <td>Java</td>\n",
       "      <td># 互联网 Java 工程师进阶知识完全扫盲&lt;sup&gt;[©](https://github....</td>\n",
       "    </tr>\n",
       "    <tr>\n",
       "      <th>108</th>\n",
       "      <td>Homebrew/legacy-homebrew</td>\n",
       "      <td>None</td>\n",
       "      <td># Homebrew (Legacy)\\n\\nThis repository was dep...</td>\n",
       "    </tr>\n",
       "    <tr>\n",
       "      <th>109</th>\n",
       "      <td>selfteaching/the-craft-of-selfteaching</td>\n",
       "      <td>Jupyter Notebook</td>\n",
       "      <td># the-craft-of-selfteaching\\n\\n&gt; One has no fu...</td>\n",
       "    </tr>\n",
       "  </tbody>\n",
       "</table>\n",
       "<p>110 rows × 3 columns</p>\n",
       "</div>"
      ],
      "text/plain": [
       "                                       repo          language  \\\n",
       "0        jenkins-docs/simple-java-maven-app              Java   \n",
       "1               Trinea/android-open-project              None   \n",
       "2            trekhleb/javascript-algorithms        JavaScript   \n",
       "3           udacity/fullstack-nanodegree-vm            Python   \n",
       "4       scutan90/DeepLearning-500-questions              None   \n",
       "..                                      ...               ...   \n",
       "105                        pjreddie/darknet                 C   \n",
       "106                               odoo/odoo        JavaScript   \n",
       "107                     doocs/advanced-java              Java   \n",
       "108                Homebrew/legacy-homebrew              None   \n",
       "109  selfteaching/the-craft-of-selfteaching  Jupyter Notebook   \n",
       "\n",
       "                                       readme_contents  \n",
       "0    # simple-java-maven-app\\n\\nThis repository is ...  \n",
       "1    Android 开源项目分类汇总，更全更新可见 [codekk.com](https://p...  \n",
       "2    # Algoritmos y Estructuras de Datos en JavaScr...  \n",
       "3    # Full Stack Web Developer Nanodegree program ...  \n",
       "4    # 禁止转载，禁止转载，禁止转载！\\n# GitHub上非最新内容，最新内容请期待新书。\\n...  \n",
       "..                                                 ...  \n",
       "105  ![Darknet Logo](http://pjreddie.com/media/file...  \n",
       "106  [![Build Status](http://runbot.odoo.com/runbot...  \n",
       "107  # 互联网 Java 工程师进阶知识完全扫盲<sup>[©](https://github....  \n",
       "108  # Homebrew (Legacy)\\n\\nThis repository was dep...  \n",
       "109  # the-craft-of-selfteaching\\n\\n> One has no fu...  \n",
       "\n",
       "[110 rows x 3 columns]"
      ]
     },
     "execution_count": 516,
     "metadata": {},
     "output_type": "execute_result"
    }
   ],
   "source": [
    "df"
   ]
  },
  {
   "cell_type": "code",
   "execution_count": 517,
   "metadata": {},
   "outputs": [
    {
     "name": "stdout",
     "output_type": "stream",
     "text": [
      "<class 'pandas.core.frame.DataFrame'>\n",
      "RangeIndex: 110 entries, 0 to 109\n",
      "Data columns (total 3 columns):\n",
      " #   Column           Non-Null Count  Dtype \n",
      "---  ------           --------------  ----- \n",
      " 0   repo             110 non-null    object\n",
      " 1   language         96 non-null     object\n",
      " 2   readme_contents  110 non-null    object\n",
      "dtypes: object(3)\n",
      "memory usage: 2.7+ KB\n"
     ]
    }
   ],
   "source": [
    "df.info()"
   ]
  },
  {
   "cell_type": "code",
   "execution_count": 518,
   "metadata": {},
   "outputs": [
    {
     "data": {
      "text/plain": [
       "repo                0\n",
       "language           14\n",
       "readme_contents     0\n",
       "dtype: int64"
      ]
     },
     "execution_count": 518,
     "metadata": {},
     "output_type": "execute_result"
    }
   ],
   "source": [
    "df.isnull().sum()"
   ]
  },
  {
   "cell_type": "code",
   "execution_count": 519,
   "metadata": {},
   "outputs": [],
   "source": [
    "df = df.dropna(axis =0)"
   ]
  },
  {
   "cell_type": "code",
   "execution_count": 520,
   "metadata": {},
   "outputs": [
    {
     "name": "stdout",
     "output_type": "stream",
     "text": [
      "<class 'pandas.core.frame.DataFrame'>\n",
      "Int64Index: 96 entries, 0 to 109\n",
      "Data columns (total 3 columns):\n",
      " #   Column           Non-Null Count  Dtype \n",
      "---  ------           --------------  ----- \n",
      " 0   repo             96 non-null     object\n",
      " 1   language         96 non-null     object\n",
      " 2   readme_contents  96 non-null     object\n",
      "dtypes: object(3)\n",
      "memory usage: 3.0+ KB\n"
     ]
    }
   ],
   "source": [
    "df.info()"
   ]
  },
  {
   "cell_type": "code",
   "execution_count": 521,
   "metadata": {},
   "outputs": [],
   "source": [
    "df = df.reset_index(drop = True)"
   ]
  },
  {
   "cell_type": "code",
   "execution_count": 522,
   "metadata": {
    "scrolled": false
   },
   "outputs": [
    {
     "data": {
      "text/plain": [
       "JavaScript          25\n",
       "Python              14\n",
       "Java                 9\n",
       "TypeScript           6\n",
       "CSS                  5\n",
       "HTML                 5\n",
       "C++                  5\n",
       "Go                   4\n",
       "C                    4\n",
       "Jupyter Notebook     3\n",
       "Shell                2\n",
       "C#                   2\n",
       "PHP                  2\n",
       "Vue                  2\n",
       "Scala                1\n",
       "Groovy               1\n",
       "Rust                 1\n",
       "Dart                 1\n",
       "ApacheConf           1\n",
       "R                    1\n",
       "Kotlin               1\n",
       "Ruby                 1\n",
       "Name: language, dtype: int64"
      ]
     },
     "execution_count": 522,
     "metadata": {},
     "output_type": "execute_result"
    }
   ],
   "source": [
    "df.language.value_counts()"
   ]
  },
  {
   "cell_type": "code",
   "execution_count": 523,
   "metadata": {},
   "outputs": [],
   "source": [
    "df['language'] = df.language.replace(['PHP','Shell','Kotlin','Vue','ApacheConf','Jupyter Notebook','R','Groovy',\\\n",
    "                                      'Scala','Rust','C#','Dart','Ruby'], 'Other')"
   ]
  },
  {
   "cell_type": "code",
   "execution_count": 524,
   "metadata": {},
   "outputs": [
    {
     "data": {
      "text/plain": [
       "JavaScript    25\n",
       "Other         19\n",
       "Python        14\n",
       "Java           9\n",
       "TypeScript     6\n",
       "C++            5\n",
       "HTML           5\n",
       "CSS            5\n",
       "Go             4\n",
       "C              4\n",
       "Name: language, dtype: int64"
      ]
     },
     "execution_count": 524,
     "metadata": {},
     "output_type": "execute_result"
    }
   ],
   "source": [
    "df.language.value_counts()"
   ]
  },
  {
   "cell_type": "code",
   "execution_count": 525,
   "metadata": {},
   "outputs": [
    {
     "data": {
      "text/plain": [
       "<matplotlib.axes._subplots.AxesSubplot at 0x1a2dc90ed0>"
      ]
     },
     "execution_count": 525,
     "metadata": {},
     "output_type": "execute_result"
    },
    {
     "data": {
      "image/png": "[encoded data removed]",
      "text/plain": [
       "<Figure size 432x288 with 1 Axes>"
      ]
     },
     "metadata": {
      "needs_background": "light"
     },
     "output_type": "display_data"
    }
   ],
   "source": [
    "# bar plot showing repo counts by language\n",
    "df.language.value_counts().plot.barh()"
   ]
  },
  {
   "cell_type": "code",
   "execution_count": 526,
   "metadata": {},
   "outputs": [],
   "source": [
    "df = df.drop(columns = ['repo'])"
   ]
  },
  {
   "cell_type": "code",
   "execution_count": 531,
   "metadata": {},
   "outputs": [
    {
     "data": {
      "text/html": [
       "<div>\n",
       "<style scoped>\n",
       "    .dataframe tbody tr th:only-of-type {\n",
       "        vertical-align: middle;\n",
       "    }\n",
       "\n",
       "    .dataframe tbody tr th {\n",
       "        vertical-align: top;\n",
       "    }\n",
       "\n",
       "    .dataframe thead th {\n",
       "        text-align: right;\n",
       "    }\n",
       "</style>\n",
       "<table border=\"1\" class=\"dataframe\">\n",
       "  <thead>\n",
       "    <tr style=\"text-align: right;\">\n",
       "      <th></th>\n",
       "      <th>language</th>\n",
       "      <th>readme_contents</th>\n",
       "    </tr>\n",
       "  </thead>\n",
       "  <tbody>\n",
       "    <tr>\n",
       "      <th>0</th>\n",
       "      <td>Java</td>\n",
       "      <td># simple-java-maven-app\\n\\nThis repository is ...</td>\n",
       "    </tr>\n",
       "    <tr>\n",
       "      <th>1</th>\n",
       "      <td>JavaScript</td>\n",
       "      <td># Algoritmos y Estructuras de Datos en JavaScr...</td>\n",
       "    </tr>\n",
       "    <tr>\n",
       "      <th>2</th>\n",
       "      <td>Python</td>\n",
       "      <td># Full Stack Web Developer Nanodegree program ...</td>\n",
       "    </tr>\n",
       "    <tr>\n",
       "      <th>3</th>\n",
       "      <td>Other</td>\n",
       "      <td>![seclists.png](https://danielmiessler.com/ima...</td>\n",
       "    </tr>\n",
       "  </tbody>\n",
       "</table>\n",
       "</div>"
      ],
      "text/plain": [
       "     language                                    readme_contents\n",
       "0        Java  # simple-java-maven-app\\n\\nThis repository is ...\n",
       "1  JavaScript  # Algoritmos y Estructuras de Datos en JavaScr...\n",
       "2      Python  # Full Stack Web Developer Nanodegree program ...\n",
       "3       Other  ![seclists.png](https://danielmiessler.com/ima..."
      ]
     },
     "execution_count": 531,
     "metadata": {},
     "output_type": "execute_result"
    }
   ],
   "source": [
    "df.head(4)"
   ]
  },
  {
   "cell_type": "code",
   "execution_count": 538,
   "metadata": {},
   "outputs": [],
   "source": [
    "y = df.language\n",
    "X = df.readme_contents\n",
    "train, test = train_test_split(df, stratify=df.language, test_size=.2, random_state=123)"
   ]
  },
  {
   "cell_type": "code",
   "execution_count": 541,
   "metadata": {},
   "outputs": [
    {
     "data": {
      "text/html": [
       "<div>\n",
       "<style scoped>\n",
       "    .dataframe tbody tr th:only-of-type {\n",
       "        vertical-align: middle;\n",
       "    }\n",
       "\n",
       "    .dataframe tbody tr th {\n",
       "        vertical-align: top;\n",
       "    }\n",
       "\n",
       "    .dataframe thead th {\n",
       "        text-align: right;\n",
       "    }\n",
       "</style>\n",
       "<table border=\"1\" class=\"dataframe\">\n",
       "  <thead>\n",
       "    <tr style=\"text-align: right;\">\n",
       "      <th></th>\n",
       "      <th>language</th>\n",
       "      <th>readme_contents</th>\n",
       "    </tr>\n",
       "  </thead>\n",
       "  <tbody>\n",
       "    <tr>\n",
       "      <th>66</th>\n",
       "      <td>Java</td>\n",
       "      <td>= Elasticsearch\\n\\n== A Distributed RESTful Se...</td>\n",
       "    </tr>\n",
       "    <tr>\n",
       "      <th>26</th>\n",
       "      <td>HTML</td>\n",
       "      <td>\\n### Data Science Specialization\\n\\nThese are...</td>\n",
       "    </tr>\n",
       "    <tr>\n",
       "      <th>71</th>\n",
       "      <td>CSS</td>\n",
       "      <td># 2048\\nA small clone of [1024](https://play.g...</td>\n",
       "    </tr>\n",
       "    <tr>\n",
       "      <th>90</th>\n",
       "      <td>C</td>\n",
       "      <td># Quantum Mechanical Keyboard Firmware\\n\\n[![C...</td>\n",
       "    </tr>\n",
       "    <tr>\n",
       "      <th>32</th>\n",
       "      <td>Java</td>\n",
       "      <td># &lt;img src=\"src/docs/spring-framework.png\" wid...</td>\n",
       "    </tr>\n",
       "    <tr>\n",
       "      <th>35</th>\n",
       "      <td>Go</td>\n",
       "      <td># Kubernetes\\n\\n[![GoDoc Widget]][GoDoc] [![CI...</td>\n",
       "    </tr>\n",
       "    <tr>\n",
       "      <th>46</th>\n",
       "      <td>Other</td>\n",
       "      <td>&lt;p align=\"center\"&gt;\\n  &lt;img src=\"https://s3.ama...</td>\n",
       "    </tr>\n",
       "    <tr>\n",
       "      <th>88</th>\n",
       "      <td>Python</td>\n",
       "      <td>Flask\\n=====\\n\\nFlask is a lightweight `WSGI`_...</td>\n",
       "    </tr>\n",
       "    <tr>\n",
       "      <th>12</th>\n",
       "      <td>Other</td>\n",
       "      <td># Introduction\\n\\n[README in Chinese](README.m...</td>\n",
       "    </tr>\n",
       "    <tr>\n",
       "      <th>80</th>\n",
       "      <td>JavaScript</td>\n",
       "      <td># Atom\\n\\n[![Build status](https://dev.azure.c...</td>\n",
       "    </tr>\n",
       "    <tr>\n",
       "      <th>16</th>\n",
       "      <td>JavaScript</td>\n",
       "      <td>&lt;h1&gt;&lt;img src=\"https://img.fortawesome.com/349c...</td>\n",
       "    </tr>\n",
       "    <tr>\n",
       "      <th>63</th>\n",
       "      <td>Python</td>\n",
       "      <td>*[English](README.md) ∙ [日本語](README-ja.md) ∙ ...</td>\n",
       "    </tr>\n",
       "    <tr>\n",
       "      <th>20</th>\n",
       "      <td>C++</td>\n",
       "      <td>&lt;div align=\"center\"&gt;\\n  &lt;img src=\"https://www....</td>\n",
       "    </tr>\n",
       "    <tr>\n",
       "      <th>87</th>\n",
       "      <td>JavaScript</td>\n",
       "      <td># ![TodoMVC](media/logo.png)\\n\\n&gt; Helping you ...</td>\n",
       "    </tr>\n",
       "    <tr>\n",
       "      <th>42</th>\n",
       "      <td>TypeScript</td>\n",
       "      <td># Definitely Typed\\n\\n&gt; 这是一个 *高质量* 的 TypeScrip...</td>\n",
       "    </tr>\n",
       "    <tr>\n",
       "      <th>15</th>\n",
       "      <td>Other</td>\n",
       "      <td>Machine Learning Notebooks\\n==================...</td>\n",
       "    </tr>\n",
       "    <tr>\n",
       "      <th>33</th>\n",
       "      <td>JavaScript</td>\n",
       "      <td>&lt;p align=\"center\"&gt;&lt;a href=\"https://vuejs.org\" ...</td>\n",
       "    </tr>\n",
       "    <tr>\n",
       "      <th>23</th>\n",
       "      <td>Python</td>\n",
       "      <td>![Logo](https://storage.googleapis.com/model_g...</td>\n",
       "    </tr>\n",
       "    <tr>\n",
       "      <th>22</th>\n",
       "      <td>JavaScript</td>\n",
       "      <td>&lt;p align=\"center\"&gt;\\n  &lt;a href=\"https://getboot...</td>\n",
       "    </tr>\n",
       "    <tr>\n",
       "      <th>3</th>\n",
       "      <td>Other</td>\n",
       "      <td>![seclists.png](https://danielmiessler.com/ima...</td>\n",
       "    </tr>\n",
       "  </tbody>\n",
       "</table>\n",
       "</div>"
      ],
      "text/plain": [
       "      language                                    readme_contents\n",
       "66        Java  = Elasticsearch\\n\\n== A Distributed RESTful Se...\n",
       "26        HTML  \\n### Data Science Specialization\\n\\nThese are...\n",
       "71         CSS  # 2048\\nA small clone of [1024](https://play.g...\n",
       "90           C  # Quantum Mechanical Keyboard Firmware\\n\\n[![C...\n",
       "32        Java  # <img src=\"src/docs/spring-framework.png\" wid...\n",
       "35          Go  # Kubernetes\\n\\n[![GoDoc Widget]][GoDoc] [![CI...\n",
       "46       Other  <p align=\"center\">\\n  <img src=\"https://s3.ama...\n",
       "88      Python  Flask\\n=====\\n\\nFlask is a lightweight `WSGI`_...\n",
       "12       Other  # Introduction\\n\\n[README in Chinese](README.m...\n",
       "80  JavaScript  # Atom\\n\\n[![Build status](https://dev.azure.c...\n",
       "16  JavaScript  <h1><img src=\"https://img.fortawesome.com/349c...\n",
       "63      Python  *[English](README.md) ∙ [日本語](README-ja.md) ∙ ...\n",
       "20         C++  <div align=\"center\">\\n  <img src=\"https://www....\n",
       "87  JavaScript  # ![TodoMVC](media/logo.png)\\n\\n> Helping you ...\n",
       "42  TypeScript  # Definitely Typed\\n\\n> 这是一个 *高质量* 的 TypeScrip...\n",
       "15       Other  Machine Learning Notebooks\\n==================...\n",
       "33  JavaScript  <p align=\"center\"><a href=\"https://vuejs.org\" ...\n",
       "23      Python  ![Logo](https://storage.googleapis.com/model_g...\n",
       "22  JavaScript  <p align=\"center\">\\n  <a href=\"https://getboot...\n",
       "3        Other  ![seclists.png](https://danielmiessler.com/ima..."
      ]
     },
     "execution_count": 541,
     "metadata": {},
     "output_type": "execute_result"
    }
   ],
   "source": [
    "test"
   ]
  },
  {
   "cell_type": "code",
   "execution_count": 536,
   "metadata": {},
   "outputs": [
    {
     "data": {
      "text/plain": [
       "pandas.core.series.Series"
      ]
     },
     "execution_count": 536,
     "metadata": {},
     "output_type": "execute_result"
    }
   ],
   "source": [
    "type(train)"
   ]
  },
  {
   "cell_type": "code",
   "execution_count": 528,
   "metadata": {},
   "outputs": [],
   "source": [
    "df1 = df.readme_contents.groupby(df.language).sum()"
   ]
  },
  {
   "cell_type": "code",
   "execution_count": null,
   "metadata": {},
   "outputs": [],
   "source": []
  },
  {
   "cell_type": "code",
   "execution_count": 529,
   "metadata": {},
   "outputs": [],
   "source": [
    "df1 = pd.DataFrame(df1).reset_index()"
   ]
  },
  {
   "cell_type": "code",
   "execution_count": 530,
   "metadata": {},
   "outputs": [
    {
     "data": {
      "text/html": [
       "<div>\n",
       "<style scoped>\n",
       "    .dataframe tbody tr th:only-of-type {\n",
       "        vertical-align: middle;\n",
       "    }\n",
       "\n",
       "    .dataframe tbody tr th {\n",
       "        vertical-align: top;\n",
       "    }\n",
       "\n",
       "    .dataframe thead th {\n",
       "        text-align: right;\n",
       "    }\n",
       "</style>\n",
       "<table border=\"1\" class=\"dataframe\">\n",
       "  <thead>\n",
       "    <tr style=\"text-align: right;\">\n",
       "      <th></th>\n",
       "      <th>language</th>\n",
       "      <th>readme_contents</th>\n",
       "    </tr>\n",
       "  </thead>\n",
       "  <tbody>\n",
       "    <tr>\n",
       "      <th>0</th>\n",
       "      <td>C</td>\n",
       "      <td>[![Build status](https://github.com/git/git/wo...</td>\n",
       "    </tr>\n",
       "    <tr>\n",
       "      <th>1</th>\n",
       "      <td>C++</td>\n",
       "      <td>Protocol Buffers - Google's data interchange f...</td>\n",
       "    </tr>\n",
       "    <tr>\n",
       "      <th>2</th>\n",
       "      <td>CSS</td>\n",
       "      <td># [Minimal Mistakes Jekyll theme](https://mmis...</td>\n",
       "    </tr>\n",
       "    <tr>\n",
       "      <th>3</th>\n",
       "      <td>Go</td>\n",
       "      <td>## 蓝灯(Lantern)最新版本下载 版本![](https://bitbucket.o...</td>\n",
       "    </tr>\n",
       "  </tbody>\n",
       "</table>\n",
       "</div>"
      ],
      "text/plain": [
       "  language                                    readme_contents\n",
       "0        C  [![Build status](https://github.com/git/git/wo...\n",
       "1      C++  Protocol Buffers - Google's data interchange f...\n",
       "2      CSS  # [Minimal Mistakes Jekyll theme](https://mmis...\n",
       "3       Go  ## 蓝灯(Lantern)最新版本下载 版本![](https://bitbucket.o..."
      ]
     },
     "execution_count": 530,
     "metadata": {},
     "output_type": "execute_result"
    }
   ],
   "source": [
    "df1.head(4)"
   ]
  },
  {
   "cell_type": "code",
   "execution_count": 497,
   "metadata": {},
   "outputs": [],
   "source": [
    "df = prepare_r.prep_contents(df)"
   ]
  },
  {
   "cell_type": "code",
   "execution_count": 498,
   "metadata": {},
   "outputs": [
    {
     "data": {
      "text/html": [
       "<div>\n",
       "<style scoped>\n",
       "    .dataframe tbody tr th:only-of-type {\n",
       "        vertical-align: middle;\n",
       "    }\n",
       "\n",
       "    .dataframe tbody tr th {\n",
       "        vertical-align: top;\n",
       "    }\n",
       "\n",
       "    .dataframe thead th {\n",
       "        text-align: right;\n",
       "    }\n",
       "</style>\n",
       "<table border=\"1\" class=\"dataframe\">\n",
       "  <thead>\n",
       "    <tr style=\"text-align: right;\">\n",
       "      <th></th>\n",
       "      <th>language</th>\n",
       "      <th>readme_contents</th>\n",
       "      <th>cleaned</th>\n",
       "    </tr>\n",
       "  </thead>\n",
       "  <tbody>\n",
       "    <tr>\n",
       "      <th>0</th>\n",
       "      <td>Java</td>\n",
       "      <td># simple-java-maven-app\\n\\nThis repository is ...</td>\n",
       "      <td>simple java maven app repository build java ap...</td>\n",
       "    </tr>\n",
       "    <tr>\n",
       "      <th>1</th>\n",
       "      <td>JavaScript</td>\n",
       "      <td># Algoritmos y Estructuras de Datos en JavaScr...</td>\n",
       "      <td>algoritmos estructuras datos javascript build ...</td>\n",
       "    </tr>\n",
       "    <tr>\n",
       "      <th>2</th>\n",
       "      <td>Python</td>\n",
       "      <td># Full Stack Web Developer Nanodegree program ...</td>\n",
       "      <td>full stack web developer nanodegree program vi...</td>\n",
       "    </tr>\n",
       "    <tr>\n",
       "      <th>3</th>\n",
       "      <td>Other</td>\n",
       "      <td>![seclists.png](https://danielmiessler.com/ima...</td>\n",
       "      <td>seclists png danielmiessler com image seclists...</td>\n",
       "    </tr>\n",
       "  </tbody>\n",
       "</table>\n",
       "</div>"
      ],
      "text/plain": [
       "     language                                    readme_contents  \\\n",
       "0        Java  # simple-java-maven-app\\n\\nThis repository is ...   \n",
       "1  JavaScript  # Algoritmos y Estructuras de Datos en JavaScr...   \n",
       "2      Python  # Full Stack Web Developer Nanodegree program ...   \n",
       "3       Other  ![seclists.png](https://danielmiessler.com/ima...   \n",
       "\n",
       "                                             cleaned  \n",
       "0  simple java maven app repository build java ap...  \n",
       "1  algoritmos estructuras datos javascript build ...  \n",
       "2  full stack web developer nanodegree program vi...  \n",
       "3  seclists png danielmiessler com image seclists...  "
      ]
     },
     "execution_count": 498,
     "metadata": {},
     "output_type": "execute_result"
    }
   ],
   "source": [
    "df = df.drop(columns = ['original', 'normalized', 'stemmed', 'lemmatized'])\n",
    "df.head(4)"
   ]
  },
  {
   "cell_type": "code",
   "execution_count": 499,
   "metadata": {
    "scrolled": true
   },
   "outputs": [],
   "source": [
    "df1 = prepare_r.prep_contents(df1)"
   ]
  },
  {
   "cell_type": "code",
   "execution_count": 500,
   "metadata": {},
   "outputs": [],
   "source": [
    "df1 = df1.drop(columns = ['original', 'normalized', 'stemmed', 'lemmatized'])\n"
   ]
  },
  {
   "cell_type": "code",
   "execution_count": 502,
   "metadata": {},
   "outputs": [
    {
     "data": {
      "text/plain": [
       "com           4116\n",
       "org           1142\n",
       "python         886\n",
       "doc            649\n",
       "javascript     604\n",
       "name           572\n",
       "learning       536\n",
       "library        530\n",
       "data           529\n",
       "html           493\n",
       "tensorflow     468\n",
       "master         452\n",
       "use            443\n",
       "code           438\n",
       "project        427\n",
       "dtype: int64"
      ]
     },
     "execution_count": 502,
     "metadata": {},
     "output_type": "execute_result"
    }
   ],
   "source": [
    "word_counts = pd.Series(\" \".join(df.cleaned).split()).value_counts().head(15)\n",
    "word_counts"
   ]
  },
  {
   "cell_type": "code",
   "execution_count": 503,
   "metadata": {},
   "outputs": [
    {
     "data": {
      "text/plain": [
       "<matplotlib.axes._subplots.AxesSubplot at 0x1a2ea74290>"
      ]
     },
     "execution_count": 503,
     "metadata": {},
     "output_type": "execute_result"
    },
    {
     "data": {
      "image/png": "[encoded data removed]",
      "text/plain": [
       "<Figure size 720x432 with 1 Axes>"
      ]
     },
     "metadata": {
      "needs_background": "light"
     },
     "output_type": "display_data"
    }
   ],
   "source": [
    "plt.figure(figsize = (10,6))\n",
    "word_counts.plot.barh()"
   ]
  },
  {
   "cell_type": "code",
   "execution_count": 504,
   "metadata": {},
   "outputs": [],
   "source": [
    "#IDF function\n",
    "def idf(word):\n",
    "    n_occurences = sum([1 for doc in df.cleaned if word in doc])\n",
    "    return len(df.cleaned) / n_occurences"
   ]
  },
  {
   "cell_type": "code",
   "execution_count": 505,
   "metadata": {},
   "outputs": [
    {
     "data": {
      "text/plain": [
       "array(['simple', 'java', 'maven', ..., 'deed', 'oxford',\n",
       "       'oxforddictionaries'], dtype=object)"
      ]
     },
     "execution_count": 505,
     "metadata": {},
     "output_type": "execute_result"
    }
   ],
   "source": [
    "#Find unique word list from DF cleaned column\n",
    "unique_words = pd.Series(' '.join(df.cleaned).split()).unique()\n",
    "unique_words"
   ]
  },
  {
   "cell_type": "code",
   "execution_count": 506,
   "metadata": {},
   "outputs": [],
   "source": [
    "# put the unique words into a data frame\n",
    "idf_df = pd.DataFrame(dict(word = unique_words))\\\n",
    ".assign(idf = lambda df: df.word.apply(idf))\\\n",
    ".set_index('word').sort_values(by='idf', ascending = False)"
   ]
  },
  {
   "cell_type": "code",
   "execution_count": 507,
   "metadata": {},
   "outputs": [
    {
     "data": {
      "text/html": [
       "<div>\n",
       "<style scoped>\n",
       "    .dataframe tbody tr th:only-of-type {\n",
       "        vertical-align: middle;\n",
       "    }\n",
       "\n",
       "    .dataframe tbody tr th {\n",
       "        vertical-align: top;\n",
       "    }\n",
       "\n",
       "    .dataframe thead th {\n",
       "        text-align: right;\n",
       "    }\n",
       "</style>\n",
       "<table border=\"1\" class=\"dataframe\">\n",
       "  <thead>\n",
       "    <tr style=\"text-align: right;\">\n",
       "      <th></th>\n",
       "      <th>idf</th>\n",
       "    </tr>\n",
       "    <tr>\n",
       "      <th>word</th>\n",
       "      <th></th>\n",
       "    </tr>\n",
       "  </thead>\n",
       "  <tbody>\n",
       "    <tr>\n",
       "      <th>oxforddictionaries</th>\n",
       "      <td>96.0</td>\n",
       "    </tr>\n",
       "    <tr>\n",
       "      <th>propertygraph</th>\n",
       "      <td>96.0</td>\n",
       "    </tr>\n",
       "    <tr>\n",
       "      <th>terminology</th>\n",
       "      <td>96.0</td>\n",
       "    </tr>\n",
       "    <tr>\n",
       "      <th>whitelisting</th>\n",
       "      <td>96.0</td>\n",
       "    </tr>\n",
       "    <tr>\n",
       "      <th>baqend</th>\n",
       "      <td>96.0</td>\n",
       "    </tr>\n",
       "    <tr>\n",
       "      <th>wskogqenq</th>\n",
       "      <td>96.0</td>\n",
       "    </tr>\n",
       "    <tr>\n",
       "      <th>wxgqg</th>\n",
       "      <td>96.0</td>\n",
       "    </tr>\n",
       "    <tr>\n",
       "      <th>infoq</th>\n",
       "      <td>96.0</td>\n",
       "    </tr>\n",
       "    <tr>\n",
       "      <th>jekylls</th>\n",
       "      <td>96.0</td>\n",
       "    </tr>\n",
       "    <tr>\n",
       "      <th>transitioning</th>\n",
       "      <td>96.0</td>\n",
       "    </tr>\n",
       "  </tbody>\n",
       "</table>\n",
       "</div>"
      ],
      "text/plain": [
       "                     idf\n",
       "word                    \n",
       "oxforddictionaries  96.0\n",
       "propertygraph       96.0\n",
       "terminology         96.0\n",
       "whitelisting        96.0\n",
       "baqend              96.0\n",
       "wskogqenq           96.0\n",
       "wxgqg               96.0\n",
       "infoq               96.0\n",
       "jekylls             96.0\n",
       "transitioning       96.0"
      ]
     },
     "execution_count": 507,
     "metadata": {},
     "output_type": "execute_result"
    }
   ],
   "source": [
    "idf_df.head(10)"
   ]
  },
  {
   "cell_type": "code",
   "execution_count": 508,
   "metadata": {},
   "outputs": [
    {
     "data": {
      "text/plain": [
       "Text(0.5, 0, 'IDF value')"
      ]
     },
     "execution_count": 508,
     "metadata": {},
     "output_type": "execute_result"
    },
    {
     "data": {
      "image/png": "[encoded data removed]",
      "text/plain": [
       "<Figure size 864x432 with 1 Axes>"
      ]
     },
     "metadata": {
      "needs_background": "light"
     },
     "output_type": "display_data"
    }
   ],
   "source": [
    "idf_df.plot.hist(figsize=(12,6))\n",
    "plt.title('IDF Frequency')\n",
    "plt.xlabel('IDF value')\n"
   ]
  },
  {
   "cell_type": "code",
   "execution_count": 509,
   "metadata": {},
   "outputs": [
    {
     "data": {
      "text/html": [
       "<div>\n",
       "<style scoped>\n",
       "    .dataframe tbody tr th:only-of-type {\n",
       "        vertical-align: middle;\n",
       "    }\n",
       "\n",
       "    .dataframe tbody tr th {\n",
       "        vertical-align: top;\n",
       "    }\n",
       "\n",
       "    .dataframe thead th {\n",
       "        text-align: right;\n",
       "    }\n",
       "</style>\n",
       "<table border=\"1\" class=\"dataframe\">\n",
       "  <thead>\n",
       "    <tr style=\"text-align: right;\">\n",
       "      <th></th>\n",
       "      <th>language</th>\n",
       "      <th>readme_contents</th>\n",
       "      <th>cleaned</th>\n",
       "    </tr>\n",
       "  </thead>\n",
       "  <tbody>\n",
       "    <tr>\n",
       "      <th>0</th>\n",
       "      <td>Java</td>\n",
       "      <td># simple-java-maven-app\\n\\nThis repository is ...</td>\n",
       "      <td>simple java maven app repository build java ap...</td>\n",
       "    </tr>\n",
       "    <tr>\n",
       "      <th>1</th>\n",
       "      <td>JavaScript</td>\n",
       "      <td># Algoritmos y Estructuras de Datos en JavaScr...</td>\n",
       "      <td>algoritmos estructuras datos javascript build ...</td>\n",
       "    </tr>\n",
       "    <tr>\n",
       "      <th>2</th>\n",
       "      <td>Python</td>\n",
       "      <td># Full Stack Web Developer Nanodegree program ...</td>\n",
       "      <td>full stack web developer nanodegree program vi...</td>\n",
       "    </tr>\n",
       "    <tr>\n",
       "      <th>3</th>\n",
       "      <td>Other</td>\n",
       "      <td>![seclists.png](https://danielmiessler.com/ima...</td>\n",
       "      <td>seclists png danielmiessler com image seclists...</td>\n",
       "    </tr>\n",
       "    <tr>\n",
       "      <th>4</th>\n",
       "      <td>Python</td>\n",
       "      <td>[![Build Status](https://travis-ci.org/ytdl-or...</td>\n",
       "      <td>build status travis org ytdl org youtube svg b...</td>\n",
       "    </tr>\n",
       "    <tr>\n",
       "      <th>...</th>\n",
       "      <td>...</td>\n",
       "      <td>...</td>\n",
       "      <td>...</td>\n",
       "    </tr>\n",
       "    <tr>\n",
       "      <th>91</th>\n",
       "      <td>Other</td>\n",
       "      <td># [![Flutter logo][]][flutter.dev]\\n\\n[![Build...</td>\n",
       "      <td>flutter logo flutter dev build status cirrus b...</td>\n",
       "    </tr>\n",
       "    <tr>\n",
       "      <th>92</th>\n",
       "      <td>C</td>\n",
       "      <td>![Darknet Logo](http://pjreddie.com/media/file...</td>\n",
       "      <td>darknet logo pjreddie com medium file darknet ...</td>\n",
       "    </tr>\n",
       "    <tr>\n",
       "      <th>93</th>\n",
       "      <td>JavaScript</td>\n",
       "      <td>[![Build Status](http://runbot.odoo.com/runbot...</td>\n",
       "      <td>build status runbot odoo com runbot badge flat...</td>\n",
       "    </tr>\n",
       "    <tr>\n",
       "      <th>94</th>\n",
       "      <td>Java</td>\n",
       "      <td># 互联网 Java 工程师进阶知识完全扫盲&lt;sup&gt;[©](https://github....</td>\n",
       "      <td>java sup com yanglbme sup action status com do...</td>\n",
       "    </tr>\n",
       "    <tr>\n",
       "      <th>95</th>\n",
       "      <td>Other</td>\n",
       "      <td># the-craft-of-selfteaching\\n\\n&gt; One has no fu...</td>\n",
       "      <td>craft selfteaching one ha future one teach the...</td>\n",
       "    </tr>\n",
       "  </tbody>\n",
       "</table>\n",
       "<p>96 rows × 3 columns</p>\n",
       "</div>"
      ],
      "text/plain": [
       "      language                                    readme_contents  \\\n",
       "0         Java  # simple-java-maven-app\\n\\nThis repository is ...   \n",
       "1   JavaScript  # Algoritmos y Estructuras de Datos en JavaScr...   \n",
       "2       Python  # Full Stack Web Developer Nanodegree program ...   \n",
       "3        Other  ![seclists.png](https://danielmiessler.com/ima...   \n",
       "4       Python  [![Build Status](https://travis-ci.org/ytdl-or...   \n",
       "..         ...                                                ...   \n",
       "91       Other  # [![Flutter logo][]][flutter.dev]\\n\\n[![Build...   \n",
       "92           C  ![Darknet Logo](http://pjreddie.com/media/file...   \n",
       "93  JavaScript  [![Build Status](http://runbot.odoo.com/runbot...   \n",
       "94        Java  # 互联网 Java 工程师进阶知识完全扫盲<sup>[©](https://github....   \n",
       "95       Other  # the-craft-of-selfteaching\\n\\n> One has no fu...   \n",
       "\n",
       "                                              cleaned  \n",
       "0   simple java maven app repository build java ap...  \n",
       "1   algoritmos estructuras datos javascript build ...  \n",
       "2   full stack web developer nanodegree program vi...  \n",
       "3   seclists png danielmiessler com image seclists...  \n",
       "4   build status travis org ytdl org youtube svg b...  \n",
       "..                                                ...  \n",
       "91  flutter logo flutter dev build status cirrus b...  \n",
       "92  darknet logo pjreddie com medium file darknet ...  \n",
       "93  build status runbot odoo com runbot badge flat...  \n",
       "94  java sup com yanglbme sup action status com do...  \n",
       "95  craft selfteaching one ha future one teach the...  \n",
       "\n",
       "[96 rows x 3 columns]"
      ]
     },
     "execution_count": 509,
     "metadata": {},
     "output_type": "execute_result"
    }
   ],
   "source": [
    "df"
   ]
  },
  {
   "cell_type": "code",
   "execution_count": 510,
   "metadata": {},
   "outputs": [],
   "source": [
    "# here we create a new column with number of words for each readme file.\n",
    "df['readme_words'] = df['cleaned'].apply(lambda x: len(x.split()))"
   ]
  },
  {
   "cell_type": "code",
   "execution_count": 511,
   "metadata": {},
   "outputs": [
    {
     "data": {
      "text/html": [
       "<div>\n",
       "<style scoped>\n",
       "    .dataframe tbody tr th:only-of-type {\n",
       "        vertical-align: middle;\n",
       "    }\n",
       "\n",
       "    .dataframe tbody tr th {\n",
       "        vertical-align: top;\n",
       "    }\n",
       "\n",
       "    .dataframe thead th {\n",
       "        text-align: right;\n",
       "    }\n",
       "</style>\n",
       "<table border=\"1\" class=\"dataframe\">\n",
       "  <thead>\n",
       "    <tr style=\"text-align: right;\">\n",
       "      <th></th>\n",
       "      <th>language</th>\n",
       "      <th>readme_contents</th>\n",
       "      <th>cleaned</th>\n",
       "      <th>readme_words</th>\n",
       "    </tr>\n",
       "  </thead>\n",
       "  <tbody>\n",
       "    <tr>\n",
       "      <th>0</th>\n",
       "      <td>Java</td>\n",
       "      <td># simple-java-maven-app\\n\\nThis repository is ...</td>\n",
       "      <td>simple java maven app repository build java ap...</td>\n",
       "      <td>66</td>\n",
       "    </tr>\n",
       "    <tr>\n",
       "      <th>1</th>\n",
       "      <td>JavaScript</td>\n",
       "      <td># Algoritmos y Estructuras de Datos en JavaScr...</td>\n",
       "      <td>algoritmos estructuras datos javascript build ...</td>\n",
       "      <td>2017</td>\n",
       "    </tr>\n",
       "    <tr>\n",
       "      <th>2</th>\n",
       "      <td>Python</td>\n",
       "      <td># Full Stack Web Developer Nanodegree program ...</td>\n",
       "      <td>full stack web developer nanodegree program vi...</td>\n",
       "      <td>815</td>\n",
       "    </tr>\n",
       "    <tr>\n",
       "      <th>3</th>\n",
       "      <td>Other</td>\n",
       "      <td>![seclists.png](https://danielmiessler.com/ima...</td>\n",
       "      <td>seclists png danielmiessler com image seclists...</td>\n",
       "      <td>182</td>\n",
       "    </tr>\n",
       "  </tbody>\n",
       "</table>\n",
       "</div>"
      ],
      "text/plain": [
       "     language                                    readme_contents  \\\n",
       "0        Java  # simple-java-maven-app\\n\\nThis repository is ...   \n",
       "1  JavaScript  # Algoritmos y Estructuras de Datos en JavaScr...   \n",
       "2      Python  # Full Stack Web Developer Nanodegree program ...   \n",
       "3       Other  ![seclists.png](https://danielmiessler.com/ima...   \n",
       "\n",
       "                                             cleaned  readme_words  \n",
       "0  simple java maven app repository build java ap...            66  \n",
       "1  algoritmos estructuras datos javascript build ...          2017  \n",
       "2  full stack web developer nanodegree program vi...           815  \n",
       "3  seclists png danielmiessler com image seclists...           182  "
      ]
     },
     "execution_count": 511,
     "metadata": {},
     "output_type": "execute_result"
    }
   ],
   "source": [
    "df.head(4)"
   ]
  },
  {
   "cell_type": "code",
   "execution_count": 512,
   "metadata": {},
   "outputs": [
    {
     "data": {
      "text/plain": [
       "(array([0, 1, 2, 3, 4, 5, 6, 7, 8, 9]), <a list of 10 Text xticklabel objects>)"
      ]
     },
     "execution_count": 512,
     "metadata": {},
     "output_type": "execute_result"
    },
    {
     "data": {
      "image/png": "[encoded data removed]",
      "text/plain": [
       "<Figure size 864x432 with 1 Axes>"
      ]
     },
     "metadata": {
      "needs_background": "light"
     },
     "output_type": "display_data"
    }
   ],
   "source": [
    "plt.figure(figsize = (12,6))\n",
    "sns.boxplot(x = 'language', y = 'readme_words', data = df)\n",
    "plt.xticks(rotation = 90)"
   ]
  },
  {
   "cell_type": "markdown",
   "metadata": {},
   "source": [
    "#### It seems like the median length of readme file is not very different between languages. Python however seems to have much bigger spread"
   ]
  },
  {
   "cell_type": "code",
   "execution_count": 428,
   "metadata": {},
   "outputs": [
    {
     "data": {
      "text/html": [
       "<div>\n",
       "<style scoped>\n",
       "    .dataframe tbody tr th:only-of-type {\n",
       "        vertical-align: middle;\n",
       "    }\n",
       "\n",
       "    .dataframe tbody tr th {\n",
       "        vertical-align: top;\n",
       "    }\n",
       "\n",
       "    .dataframe thead th {\n",
       "        text-align: right;\n",
       "    }\n",
       "</style>\n",
       "<table border=\"1\" class=\"dataframe\">\n",
       "  <thead>\n",
       "    <tr style=\"text-align: right;\">\n",
       "      <th></th>\n",
       "      <th>language</th>\n",
       "      <th>readme_contents</th>\n",
       "      <th>cleaned</th>\n",
       "    </tr>\n",
       "  </thead>\n",
       "  <tbody>\n",
       "    <tr>\n",
       "      <th>0</th>\n",
       "      <td>C</td>\n",
       "      <td>[![Build status](https://github.com/git/git/wo...</td>\n",
       "      <td>build status com git git workflow badge svg co...</td>\n",
       "    </tr>\n",
       "    <tr>\n",
       "      <th>1</th>\n",
       "      <td>C#</td>\n",
       "      <td># ASP.NET Core Docs\\n\\nThis repository contain...</td>\n",
       "      <td>asp net core doc repository contains conceptua...</td>\n",
       "    </tr>\n",
       "    <tr>\n",
       "      <th>2</th>\n",
       "      <td>C++</td>\n",
       "      <td>&lt;div align=\"center\"&gt;\\n  &lt;img src=\"https://www....</td>\n",
       "      <td>div align center img src tensorflow org image ...</td>\n",
       "    </tr>\n",
       "    <tr>\n",
       "      <th>3</th>\n",
       "      <td>CSS</td>\n",
       "      <td>&gt; March, 2016: If you're on an old version of ...</td>\n",
       "      <td>march old version jekyll run build warning syn...</td>\n",
       "    </tr>\n",
       "    <tr>\n",
       "      <th>4</th>\n",
       "      <td>Dart</td>\n",
       "      <td># [![Flutter logo][]][flutter.dev]\\n\\n[![Build...</td>\n",
       "      <td>flutter logo flutter dev build status cirrus b...</td>\n",
       "    </tr>\n",
       "    <tr>\n",
       "      <th>5</th>\n",
       "      <td>Go</td>\n",
       "      <td># Kubernetes\\n\\n[![GoDoc Widget]][GoDoc] [![CI...</td>\n",
       "      <td>kubernetes godoc widget godoc cii best practic...</td>\n",
       "    </tr>\n",
       "    <tr>\n",
       "      <th>6</th>\n",
       "      <td>Groovy</td>\n",
       "      <td># SmartThings Public GitHub Repo\\n\\nAn officia...</td>\n",
       "      <td>smartthings public repo official list smartapp...</td>\n",
       "    </tr>\n",
       "    <tr>\n",
       "      <th>7</th>\n",
       "      <td>HTML</td>\n",
       "      <td>### Well hello there!\\n\\nThis repository is me...</td>\n",
       "      <td>well hello repository meant provide example fo...</td>\n",
       "    </tr>\n",
       "    <tr>\n",
       "      <th>8</th>\n",
       "      <td>Java</td>\n",
       "      <td>&gt; JavaGuide 的Star数量虽然比较多，但是它的价值和含金量一定是不能和 Dubb...</td>\n",
       "      <td>javaguide star dubbonacos java javaguide doc j...</td>\n",
       "    </tr>\n",
       "    <tr>\n",
       "      <th>9</th>\n",
       "      <td>JavaScript</td>\n",
       "      <td>&lt;p align=\"center\"&gt;\\n  &lt;a href=\"https://getboot...</td>\n",
       "      <td>align center href getbootstrap com img src get...</td>\n",
       "    </tr>\n",
       "    <tr>\n",
       "      <th>10</th>\n",
       "      <td>Jupyter Notebook</td>\n",
       "      <td># TensorFlow Examples\\n\\nThis tutorial was des...</td>\n",
       "      <td>tensorflow example tutorial wa designed easily...</td>\n",
       "    </tr>\n",
       "    <tr>\n",
       "      <th>11</th>\n",
       "      <td>PHP</td>\n",
       "      <td>&lt;p align=\"center\"&gt;&lt;img src=\"https://res.cloudi...</td>\n",
       "      <td>align center img src cloudinary com dtfbvvkyp ...</td>\n",
       "    </tr>\n",
       "    <tr>\n",
       "      <th>12</th>\n",
       "      <td>Python</td>\n",
       "      <td>![Logo](https://storage.googleapis.com/model_g...</td>\n",
       "      <td>logo storage googleapis com model garden artif...</td>\n",
       "    </tr>\n",
       "    <tr>\n",
       "      <th>13</th>\n",
       "      <td>R</td>\n",
       "      <td>### Introduction\\n\\nThis second programming as...</td>\n",
       "      <td>introduction second programming assignment req...</td>\n",
       "    </tr>\n",
       "    <tr>\n",
       "      <th>14</th>\n",
       "      <td>Ruby</td>\n",
       "      <td># Welcome to Rails\\n\\n## What's Rails?\\n\\nRail...</td>\n",
       "      <td>welcome rail rail rail web application framewo...</td>\n",
       "    </tr>\n",
       "    <tr>\n",
       "      <th>15</th>\n",
       "      <td>Rust</td>\n",
       "      <td>[996.ICU](https://996.icu/#/en_US)\\n=======\\n*...</td>\n",
       "      <td>icu icu please note exists official account ap...</td>\n",
       "    </tr>\n",
       "    <tr>\n",
       "      <th>16</th>\n",
       "      <td>Scala</td>\n",
       "      <td># Apache Spark\\n\\nSpark is a unified analytics...</td>\n",
       "      <td>apache spark spark unified analytics engine la...</td>\n",
       "    </tr>\n",
       "    <tr>\n",
       "      <th>17</th>\n",
       "      <td>Shell</td>\n",
       "      <td>&lt;p align=\"center\"&gt;\\n  &lt;img src=\"https://s3.ama...</td>\n",
       "      <td>align center img src amazonaws com ohmyzsh zsh...</td>\n",
       "    </tr>\n",
       "    <tr>\n",
       "      <th>18</th>\n",
       "      <td>TypeScript</td>\n",
       "      <td>&lt;p align=\"center\"&gt;\\n  &lt;a href=\"https://ant.des...</td>\n",
       "      <td>align center href ant design img width src ali...</td>\n",
       "    </tr>\n",
       "    <tr>\n",
       "      <th>19</th>\n",
       "      <td>Vue</td>\n",
       "      <td>&lt;p align=\"center\"&gt;\\n  &lt;img width=\"320\" src=\"ht...</td>\n",
       "      <td>align center img width src wpimg wallstcn com ...</td>\n",
       "    </tr>\n",
       "  </tbody>\n",
       "</table>\n",
       "</div>"
      ],
      "text/plain": [
       "            language                                    readme_contents  \\\n",
       "0                  C  [![Build status](https://github.com/git/git/wo...   \n",
       "1                 C#  # ASP.NET Core Docs\\n\\nThis repository contain...   \n",
       "2                C++  <div align=\"center\">\\n  <img src=\"https://www....   \n",
       "3                CSS  > March, 2016: If you're on an old version of ...   \n",
       "4               Dart  # [![Flutter logo][]][flutter.dev]\\n\\n[![Build...   \n",
       "5                 Go  # Kubernetes\\n\\n[![GoDoc Widget]][GoDoc] [![CI...   \n",
       "6             Groovy  # SmartThings Public GitHub Repo\\n\\nAn officia...   \n",
       "7               HTML  ### Well hello there!\\n\\nThis repository is me...   \n",
       "8               Java  > JavaGuide 的Star数量虽然比较多，但是它的价值和含金量一定是不能和 Dubb...   \n",
       "9         JavaScript  <p align=\"center\">\\n  <a href=\"https://getboot...   \n",
       "10  Jupyter Notebook  # TensorFlow Examples\\n\\nThis tutorial was des...   \n",
       "11               PHP  <p align=\"center\"><img src=\"https://res.cloudi...   \n",
       "12            Python  ![Logo](https://storage.googleapis.com/model_g...   \n",
       "13                 R  ### Introduction\\n\\nThis second programming as...   \n",
       "14              Ruby  # Welcome to Rails\\n\\n## What's Rails?\\n\\nRail...   \n",
       "15              Rust  [996.ICU](https://996.icu/#/en_US)\\n=======\\n*...   \n",
       "16             Scala  # Apache Spark\\n\\nSpark is a unified analytics...   \n",
       "17             Shell  <p align=\"center\">\\n  <img src=\"https://s3.ama...   \n",
       "18        TypeScript  <p align=\"center\">\\n  <a href=\"https://ant.des...   \n",
       "19               Vue  <p align=\"center\">\\n  <img width=\"320\" src=\"ht...   \n",
       "\n",
       "                                              cleaned  \n",
       "0   build status com git git workflow badge svg co...  \n",
       "1   asp net core doc repository contains conceptua...  \n",
       "2   div align center img src tensorflow org image ...  \n",
       "3   march old version jekyll run build warning syn...  \n",
       "4   flutter logo flutter dev build status cirrus b...  \n",
       "5   kubernetes godoc widget godoc cii best practic...  \n",
       "6   smartthings public repo official list smartapp...  \n",
       "7   well hello repository meant provide example fo...  \n",
       "8   javaguide star dubbonacos java javaguide doc j...  \n",
       "9   align center href getbootstrap com img src get...  \n",
       "10  tensorflow example tutorial wa designed easily...  \n",
       "11  align center img src cloudinary com dtfbvvkyp ...  \n",
       "12  logo storage googleapis com model garden artif...  \n",
       "13  introduction second programming assignment req...  \n",
       "14  welcome rail rail rail web application framewo...  \n",
       "15  icu icu please note exists official account ap...  \n",
       "16  apache spark spark unified analytics engine la...  \n",
       "17  align center img src amazonaws com ohmyzsh zsh...  \n",
       "18  align center href ant design img width src ali...  \n",
       "19  align center img width src wpimg wallstcn com ...  "
      ]
     },
     "execution_count": 428,
     "metadata": {},
     "output_type": "execute_result"
    }
   ],
   "source": [
    "df1"
   ]
  },
  {
   "cell_type": "code",
   "execution_count": null,
   "metadata": {},
   "outputs": [],
   "source": [
    "def words_():\n",
    "    "
   ]
  },
  {
   "cell_type": "code",
   "execution_count": null,
   "metadata": {},
   "outputs": [],
   "source": []
  }
 ],
 "metadata": {
  "kernelspec": {
   "display_name": "Python 3",
   "language": "python",
   "name": "python3"
  },
  "language_info": {
   "codemirror_mode": {
    "name": "ipython",
    "version": 3
   },
   "file_extension": ".py",
   "mimetype": "text/x-python",
   "name": "python",
   "nbconvert_exporter": "python",
   "pygments_lexer": "ipython3",
   "version": "3.7.6"
  }
 },
 "nbformat": 4,
 "nbformat_minor": 4
}
