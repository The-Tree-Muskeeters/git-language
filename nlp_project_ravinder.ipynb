{
 "cells": [
  {
   "cell_type": "code",
   "execution_count": 338,
   "metadata": {},
   "outputs": [],
   "source": [
    "from requests import get\n",
    "from bs4 import BeautifulSoup\n",
    "import os\n",
    "import re\n",
    "from env import github_token, github_username\n",
    "import scraper\n",
    "import acquire_r\n",
    "import pandas as pd\n",
    "import json\n",
    "import seaborn as sns\n",
    "import time\n",
    "import prepare_r\n",
    "import matplotlib.pyplot as plt"
   ]
  },
  {
   "cell_type": "code",
   "execution_count": 2,
   "metadata": {},
   "outputs": [],
   "source": [
    "headers = {\"Authorization\": f\"token {github_token}\", \"User-Agent\": github_username}\n",
    "\n",
    "if headers[\"Authorization\"] == \"token \" or headers[\"User-Agent\"] == \"\":\n",
    "    raise Exception(\n",
    "        \"You need to follow the instructions marked TODO in this script before trying to use it\"\n",
    "    )"
   ]
  },
  {
   "cell_type": "code",
   "execution_count": 79,
   "metadata": {},
   "outputs": [],
   "source": [
    "# List of urls to scrape\n",
    "g_url = ['https://github.com/search?o=desc&p=1&q=stars%3A%3E1&s=forks&type=Repositories', ' https://github.com/search?o=desc&p=2&q=stars%3A%3E1&s=forks&type=Repositories'\\\n",
    "         'https://github.com/search?o=desc&p=3&q=stars%3A%3E1&s=forks&type=Repositories', 'https://github.com/search?o=desc&p=4&q=stars%3A%3E1&s=forks&type=Repositories',\\\n",
    "         'https://github.com/search?o=desc&p=5&q=stars%3A%3E1&s=forks&type=Repositories','https://github.com/search?o=desc&p=6&q=stars%3A%3E1&s=forks&type=Repositories',\\\n",
    "        'https://github.com/search?o=desc&p=7&q=stars%3A%3E1&s=forks&type=Repositories','https://github.com/search?o=desc&p=8&q=stars%3A%3E1&s=forks&type=Repositories',\\\n",
    "        'https://github.com/search?o=desc&p=9&q=stars%3A%3E1&s=forks&type=Repositories','https://github.com/search?o=desc&p=10&q=stars%3A%3E1&s=forks&type=Repositories',\\\n",
    "        'https://github.com/search?o=desc&p=11&q=stars%3A%3E1&s=forks&type=Repositories','https://github.com/search?o=desc&p=12&q=stars%3A%3E1&s=forks&type=Repositories']"
   ]
  },
  {
   "cell_type": "code",
   "execution_count": 83,
   "metadata": {},
   "outputs": [],
   "source": [
    "def get_repos(urls):\n",
    "    repo = []\n",
    "    for url in urls:\n",
    "        time.sleep(10)\n",
    "        response = get(url, headers=headers)\n",
    "        soup = BeautifulSoup(response.text)\n",
    "        text = soup.find_all(attrs={\"f4 text-normal\"})\n",
    "        for i in text:\n",
    "            repo.append(i.find('a')['href'])\n",
    "    return repo\n"
   ]
  },
  {
   "cell_type": "code",
   "execution_count": 84,
   "metadata": {},
   "outputs": [],
   "source": [
    "repos = get_repos(g_url)"
   ]
  },
  {
   "cell_type": "code",
   "execution_count": 91,
   "metadata": {},
   "outputs": [
    {
     "data": {
      "text/plain": [
       "['/jtleek/datasharing',\n",
       " '/rdpeng/ProgrammingAssignment2',\n",
       " '/octocat/Spoon-Knife',\n",
       " '/tensorflow/tensorflow',\n",
       " '/SmartThingsCommunity/SmartThingsPublic',\n",
       " '/twbs/bootstrap',\n",
       " '/github/gitignore',\n",
       " '/rdpeng/ExData_Plotting1',\n",
       " '/tensorflow/models',\n",
       " '/nightscout/cgm-remote-monitor',\n",
       " '/facebook/react',\n",
       " '/DataScienceSpecialization/courses',\n",
       " '/angular/angular.js',\n",
       " '/jlord/patchwork',\n",
       " '/barryclark/jekyll-now',\n",
       " '/Snailclimb/JavaGuide',\n",
       " '/firstcontributions/first-contributions',\n",
       " '/bitcoin/bitcoin',\n",
       " '/spring-projects/spring-framework',\n",
       " '/vuejs/vue',\n",
       " '/getify/You-Dont-Know-JS',\n",
       " '/freeCodeCamp/freeCodeCamp',\n",
       " '/kubernetes/kubernetes',\n",
       " '/udacity/frontend-nanodegree-resume',\n",
       " '/mrdoob/three.js',\n",
       " '/TheAlgorithms/Python',\n",
       " '/LarryMad/recipes',\n",
       " '/ant-design/ant-design',\n",
       " '/d3/d3',\n",
       " '/apache/spark',\n",
       " '/DefinitelyTyped/DefinitelyTyped',\n",
       " '/django/django',\n",
       " '/apache/dubbo',\n",
       " '/996icu/996.ICU',\n",
       " '/justjavac/free-programming-books-zh_CN',\n",
       " '/ohmyzsh/ohmyzsh',\n",
       " '/scikit-learn/scikit-learn',\n",
       " '/shadowsocks/shadowsocks',\n",
       " '/facebook/react-native',\n",
       " '/jquery/jquery',\n",
       " '/git/git',\n",
       " '/ansible/ansible',\n",
       " '/PanJiaChen/vue-element-admin',\n",
       " '/facebook/create-react-app',\n",
       " '/slatedocs/slate',\n",
       " '/airbnb/javascript',\n",
       " '/dotnet/AspNetCore.Docs',\n",
       " '/iluwatar/java-design-patterns',\n",
       " '/laravel/laravel',\n",
       " '/rails/rails',\n",
       " '/BVLC/caffe',\n",
       " '/keras-team/keras',\n",
       " '/sindresorhus/awesome',\n",
       " '/kamranahmedse/developer-roadmap',\n",
       " '/donnemartin/system-design-primer',\n",
       " '/nodejs/node',\n",
       " '/antirez/redis',\n",
       " '/elastic/elasticsearch',\n",
       " '/angular/angular',\n",
       " '/moby/moby',\n",
       " '/mui-org/material-ui',\n",
       " '/vinta/awesome-python',\n",
       " '/gabrielecirulli/2048',\n",
       " '/shadowsocks/shadowsocks-windows',\n",
       " '/microsoft/vscode',\n",
       " '/wakaleo/game-of-life',\n",
       " '/macrozheng/mall',\n",
       " '/wesbos/JavaScript30',\n",
       " '/python/cpython',\n",
       " '/hakimel/reveal.js',\n",
       " '/helm/charts',\n",
       " '/atom/atom',\n",
       " '/ColorlibHQ/AdminLTE',\n",
       " '/animate-css/animate.css',\n",
       " '/apache/incubator-echarts',\n",
       " '/xingshaocheng/architect-awesome',\n",
       " '/udacity/course-collaboration-travel-plans',\n",
       " '/aymericdamien/TensorFlow-Examples',\n",
       " '/reduxjs/redux',\n",
       " '/tastejs/todomvc',\n",
       " '/CSSEGISandData/COVID-19',\n",
       " '/pallets/flask',\n",
       " '/ionic-team/ionic',\n",
       " '/qmk/qmk_firmware',\n",
       " '/flutter/flutter',\n",
       " '/pjreddie/darknet',\n",
       " '/odoo/odoo',\n",
       " '/doocs/advanced-java',\n",
       " '/Homebrew/legacy-homebrew',\n",
       " '/selfteaching/the-craft-of-selfteaching',\n",
       " '/jenkins-docs/simple-java-maven-app',\n",
       " '/Trinea/android-open-project',\n",
       " '/trekhleb/javascript-algorithms',\n",
       " '/udacity/fullstack-nanodegree-vm',\n",
       " '/scutan90/DeepLearning-500-questions',\n",
       " '/danielmiessler/SecLists',\n",
       " '/ytdl-org/youtube-dl',\n",
       " '/josephmisiti/awesome-machine-learning',\n",
       " '/protocolbuffers/protobuf',\n",
       " '/netty/netty',\n",
       " '/mmistakes/minimal-mistakes',\n",
       " '/electron/electron',\n",
       " '/233boy/v2ray',\n",
       " '/shadowsocks/shadowsocks-android',\n",
       " '/bailicangdu/vue2-elm',\n",
       " '/h5bp/html5-boilerplate',\n",
       " '/scm-ninja/starter-web',\n",
       " '/ageron/handson-ml',\n",
       " '/FortAwesome/Font-Awesome',\n",
       " '/getlantern/lantern']"
      ]
     },
     "execution_count": 91,
     "metadata": {},
     "output_type": "execute_result"
    }
   ],
   "source": [
    "repos"
   ]
  },
  {
   "cell_type": "code",
   "execution_count": 92,
   "metadata": {},
   "outputs": [
    {
     "name": "stderr",
     "output_type": "stream",
     "text": [
      "/Users/ravindersingh/codeup-data-science/nlp_project/git-language/scraper.py:28: UserWarning: No parser was explicitly specified, so I'm using the best available HTML parser for this system (\"lxml\"). This usually isn't a problem, but if you run this code on another system, or in a different virtual environment, it may use a different parser and behave differently.\n",
      "\n",
      "The code that caused this warning is on line 28 of the file /Users/ravindersingh/codeup-data-science/nlp_project/git-language/scraper.py. To get rid of this warning, pass the additional argument 'features=\"lxml\"' to the BeautifulSoup constructor.\n",
      "\n",
      "  soup = BeautifulSoup(response.text)\n"
     ]
    }
   ],
   "source": [
    "#repos = scraper.get_repos(g_url)"
   ]
  },
  {
   "cell_type": "code",
   "execution_count": 481,
   "metadata": {},
   "outputs": [],
   "source": [
    "f = open('data.json')\n",
    "json_file = json.load(f)"
   ]
  },
  {
   "cell_type": "code",
   "execution_count": 482,
   "metadata": {},
   "outputs": [],
   "source": [
    "df = pd.DataFrame(json_file)"
   ]
  },
  {
   "cell_type": "code",
   "execution_count": 483,
   "metadata": {},
   "outputs": [
    {
     "data": {
      "text/html": [
       "<div>\n",
       "<style scoped>\n",
       "    .dataframe tbody tr th:only-of-type {\n",
       "        vertical-align: middle;\n",
       "    }\n",
       "\n",
       "    .dataframe tbody tr th {\n",
       "        vertical-align: top;\n",
       "    }\n",
       "\n",
       "    .dataframe thead th {\n",
       "        text-align: right;\n",
       "    }\n",
       "</style>\n",
       "<table border=\"1\" class=\"dataframe\">\n",
       "  <thead>\n",
       "    <tr style=\"text-align: right;\">\n",
       "      <th></th>\n",
       "      <th>repo</th>\n",
       "      <th>language</th>\n",
       "      <th>readme_contents</th>\n",
       "    </tr>\n",
       "  </thead>\n",
       "  <tbody>\n",
       "    <tr>\n",
       "      <th>0</th>\n",
       "      <td>jenkins-docs/simple-java-maven-app</td>\n",
       "      <td>Java</td>\n",
       "      <td># simple-java-maven-app\\n\\nThis repository is ...</td>\n",
       "    </tr>\n",
       "    <tr>\n",
       "      <th>1</th>\n",
       "      <td>Trinea/android-open-project</td>\n",
       "      <td>None</td>\n",
       "      <td>Android 开源项目分类汇总，更全更新可见 [codekk.com](https://p...</td>\n",
       "    </tr>\n",
       "    <tr>\n",
       "      <th>2</th>\n",
       "      <td>trekhleb/javascript-algorithms</td>\n",
       "      <td>JavaScript</td>\n",
       "      <td># Algoritmos y Estructuras de Datos en JavaScr...</td>\n",
       "    </tr>\n",
       "    <tr>\n",
       "      <th>3</th>\n",
       "      <td>udacity/fullstack-nanodegree-vm</td>\n",
       "      <td>Python</td>\n",
       "      <td># Full Stack Web Developer Nanodegree program ...</td>\n",
       "    </tr>\n",
       "    <tr>\n",
       "      <th>4</th>\n",
       "      <td>scutan90/DeepLearning-500-questions</td>\n",
       "      <td>None</td>\n",
       "      <td># 禁止转载，禁止转载，禁止转载！\\n# GitHub上非最新内容，最新内容请期待新书。\\n...</td>\n",
       "    </tr>\n",
       "    <tr>\n",
       "      <th>...</th>\n",
       "      <td>...</td>\n",
       "      <td>...</td>\n",
       "      <td>...</td>\n",
       "    </tr>\n",
       "    <tr>\n",
       "      <th>105</th>\n",
       "      <td>pjreddie/darknet</td>\n",
       "      <td>C</td>\n",
       "      <td>![Darknet Logo](http://pjreddie.com/media/file...</td>\n",
       "    </tr>\n",
       "    <tr>\n",
       "      <th>106</th>\n",
       "      <td>odoo/odoo</td>\n",
       "      <td>JavaScript</td>\n",
       "      <td>[![Build Status](http://runbot.odoo.com/runbot...</td>\n",
       "    </tr>\n",
       "    <tr>\n",
       "      <th>107</th>\n",
       "      <td>doocs/advanced-java</td>\n",
       "      <td>Java</td>\n",
       "      <td># 互联网 Java 工程师进阶知识完全扫盲&lt;sup&gt;[©](https://github....</td>\n",
       "    </tr>\n",
       "    <tr>\n",
       "      <th>108</th>\n",
       "      <td>Homebrew/legacy-homebrew</td>\n",
       "      <td>None</td>\n",
       "      <td># Homebrew (Legacy)\\n\\nThis repository was dep...</td>\n",
       "    </tr>\n",
       "    <tr>\n",
       "      <th>109</th>\n",
       "      <td>selfteaching/the-craft-of-selfteaching</td>\n",
       "      <td>Jupyter Notebook</td>\n",
       "      <td># the-craft-of-selfteaching\\n\\n&gt; One has no fu...</td>\n",
       "    </tr>\n",
       "  </tbody>\n",
       "</table>\n",
       "<p>110 rows × 3 columns</p>\n",
       "</div>"
      ],
      "text/plain": [
       "                                       repo          language  \\\n",
       "0        jenkins-docs/simple-java-maven-app              Java   \n",
       "1               Trinea/android-open-project              None   \n",
       "2            trekhleb/javascript-algorithms        JavaScript   \n",
       "3           udacity/fullstack-nanodegree-vm            Python   \n",
       "4       scutan90/DeepLearning-500-questions              None   \n",
       "..                                      ...               ...   \n",
       "105                        pjreddie/darknet                 C   \n",
       "106                               odoo/odoo        JavaScript   \n",
       "107                     doocs/advanced-java              Java   \n",
       "108                Homebrew/legacy-homebrew              None   \n",
       "109  selfteaching/the-craft-of-selfteaching  Jupyter Notebook   \n",
       "\n",
       "                                       readme_contents  \n",
       "0    # simple-java-maven-app\\n\\nThis repository is ...  \n",
       "1    Android 开源项目分类汇总，更全更新可见 [codekk.com](https://p...  \n",
       "2    # Algoritmos y Estructuras de Datos en JavaScr...  \n",
       "3    # Full Stack Web Developer Nanodegree program ...  \n",
       "4    # 禁止转载，禁止转载，禁止转载！\\n# GitHub上非最新内容，最新内容请期待新书。\\n...  \n",
       "..                                                 ...  \n",
       "105  ![Darknet Logo](http://pjreddie.com/media/file...  \n",
       "106  [![Build Status](http://runbot.odoo.com/runbot...  \n",
       "107  # 互联网 Java 工程师进阶知识完全扫盲<sup>[©](https://github....  \n",
       "108  # Homebrew (Legacy)\\n\\nThis repository was dep...  \n",
       "109  # the-craft-of-selfteaching\\n\\n> One has no fu...  \n",
       "\n",
       "[110 rows x 3 columns]"
      ]
     },
     "execution_count": 483,
     "metadata": {},
     "output_type": "execute_result"
    }
   ],
   "source": [
    "df"
   ]
  },
  {
   "cell_type": "code",
   "execution_count": 484,
   "metadata": {},
   "outputs": [
    {
     "name": "stdout",
     "output_type": "stream",
     "text": [
      "<class 'pandas.core.frame.DataFrame'>\n",
      "RangeIndex: 110 entries, 0 to 109\n",
      "Data columns (total 3 columns):\n",
      " #   Column           Non-Null Count  Dtype \n",
      "---  ------           --------------  ----- \n",
      " 0   repo             110 non-null    object\n",
      " 1   language         96 non-null     object\n",
      " 2   readme_contents  110 non-null    object\n",
      "dtypes: object(3)\n",
      "memory usage: 2.7+ KB\n"
     ]
    }
   ],
   "source": [
    "df.info()"
   ]
  },
  {
   "cell_type": "code",
   "execution_count": 485,
   "metadata": {},
   "outputs": [
    {
     "data": {
      "text/plain": [
       "repo                0\n",
       "language           14\n",
       "readme_contents     0\n",
       "dtype: int64"
      ]
     },
     "execution_count": 485,
     "metadata": {},
     "output_type": "execute_result"
    }
   ],
   "source": [
    "df.isnull().sum()"
   ]
  },
  {
   "cell_type": "code",
   "execution_count": 486,
   "metadata": {},
   "outputs": [],
   "source": [
    "df = df.dropna(axis =0)"
   ]
  },
  {
   "cell_type": "code",
   "execution_count": 487,
   "metadata": {},
   "outputs": [
    {
     "name": "stdout",
     "output_type": "stream",
     "text": [
      "<class 'pandas.core.frame.DataFrame'>\n",
      "Int64Index: 96 entries, 0 to 109\n",
      "Data columns (total 3 columns):\n",
      " #   Column           Non-Null Count  Dtype \n",
      "---  ------           --------------  ----- \n",
      " 0   repo             96 non-null     object\n",
      " 1   language         96 non-null     object\n",
      " 2   readme_contents  96 non-null     object\n",
      "dtypes: object(3)\n",
      "memory usage: 3.0+ KB\n"
     ]
    }
   ],
   "source": [
    "df.info()"
   ]
  },
  {
   "cell_type": "code",
   "execution_count": 488,
   "metadata": {},
   "outputs": [],
   "source": [
    "df = df.reset_index(drop = True)"
   ]
  },
  {
   "cell_type": "code",
   "execution_count": 489,
   "metadata": {
    "scrolled": false
   },
   "outputs": [
    {
     "data": {
      "text/plain": [
       "JavaScript          25\n",
       "Python              14\n",
       "Java                 9\n",
       "TypeScript           6\n",
       "CSS                  5\n",
       "HTML                 5\n",
       "C++                  5\n",
       "Go                   4\n",
       "C                    4\n",
       "Jupyter Notebook     3\n",
       "Shell                2\n",
       "C#                   2\n",
       "PHP                  2\n",
       "Vue                  2\n",
       "Scala                1\n",
       "Groovy               1\n",
       "Rust                 1\n",
       "Dart                 1\n",
       "ApacheConf           1\n",
       "R                    1\n",
       "Kotlin               1\n",
       "Ruby                 1\n",
       "Name: language, dtype: int64"
      ]
     },
     "execution_count": 489,
     "metadata": {},
     "output_type": "execute_result"
    }
   ],
   "source": [
    "df.language.value_counts()"
   ]
  },
  {
   "cell_type": "code",
   "execution_count": 490,
   "metadata": {},
   "outputs": [],
   "source": [
    "df['language'] = df.language.replace(['PHP','Shell','Kotlin','Vue','ApacheConf','Jupyter Notebook','R','Groovy',\\\n",
    "                                      'Scala','Rust','C#','Dart','Ruby'], 'Other')"
   ]
  },
  {
   "cell_type": "code",
   "execution_count": 491,
   "metadata": {},
   "outputs": [
    {
     "data": {
      "text/plain": [
       "JavaScript    25\n",
       "Other         19\n",
       "Python        14\n",
       "Java           9\n",
       "TypeScript     6\n",
       "C++            5\n",
       "HTML           5\n",
       "CSS            5\n",
       "Go             4\n",
       "C              4\n",
       "Name: language, dtype: int64"
      ]
     },
     "execution_count": 491,
     "metadata": {},
     "output_type": "execute_result"
    }
   ],
   "source": [
    "df.language.value_counts()"
   ]
  },
  {
   "cell_type": "code",
   "execution_count": 440,
   "metadata": {},
   "outputs": [
    {
     "data": {
      "text/plain": [
       "<matplotlib.axes._subplots.AxesSubplot at 0x1a2e6a14d0>"
      ]
     },
     "execution_count": 440,
     "metadata": {},
     "output_type": "execute_result"
    },
    {
     "data": {
      "image/png": "[encoded data removed]",
      "text/plain": [
       "<Figure size 432x288 with 1 Axes>"
      ]
     },
     "metadata": {
      "needs_background": "light"
     },
     "output_type": "display_data"
    }
   ],
   "source": [
    "# bar plot showing repo counts by language\n",
    "df.language.value_counts().plot.barh()"
   ]
  },
  {
   "cell_type": "code",
   "execution_count": 310,
   "metadata": {},
   "outputs": [],
   "source": [
    "import re\n",
    "import unicodedata\n",
    "import pandas as pd\n",
    "import nltk\n",
    "\n",
    "ADDITIONAL_STOPWORDS = ['r', 'u', '2', 'ltgt']\n",
    "\n",
    "def clean(text):\n",
    "    'A simple function to cleanup text data'\n",
    "    wnl = nltk.stem.WordNetLemmatizer()\n",
    "    stopwords = nltk.corpus.stopwords.words('english') + ADDITIONAL_STOPWORDS\n",
    "    text = (unicodedata.normalize('NFKD', text)\n",
    "             .encode('ascii', 'ignore')\n",
    "             .decode('utf-8', 'ignore')\n",
    "             .lower())\n",
    "    words = re.sub(r'[^\\w\\s]', '', text).split()\n",
    "    return [wnl.lemmatize(word) for word in words if word not in stopwords]\n"
   ]
  },
  {
   "cell_type": "code",
   "execution_count": 441,
   "metadata": {},
   "outputs": [],
   "source": [
    "df = df.drop(columns = ['repo'])"
   ]
  },
  {
   "cell_type": "code",
   "execution_count": 312,
   "metadata": {},
   "outputs": [],
   "source": [
    "df1 = df.readme_contents.groupby(df.language).sum()"
   ]
  },
  {
   "cell_type": "code",
   "execution_count": 313,
   "metadata": {},
   "outputs": [],
   "source": [
    "df1 = pd.DataFrame(df1).reset_index()"
   ]
  },
  {
   "cell_type": "code",
   "execution_count": 314,
   "metadata": {},
   "outputs": [
    {
     "data": {
      "text/html": [
       "<div>\n",
       "<style scoped>\n",
       "    .dataframe tbody tr th:only-of-type {\n",
       "        vertical-align: middle;\n",
       "    }\n",
       "\n",
       "    .dataframe tbody tr th {\n",
       "        vertical-align: top;\n",
       "    }\n",
       "\n",
       "    .dataframe thead th {\n",
       "        text-align: right;\n",
       "    }\n",
       "</style>\n",
       "<table border=\"1\" class=\"dataframe\">\n",
       "  <thead>\n",
       "    <tr style=\"text-align: right;\">\n",
       "      <th></th>\n",
       "      <th>language</th>\n",
       "      <th>readme_contents</th>\n",
       "    </tr>\n",
       "  </thead>\n",
       "  <tbody>\n",
       "    <tr>\n",
       "      <th>0</th>\n",
       "      <td>C</td>\n",
       "      <td>[![Build status](https://github.com/git/git/wo...</td>\n",
       "    </tr>\n",
       "    <tr>\n",
       "      <th>1</th>\n",
       "      <td>C#</td>\n",
       "      <td># ASP.NET Core Docs\\n\\nThis repository contain...</td>\n",
       "    </tr>\n",
       "    <tr>\n",
       "      <th>2</th>\n",
       "      <td>C++</td>\n",
       "      <td>&lt;div align=\"center\"&gt;\\n  &lt;img src=\"https://www....</td>\n",
       "    </tr>\n",
       "    <tr>\n",
       "      <th>3</th>\n",
       "      <td>CSS</td>\n",
       "      <td>&gt; March, 2016: If you're on an old version of ...</td>\n",
       "    </tr>\n",
       "  </tbody>\n",
       "</table>\n",
       "</div>"
      ],
      "text/plain": [
       "  language                                    readme_contents\n",
       "0        C  [![Build status](https://github.com/git/git/wo...\n",
       "1       C#  # ASP.NET Core Docs\\n\\nThis repository contain...\n",
       "2      C++  <div align=\"center\">\\n  <img src=\"https://www....\n",
       "3      CSS  > March, 2016: If you're on an old version of ..."
      ]
     },
     "execution_count": 314,
     "metadata": {},
     "output_type": "execute_result"
    }
   ],
   "source": [
    "df1.head(4)"
   ]
  },
  {
   "cell_type": "code",
   "execution_count": 442,
   "metadata": {},
   "outputs": [],
   "source": [
    "df = prepare_r.prep_contents(df)"
   ]
  },
  {
   "cell_type": "code",
   "execution_count": 443,
   "metadata": {},
   "outputs": [
    {
     "data": {
      "text/html": [
       "<div>\n",
       "<style scoped>\n",
       "    .dataframe tbody tr th:only-of-type {\n",
       "        vertical-align: middle;\n",
       "    }\n",
       "\n",
       "    .dataframe tbody tr th {\n",
       "        vertical-align: top;\n",
       "    }\n",
       "\n",
       "    .dataframe thead th {\n",
       "        text-align: right;\n",
       "    }\n",
       "</style>\n",
       "<table border=\"1\" class=\"dataframe\">\n",
       "  <thead>\n",
       "    <tr style=\"text-align: right;\">\n",
       "      <th></th>\n",
       "      <th>language</th>\n",
       "      <th>readme_contents</th>\n",
       "      <th>cleaned</th>\n",
       "    </tr>\n",
       "  </thead>\n",
       "  <tbody>\n",
       "    <tr>\n",
       "      <th>0</th>\n",
       "      <td>Java</td>\n",
       "      <td># simple-java-maven-app\\n\\nThis repository is ...</td>\n",
       "      <td>simple java maven app repository build java ap...</td>\n",
       "    </tr>\n",
       "    <tr>\n",
       "      <th>1</th>\n",
       "      <td>JavaScript</td>\n",
       "      <td># Algoritmos y Estructuras de Datos en JavaScr...</td>\n",
       "      <td>algoritmos estructuras datos javascript build ...</td>\n",
       "    </tr>\n",
       "    <tr>\n",
       "      <th>2</th>\n",
       "      <td>Python</td>\n",
       "      <td># Full Stack Web Developer Nanodegree program ...</td>\n",
       "      <td>full stack web developer nanodegree program vi...</td>\n",
       "    </tr>\n",
       "    <tr>\n",
       "      <th>3</th>\n",
       "      <td>PHP</td>\n",
       "      <td>![seclists.png](https://danielmiessler.com/ima...</td>\n",
       "      <td>seclists png danielmiessler com image seclists...</td>\n",
       "    </tr>\n",
       "  </tbody>\n",
       "</table>\n",
       "</div>"
      ],
      "text/plain": [
       "     language                                    readme_contents  \\\n",
       "0        Java  # simple-java-maven-app\\n\\nThis repository is ...   \n",
       "1  JavaScript  # Algoritmos y Estructuras de Datos en JavaScr...   \n",
       "2      Python  # Full Stack Web Developer Nanodegree program ...   \n",
       "3         PHP  ![seclists.png](https://danielmiessler.com/ima...   \n",
       "\n",
       "                                             cleaned  \n",
       "0  simple java maven app repository build java ap...  \n",
       "1  algoritmos estructuras datos javascript build ...  \n",
       "2  full stack web developer nanodegree program vi...  \n",
       "3  seclists png danielmiessler com image seclists...  "
      ]
     },
     "execution_count": 443,
     "metadata": {},
     "output_type": "execute_result"
    }
   ],
   "source": [
    "df = df.drop(columns = ['original', 'normalized', 'stemmed', 'lemmatized'])\n",
    "df.head(4)"
   ]
  },
  {
   "cell_type": "code",
   "execution_count": 444,
   "metadata": {
    "scrolled": true
   },
   "outputs": [],
   "source": [
    "df1 = prepare_r.prep_contents(df1)"
   ]
  },
  {
   "cell_type": "code",
   "execution_count": 447,
   "metadata": {},
   "outputs": [],
   "source": [
    "df1 = df1.drop(columns = ['original', 'normalized', 'stemmed', 'lemmatized'])\n"
   ]
  },
  {
   "cell_type": "code",
   "execution_count": null,
   "metadata": {},
   "outputs": [],
   "source": []
  },
  {
   "cell_type": "code",
   "execution_count": 341,
   "metadata": {},
   "outputs": [
    {
     "data": {
      "text/plain": [
       "com           3907\n",
       "org           1087\n",
       "python         844\n",
       "doc            626\n",
       "javascript     598\n",
       "name           569\n",
       "learning       525\n",
       "data           522\n",
       "library        515\n",
       "tensorflow     466\n",
       "html           450\n",
       "code           420\n",
       "machine        418\n",
       "build          405\n",
       "master         403\n",
       "dtype: int64"
      ]
     },
     "execution_count": 341,
     "metadata": {},
     "output_type": "execute_result"
    }
   ],
   "source": [
    "word_counts = pd.Series(\" \".join(df.cleaned).split()).value_counts().head(15)\n",
    "word_counts"
   ]
  },
  {
   "cell_type": "code",
   "execution_count": 342,
   "metadata": {},
   "outputs": [
    {
     "data": {
      "text/plain": [
       "<matplotlib.axes._subplots.AxesSubplot at 0x1a2c4327d0>"
      ]
     },
     "execution_count": 342,
     "metadata": {},
     "output_type": "execute_result"
    },
    {
     "data": {
      "image/png": "[encoded data removed]",
      "text/plain": [
       "<Figure size 720x432 with 1 Axes>"
      ]
     },
     "metadata": {
      "needs_background": "light"
     },
     "output_type": "display_data"
    }
   ],
   "source": [
    "plt.figure(figsize = (10,6))\n",
    "word_counts.plot.barh()"
   ]
  },
  {
   "cell_type": "code",
   "execution_count": 378,
   "metadata": {},
   "outputs": [],
   "source": [
    "#IDF function\n",
    "def idf(word):\n",
    "    n_occurences = sum([1 for doc in df.cleaned if word in doc])\n",
    "    return len(df.cleaned) / n_occurences"
   ]
  },
  {
   "cell_type": "code",
   "execution_count": 350,
   "metadata": {},
   "outputs": [
    {
     "data": {
      "text/plain": [
       "array(['introduction', 'second', 'programming', ..., 'rxtx', 'sctp',\n",
       "       'udt'], dtype=object)"
      ]
     },
     "execution_count": 350,
     "metadata": {},
     "output_type": "execute_result"
    }
   ],
   "source": [
    "#Find unique word list from DF cleaned column\n",
    "unique_words = pd.Series(' '.join(df.cleaned).split()).unique()\n",
    "unique_words"
   ]
  },
  {
   "cell_type": "code",
   "execution_count": 379,
   "metadata": {},
   "outputs": [],
   "source": [
    "# put the unique words into a data frame\n",
    "idf_df = pd.DataFrame(dict(word = unique_words))\\\n",
    ".assign(idf = lambda df: df.word.apply(idf))\\\n",
    ".set_index('word').sort_values(by='idf', ascending = False)"
   ]
  },
  {
   "cell_type": "code",
   "execution_count": 385,
   "metadata": {},
   "outputs": [
    {
     "data": {
      "text/html": [
       "<div>\n",
       "<style scoped>\n",
       "    .dataframe tbody tr th:only-of-type {\n",
       "        vertical-align: middle;\n",
       "    }\n",
       "\n",
       "    .dataframe tbody tr th {\n",
       "        vertical-align: top;\n",
       "    }\n",
       "\n",
       "    .dataframe thead th {\n",
       "        text-align: right;\n",
       "    }\n",
       "</style>\n",
       "<table border=\"1\" class=\"dataframe\">\n",
       "  <thead>\n",
       "    <tr style=\"text-align: right;\">\n",
       "      <th></th>\n",
       "      <th>idf</th>\n",
       "    </tr>\n",
       "    <tr>\n",
       "      <th>word</th>\n",
       "      <th></th>\n",
       "    </tr>\n",
       "  </thead>\n",
       "  <tbody>\n",
       "    <tr>\n",
       "      <th>openjs</th>\n",
       "      <td>86.0</td>\n",
       "    </tr>\n",
       "    <tr>\n",
       "      <th>stackless</th>\n",
       "      <td>86.0</td>\n",
       "    </tr>\n",
       "    <tr>\n",
       "      <th>maratyszcza</th>\n",
       "      <td>86.0</td>\n",
       "    </tr>\n",
       "    <tr>\n",
       "      <th>assembler</th>\n",
       "      <td>86.0</td>\n",
       "    </tr>\n",
       "    <tr>\n",
       "      <th>pyjion</th>\n",
       "      <td>86.0</td>\n",
       "    </tr>\n",
       "    <tr>\n",
       "      <th>coreclr</th>\n",
       "      <td>86.0</td>\n",
       "    </tr>\n",
       "    <tr>\n",
       "      <th>pypy</th>\n",
       "      <td>86.0</td>\n",
       "    </tr>\n",
       "    <tr>\n",
       "      <th>heptapod</th>\n",
       "      <td>86.0</td>\n",
       "    </tr>\n",
       "    <tr>\n",
       "      <th>pyston</th>\n",
       "      <td>86.0</td>\n",
       "    </tr>\n",
       "    <tr>\n",
       "      <th>enhanced</th>\n",
       "      <td>86.0</td>\n",
       "    </tr>\n",
       "  </tbody>\n",
       "</table>\n",
       "</div>"
      ],
      "text/plain": [
       "              idf\n",
       "word             \n",
       "openjs       86.0\n",
       "stackless    86.0\n",
       "maratyszcza  86.0\n",
       "assembler    86.0\n",
       "pyjion       86.0\n",
       "coreclr      86.0\n",
       "pypy         86.0\n",
       "heptapod     86.0\n",
       "pyston       86.0\n",
       "enhanced     86.0"
      ]
     },
     "execution_count": 385,
     "metadata": {},
     "output_type": "execute_result"
    }
   ],
   "source": [
    "idf_df.head(10)"
   ]
  },
  {
   "cell_type": "code",
   "execution_count": 389,
   "metadata": {},
   "outputs": [
    {
     "data": {
      "text/plain": [
       "Text(0.5, 0, 'IDF value')"
      ]
     },
     "execution_count": 389,
     "metadata": {},
     "output_type": "execute_result"
    },
    {
     "data": {
      "image/png": "[encoded data removed]",
      "text/plain": [
       "<Figure size 864x432 with 1 Axes>"
      ]
     },
     "metadata": {
      "needs_background": "light"
     },
     "output_type": "display_data"
    }
   ],
   "source": [
    "idf_df.plot.hist(figsize=(12,6))\n",
    "plt.title('IDF Frequency')\n",
    "plt.xlabel('IDF value')\n"
   ]
  },
  {
   "cell_type": "code",
   "execution_count": 390,
   "metadata": {},
   "outputs": [
    {
     "data": {
      "text/html": [
       "<div>\n",
       "<style scoped>\n",
       "    .dataframe tbody tr th:only-of-type {\n",
       "        vertical-align: middle;\n",
       "    }\n",
       "\n",
       "    .dataframe tbody tr th {\n",
       "        vertical-align: top;\n",
       "    }\n",
       "\n",
       "    .dataframe thead th {\n",
       "        text-align: right;\n",
       "    }\n",
       "</style>\n",
       "<table border=\"1\" class=\"dataframe\">\n",
       "  <thead>\n",
       "    <tr style=\"text-align: right;\">\n",
       "      <th></th>\n",
       "      <th>language</th>\n",
       "      <th>readme_contents</th>\n",
       "      <th>cleaned</th>\n",
       "    </tr>\n",
       "  </thead>\n",
       "  <tbody>\n",
       "    <tr>\n",
       "      <th>0</th>\n",
       "      <td>R</td>\n",
       "      <td>### Introduction\\n\\nThis second programming as...</td>\n",
       "      <td>introduction second programming assignment req...</td>\n",
       "    </tr>\n",
       "    <tr>\n",
       "      <th>1</th>\n",
       "      <td>HTML</td>\n",
       "      <td>### Well hello there!\\n\\nThis repository is me...</td>\n",
       "      <td>well hello repository meant provide example fo...</td>\n",
       "    </tr>\n",
       "    <tr>\n",
       "      <th>2</th>\n",
       "      <td>C++</td>\n",
       "      <td>&lt;div align=\"center\"&gt;\\n  &lt;img src=\"https://www....</td>\n",
       "      <td>div align center img src tensorflow org image ...</td>\n",
       "    </tr>\n",
       "    <tr>\n",
       "      <th>3</th>\n",
       "      <td>Groovy</td>\n",
       "      <td># SmartThings Public GitHub Repo\\n\\nAn officia...</td>\n",
       "      <td>smartthings public repo official list smartapp...</td>\n",
       "    </tr>\n",
       "    <tr>\n",
       "      <th>4</th>\n",
       "      <td>JavaScript</td>\n",
       "      <td>&lt;p align=\"center\"&gt;\\n  &lt;a href=\"https://getboot...</td>\n",
       "      <td>align center href getbootstrap com img src get...</td>\n",
       "    </tr>\n",
       "    <tr>\n",
       "      <th>...</th>\n",
       "      <td>...</td>\n",
       "      <td>...</td>\n",
       "      <td>...</td>\n",
       "    </tr>\n",
       "    <tr>\n",
       "      <th>81</th>\n",
       "      <td>PHP</td>\n",
       "      <td>![seclists.png](https://danielmiessler.com/ima...</td>\n",
       "      <td>seclists png danielmiessler com image seclists...</td>\n",
       "    </tr>\n",
       "    <tr>\n",
       "      <th>82</th>\n",
       "      <td>Python</td>\n",
       "      <td>[![Build Status](https://travis-ci.org/ytdl-or...</td>\n",
       "      <td>build status travis org ytdl org youtube svg b...</td>\n",
       "    </tr>\n",
       "    <tr>\n",
       "      <th>83</th>\n",
       "      <td>Python</td>\n",
       "      <td># Awesome Machine Learning [![Awesome](https:/...</td>\n",
       "      <td>awesome machine learning awesome cdn rawgit co...</td>\n",
       "    </tr>\n",
       "    <tr>\n",
       "      <th>84</th>\n",
       "      <td>C++</td>\n",
       "      <td>Protocol Buffers - Google's data interchange f...</td>\n",
       "      <td>protocol buffer google data interchange format...</td>\n",
       "    </tr>\n",
       "    <tr>\n",
       "      <th>85</th>\n",
       "      <td>Java</td>\n",
       "      <td># Netty Project\\n\\nNetty is an asynchronous ev...</td>\n",
       "      <td>netty project netty asynchronous event driven ...</td>\n",
       "    </tr>\n",
       "  </tbody>\n",
       "</table>\n",
       "<p>86 rows × 3 columns</p>\n",
       "</div>"
      ],
      "text/plain": [
       "      language                                    readme_contents  \\\n",
       "0            R  ### Introduction\\n\\nThis second programming as...   \n",
       "1         HTML  ### Well hello there!\\n\\nThis repository is me...   \n",
       "2          C++  <div align=\"center\">\\n  <img src=\"https://www....   \n",
       "3       Groovy  # SmartThings Public GitHub Repo\\n\\nAn officia...   \n",
       "4   JavaScript  <p align=\"center\">\\n  <a href=\"https://getboot...   \n",
       "..         ...                                                ...   \n",
       "81         PHP  ![seclists.png](https://danielmiessler.com/ima...   \n",
       "82      Python  [![Build Status](https://travis-ci.org/ytdl-or...   \n",
       "83      Python  # Awesome Machine Learning [![Awesome](https:/...   \n",
       "84         C++  Protocol Buffers - Google's data interchange f...   \n",
       "85        Java  # Netty Project\\n\\nNetty is an asynchronous ev...   \n",
       "\n",
       "                                              cleaned  \n",
       "0   introduction second programming assignment req...  \n",
       "1   well hello repository meant provide example fo...  \n",
       "2   div align center img src tensorflow org image ...  \n",
       "3   smartthings public repo official list smartapp...  \n",
       "4   align center href getbootstrap com img src get...  \n",
       "..                                                ...  \n",
       "81  seclists png danielmiessler com image seclists...  \n",
       "82  build status travis org ytdl org youtube svg b...  \n",
       "83  awesome machine learning awesome cdn rawgit co...  \n",
       "84  protocol buffer google data interchange format...  \n",
       "85  netty project netty asynchronous event driven ...  \n",
       "\n",
       "[86 rows x 3 columns]"
      ]
     },
     "execution_count": 390,
     "metadata": {},
     "output_type": "execute_result"
    }
   ],
   "source": [
    "df"
   ]
  },
  {
   "cell_type": "code",
   "execution_count": 404,
   "metadata": {},
   "outputs": [],
   "source": [
    "# here we create a new column with number of words for each readme file.\n",
    "df['readme_words'] = df['cleaned'].apply(lambda x: len(x.split()))"
   ]
  },
  {
   "cell_type": "code",
   "execution_count": 412,
   "metadata": {},
   "outputs": [
    {
     "data": {
      "text/html": [
       "<div>\n",
       "<style scoped>\n",
       "    .dataframe tbody tr th:only-of-type {\n",
       "        vertical-align: middle;\n",
       "    }\n",
       "\n",
       "    .dataframe tbody tr th {\n",
       "        vertical-align: top;\n",
       "    }\n",
       "\n",
       "    .dataframe thead th {\n",
       "        text-align: right;\n",
       "    }\n",
       "</style>\n",
       "<table border=\"1\" class=\"dataframe\">\n",
       "  <thead>\n",
       "    <tr style=\"text-align: right;\">\n",
       "      <th></th>\n",
       "      <th>language</th>\n",
       "      <th>readme_contents</th>\n",
       "      <th>cleaned</th>\n",
       "      <th>readme_words</th>\n",
       "    </tr>\n",
       "  </thead>\n",
       "  <tbody>\n",
       "    <tr>\n",
       "      <th>0</th>\n",
       "      <td>R</td>\n",
       "      <td>### Introduction\\n\\nThis second programming as...</td>\n",
       "      <td>introduction second programming assignment req...</td>\n",
       "      <td>319</td>\n",
       "    </tr>\n",
       "    <tr>\n",
       "      <th>1</th>\n",
       "      <td>HTML</td>\n",
       "      <td>### Well hello there!\\n\\nThis repository is me...</td>\n",
       "      <td>well hello repository meant provide example fo...</td>\n",
       "      <td>68</td>\n",
       "    </tr>\n",
       "    <tr>\n",
       "      <th>2</th>\n",
       "      <td>C++</td>\n",
       "      <td>&lt;div align=\"center\"&gt;\\n  &lt;img src=\"https://www....</td>\n",
       "      <td>div align center img src tensorflow org image ...</td>\n",
       "      <td>1177</td>\n",
       "    </tr>\n",
       "    <tr>\n",
       "      <th>3</th>\n",
       "      <td>Groovy</td>\n",
       "      <td># SmartThings Public GitHub Repo\\n\\nAn officia...</td>\n",
       "      <td>smartthings public repo official list smartapp...</td>\n",
       "      <td>51</td>\n",
       "    </tr>\n",
       "  </tbody>\n",
       "</table>\n",
       "</div>"
      ],
      "text/plain": [
       "  language                                    readme_contents  \\\n",
       "0        R  ### Introduction\\n\\nThis second programming as...   \n",
       "1     HTML  ### Well hello there!\\n\\nThis repository is me...   \n",
       "2      C++  <div align=\"center\">\\n  <img src=\"https://www....   \n",
       "3   Groovy  # SmartThings Public GitHub Repo\\n\\nAn officia...   \n",
       "\n",
       "                                             cleaned  readme_words  \n",
       "0  introduction second programming assignment req...           319  \n",
       "1  well hello repository meant provide example fo...            68  \n",
       "2  div align center img src tensorflow org image ...          1177  \n",
       "3  smartthings public repo official list smartapp...            51  "
      ]
     },
     "execution_count": 412,
     "metadata": {},
     "output_type": "execute_result"
    }
   ],
   "source": [
    "df.head(4)"
   ]
  },
  {
   "cell_type": "code",
   "execution_count": 411,
   "metadata": {},
   "outputs": [
    {
     "data": {
      "text/plain": [
       "(array([ 0,  1,  2,  3,  4,  5,  6,  7,  8,  9, 10, 11, 12, 13, 14, 15, 16,\n",
       "        17, 18, 19]),\n",
       " <a list of 20 Text xticklabel objects>)"
      ]
     },
     "execution_count": 411,
     "metadata": {},
     "output_type": "execute_result"
    },
    {
     "data": {
      "image/png": "[encoded data removed]",
      "text/plain": [
       "<Figure size 864x432 with 1 Axes>"
      ]
     },
     "metadata": {
      "needs_background": "light"
     },
     "output_type": "display_data"
    }
   ],
   "source": [
    "plt.figure(figsize = (12,6))\n",
    "sns.boxplot(x = 'language', y = 'readme_words', data = df)\n",
    "plt.xticks(rotation = 90)"
   ]
  },
  {
   "cell_type": "markdown",
   "metadata": {},
   "source": [
    "#### It seems like the median length of readme file is not very different between languages. Python however seems to have much bigger spread"
   ]
  },
  {
   "cell_type": "code",
   "execution_count": 428,
   "metadata": {},
   "outputs": [
    {
     "data": {
      "text/html": [
       "<div>\n",
       "<style scoped>\n",
       "    .dataframe tbody tr th:only-of-type {\n",
       "        vertical-align: middle;\n",
       "    }\n",
       "\n",
       "    .dataframe tbody tr th {\n",
       "        vertical-align: top;\n",
       "    }\n",
       "\n",
       "    .dataframe thead th {\n",
       "        text-align: right;\n",
       "    }\n",
       "</style>\n",
       "<table border=\"1\" class=\"dataframe\">\n",
       "  <thead>\n",
       "    <tr style=\"text-align: right;\">\n",
       "      <th></th>\n",
       "      <th>language</th>\n",
       "      <th>readme_contents</th>\n",
       "      <th>cleaned</th>\n",
       "    </tr>\n",
       "  </thead>\n",
       "  <tbody>\n",
       "    <tr>\n",
       "      <th>0</th>\n",
       "      <td>C</td>\n",
       "      <td>[![Build status](https://github.com/git/git/wo...</td>\n",
       "      <td>build status com git git workflow badge svg co...</td>\n",
       "    </tr>\n",
       "    <tr>\n",
       "      <th>1</th>\n",
       "      <td>C#</td>\n",
       "      <td># ASP.NET Core Docs\\n\\nThis repository contain...</td>\n",
       "      <td>asp net core doc repository contains conceptua...</td>\n",
       "    </tr>\n",
       "    <tr>\n",
       "      <th>2</th>\n",
       "      <td>C++</td>\n",
       "      <td>&lt;div align=\"center\"&gt;\\n  &lt;img src=\"https://www....</td>\n",
       "      <td>div align center img src tensorflow org image ...</td>\n",
       "    </tr>\n",
       "    <tr>\n",
       "      <th>3</th>\n",
       "      <td>CSS</td>\n",
       "      <td>&gt; March, 2016: If you're on an old version of ...</td>\n",
       "      <td>march old version jekyll run build warning syn...</td>\n",
       "    </tr>\n",
       "    <tr>\n",
       "      <th>4</th>\n",
       "      <td>Dart</td>\n",
       "      <td># [![Flutter logo][]][flutter.dev]\\n\\n[![Build...</td>\n",
       "      <td>flutter logo flutter dev build status cirrus b...</td>\n",
       "    </tr>\n",
       "    <tr>\n",
       "      <th>5</th>\n",
       "      <td>Go</td>\n",
       "      <td># Kubernetes\\n\\n[![GoDoc Widget]][GoDoc] [![CI...</td>\n",
       "      <td>kubernetes godoc widget godoc cii best practic...</td>\n",
       "    </tr>\n",
       "    <tr>\n",
       "      <th>6</th>\n",
       "      <td>Groovy</td>\n",
       "      <td># SmartThings Public GitHub Repo\\n\\nAn officia...</td>\n",
       "      <td>smartthings public repo official list smartapp...</td>\n",
       "    </tr>\n",
       "    <tr>\n",
       "      <th>7</th>\n",
       "      <td>HTML</td>\n",
       "      <td>### Well hello there!\\n\\nThis repository is me...</td>\n",
       "      <td>well hello repository meant provide example fo...</td>\n",
       "    </tr>\n",
       "    <tr>\n",
       "      <th>8</th>\n",
       "      <td>Java</td>\n",
       "      <td>&gt; JavaGuide 的Star数量虽然比较多，但是它的价值和含金量一定是不能和 Dubb...</td>\n",
       "      <td>javaguide star dubbonacos java javaguide doc j...</td>\n",
       "    </tr>\n",
       "    <tr>\n",
       "      <th>9</th>\n",
       "      <td>JavaScript</td>\n",
       "      <td>&lt;p align=\"center\"&gt;\\n  &lt;a href=\"https://getboot...</td>\n",
       "      <td>align center href getbootstrap com img src get...</td>\n",
       "    </tr>\n",
       "    <tr>\n",
       "      <th>10</th>\n",
       "      <td>Jupyter Notebook</td>\n",
       "      <td># TensorFlow Examples\\n\\nThis tutorial was des...</td>\n",
       "      <td>tensorflow example tutorial wa designed easily...</td>\n",
       "    </tr>\n",
       "    <tr>\n",
       "      <th>11</th>\n",
       "      <td>PHP</td>\n",
       "      <td>&lt;p align=\"center\"&gt;&lt;img src=\"https://res.cloudi...</td>\n",
       "      <td>align center img src cloudinary com dtfbvvkyp ...</td>\n",
       "    </tr>\n",
       "    <tr>\n",
       "      <th>12</th>\n",
       "      <td>Python</td>\n",
       "      <td>![Logo](https://storage.googleapis.com/model_g...</td>\n",
       "      <td>logo storage googleapis com model garden artif...</td>\n",
       "    </tr>\n",
       "    <tr>\n",
       "      <th>13</th>\n",
       "      <td>R</td>\n",
       "      <td>### Introduction\\n\\nThis second programming as...</td>\n",
       "      <td>introduction second programming assignment req...</td>\n",
       "    </tr>\n",
       "    <tr>\n",
       "      <th>14</th>\n",
       "      <td>Ruby</td>\n",
       "      <td># Welcome to Rails\\n\\n## What's Rails?\\n\\nRail...</td>\n",
       "      <td>welcome rail rail rail web application framewo...</td>\n",
       "    </tr>\n",
       "    <tr>\n",
       "      <th>15</th>\n",
       "      <td>Rust</td>\n",
       "      <td>[996.ICU](https://996.icu/#/en_US)\\n=======\\n*...</td>\n",
       "      <td>icu icu please note exists official account ap...</td>\n",
       "    </tr>\n",
       "    <tr>\n",
       "      <th>16</th>\n",
       "      <td>Scala</td>\n",
       "      <td># Apache Spark\\n\\nSpark is a unified analytics...</td>\n",
       "      <td>apache spark spark unified analytics engine la...</td>\n",
       "    </tr>\n",
       "    <tr>\n",
       "      <th>17</th>\n",
       "      <td>Shell</td>\n",
       "      <td>&lt;p align=\"center\"&gt;\\n  &lt;img src=\"https://s3.ama...</td>\n",
       "      <td>align center img src amazonaws com ohmyzsh zsh...</td>\n",
       "    </tr>\n",
       "    <tr>\n",
       "      <th>18</th>\n",
       "      <td>TypeScript</td>\n",
       "      <td>&lt;p align=\"center\"&gt;\\n  &lt;a href=\"https://ant.des...</td>\n",
       "      <td>align center href ant design img width src ali...</td>\n",
       "    </tr>\n",
       "    <tr>\n",
       "      <th>19</th>\n",
       "      <td>Vue</td>\n",
       "      <td>&lt;p align=\"center\"&gt;\\n  &lt;img width=\"320\" src=\"ht...</td>\n",
       "      <td>align center img width src wpimg wallstcn com ...</td>\n",
       "    </tr>\n",
       "  </tbody>\n",
       "</table>\n",
       "</div>"
      ],
      "text/plain": [
       "            language                                    readme_contents  \\\n",
       "0                  C  [![Build status](https://github.com/git/git/wo...   \n",
       "1                 C#  # ASP.NET Core Docs\\n\\nThis repository contain...   \n",
       "2                C++  <div align=\"center\">\\n  <img src=\"https://www....   \n",
       "3                CSS  > March, 2016: If you're on an old version of ...   \n",
       "4               Dart  # [![Flutter logo][]][flutter.dev]\\n\\n[![Build...   \n",
       "5                 Go  # Kubernetes\\n\\n[![GoDoc Widget]][GoDoc] [![CI...   \n",
       "6             Groovy  # SmartThings Public GitHub Repo\\n\\nAn officia...   \n",
       "7               HTML  ### Well hello there!\\n\\nThis repository is me...   \n",
       "8               Java  > JavaGuide 的Star数量虽然比较多，但是它的价值和含金量一定是不能和 Dubb...   \n",
       "9         JavaScript  <p align=\"center\">\\n  <a href=\"https://getboot...   \n",
       "10  Jupyter Notebook  # TensorFlow Examples\\n\\nThis tutorial was des...   \n",
       "11               PHP  <p align=\"center\"><img src=\"https://res.cloudi...   \n",
       "12            Python  ![Logo](https://storage.googleapis.com/model_g...   \n",
       "13                 R  ### Introduction\\n\\nThis second programming as...   \n",
       "14              Ruby  # Welcome to Rails\\n\\n## What's Rails?\\n\\nRail...   \n",
       "15              Rust  [996.ICU](https://996.icu/#/en_US)\\n=======\\n*...   \n",
       "16             Scala  # Apache Spark\\n\\nSpark is a unified analytics...   \n",
       "17             Shell  <p align=\"center\">\\n  <img src=\"https://s3.ama...   \n",
       "18        TypeScript  <p align=\"center\">\\n  <a href=\"https://ant.des...   \n",
       "19               Vue  <p align=\"center\">\\n  <img width=\"320\" src=\"ht...   \n",
       "\n",
       "                                              cleaned  \n",
       "0   build status com git git workflow badge svg co...  \n",
       "1   asp net core doc repository contains conceptua...  \n",
       "2   div align center img src tensorflow org image ...  \n",
       "3   march old version jekyll run build warning syn...  \n",
       "4   flutter logo flutter dev build status cirrus b...  \n",
       "5   kubernetes godoc widget godoc cii best practic...  \n",
       "6   smartthings public repo official list smartapp...  \n",
       "7   well hello repository meant provide example fo...  \n",
       "8   javaguide star dubbonacos java javaguide doc j...  \n",
       "9   align center href getbootstrap com img src get...  \n",
       "10  tensorflow example tutorial wa designed easily...  \n",
       "11  align center img src cloudinary com dtfbvvkyp ...  \n",
       "12  logo storage googleapis com model garden artif...  \n",
       "13  introduction second programming assignment req...  \n",
       "14  welcome rail rail rail web application framewo...  \n",
       "15  icu icu please note exists official account ap...  \n",
       "16  apache spark spark unified analytics engine la...  \n",
       "17  align center img src amazonaws com ohmyzsh zsh...  \n",
       "18  align center href ant design img width src ali...  \n",
       "19  align center img width src wpimg wallstcn com ...  "
      ]
     },
     "execution_count": 428,
     "metadata": {},
     "output_type": "execute_result"
    }
   ],
   "source": [
    "df1"
   ]
  },
  {
   "cell_type": "code",
   "execution_count": null,
   "metadata": {},
   "outputs": [],
   "source": [
    "def words_():\n",
    "    "
   ]
  },
  {
   "cell_type": "code",
   "execution_count": null,
   "metadata": {},
   "outputs": [],
   "source": []
  }
 ],
 "metadata": {
  "kernelspec": {
   "display_name": "Python 3",
   "language": "python",
   "name": "python3"
  },
  "language_info": {
   "codemirror_mode": {
    "name": "ipython",
    "version": 3
   },
   "file_extension": ".py",
   "mimetype": "text/x-python",
   "name": "python",
   "nbconvert_exporter": "python",
   "pygments_lexer": "ipython3",
   "version": "3.7.6"
  }
 },
 "nbformat": 4,
 "nbformat_minor": 4
}
