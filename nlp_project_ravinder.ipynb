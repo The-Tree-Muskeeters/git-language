{
 "cells": [
  {
   "cell_type": "code",
   "execution_count": 47,
   "metadata": {},
   "outputs": [],
   "source": [
    "from requests import get\n",
    "from bs4 import BeautifulSoup\n",
    "import os\n",
    "import re\n",
    "from env import github_token, github_username\n",
    "import scraper\n",
    "import acquire_r\n",
    "import pandas as pd\n",
    "import json\n",
    "import seaborn as sns\n",
    "import time\n",
    "import prepare_r\n",
    "import matplotlib.pyplot as plt\n",
    "from sklearn.model_selection import train_test_split\n",
    "from sklearn.linear_model import LogisticRegression\n",
    "from sklearn.metrics import classification_report, accuracy_score\n",
    "from wordcloud import WordCloud\n",
    "import nltk"
   ]
  },
  {
   "cell_type": "code",
   "execution_count": 2,
   "metadata": {},
   "outputs": [],
   "source": [
    "headers = {\"Authorization\": f\"token {github_token}\", \"User-Agent\": github_username}\n",
    "\n",
    "if headers[\"Authorization\"] == \"token \" or headers[\"User-Agent\"] == \"\":\n",
    "    raise Exception(\n",
    "        \"You need to follow the instructions marked TODO in this script before trying to use it\"\n",
    "    )"
   ]
  },
  {
   "cell_type": "code",
   "execution_count": 79,
   "metadata": {},
   "outputs": [],
   "source": [
    "# List of urls to scrape\n",
    "g_url = ['https://github.com/search?o=desc&p=1&q=stars%3A%3E1&s=forks&type=Repositories', ' https://github.com/search?o=desc&p=2&q=stars%3A%3E1&s=forks&type=Repositories'\\\n",
    "         'https://github.com/search?o=desc&p=3&q=stars%3A%3E1&s=forks&type=Repositories', 'https://github.com/search?o=desc&p=4&q=stars%3A%3E1&s=forks&type=Repositories',\\\n",
    "         'https://github.com/search?o=desc&p=5&q=stars%3A%3E1&s=forks&type=Repositories','https://github.com/search?o=desc&p=6&q=stars%3A%3E1&s=forks&type=Repositories',\\\n",
    "        'https://github.com/search?o=desc&p=7&q=stars%3A%3E1&s=forks&type=Repositories','https://github.com/search?o=desc&p=8&q=stars%3A%3E1&s=forks&type=Repositories',\\\n",
    "        'https://github.com/search?o=desc&p=9&q=stars%3A%3E1&s=forks&type=Repositories','https://github.com/search?o=desc&p=10&q=stars%3A%3E1&s=forks&type=Repositories',\\\n",
    "        'https://github.com/search?o=desc&p=11&q=stars%3A%3E1&s=forks&type=Repositories','https://github.com/search?o=desc&p=12&q=stars%3A%3E1&s=forks&type=Repositories']"
   ]
  },
  {
   "cell_type": "code",
   "execution_count": 83,
   "metadata": {},
   "outputs": [],
   "source": [
    "def get_repos(urls):\n",
    "    repo = []\n",
    "    for url in urls:\n",
    "        time.sleep(10)\n",
    "        response = get(url, headers=headers)\n",
    "        soup = BeautifulSoup(response.text)\n",
    "        text = soup.find_all(attrs={\"f4 text-normal\"})\n",
    "        for i in text:\n",
    "            repo.append(i.find('a')['href'])\n",
    "    return repo\n"
   ]
  },
  {
   "cell_type": "code",
   "execution_count": 84,
   "metadata": {},
   "outputs": [],
   "source": [
    "repos = get_repos(g_url)"
   ]
  },
  {
   "cell_type": "code",
   "execution_count": 91,
   "metadata": {},
   "outputs": [
    {
     "data": {
      "text/plain": [
       "['/jtleek/datasharing',\n",
       " '/rdpeng/ProgrammingAssignment2',\n",
       " '/octocat/Spoon-Knife',\n",
       " '/tensorflow/tensorflow',\n",
       " '/SmartThingsCommunity/SmartThingsPublic',\n",
       " '/twbs/bootstrap',\n",
       " '/github/gitignore',\n",
       " '/rdpeng/ExData_Plotting1',\n",
       " '/tensorflow/models',\n",
       " '/nightscout/cgm-remote-monitor',\n",
       " '/facebook/react',\n",
       " '/DataScienceSpecialization/courses',\n",
       " '/angular/angular.js',\n",
       " '/jlord/patchwork',\n",
       " '/barryclark/jekyll-now',\n",
       " '/Snailclimb/JavaGuide',\n",
       " '/firstcontributions/first-contributions',\n",
       " '/bitcoin/bitcoin',\n",
       " '/spring-projects/spring-framework',\n",
       " '/vuejs/vue',\n",
       " '/getify/You-Dont-Know-JS',\n",
       " '/freeCodeCamp/freeCodeCamp',\n",
       " '/kubernetes/kubernetes',\n",
       " '/udacity/frontend-nanodegree-resume',\n",
       " '/mrdoob/three.js',\n",
       " '/TheAlgorithms/Python',\n",
       " '/LarryMad/recipes',\n",
       " '/ant-design/ant-design',\n",
       " '/d3/d3',\n",
       " '/apache/spark',\n",
       " '/DefinitelyTyped/DefinitelyTyped',\n",
       " '/django/django',\n",
       " '/apache/dubbo',\n",
       " '/996icu/996.ICU',\n",
       " '/justjavac/free-programming-books-zh_CN',\n",
       " '/ohmyzsh/ohmyzsh',\n",
       " '/scikit-learn/scikit-learn',\n",
       " '/shadowsocks/shadowsocks',\n",
       " '/facebook/react-native',\n",
       " '/jquery/jquery',\n",
       " '/git/git',\n",
       " '/ansible/ansible',\n",
       " '/PanJiaChen/vue-element-admin',\n",
       " '/facebook/create-react-app',\n",
       " '/slatedocs/slate',\n",
       " '/airbnb/javascript',\n",
       " '/dotnet/AspNetCore.Docs',\n",
       " '/iluwatar/java-design-patterns',\n",
       " '/laravel/laravel',\n",
       " '/rails/rails',\n",
       " '/BVLC/caffe',\n",
       " '/keras-team/keras',\n",
       " '/sindresorhus/awesome',\n",
       " '/kamranahmedse/developer-roadmap',\n",
       " '/donnemartin/system-design-primer',\n",
       " '/nodejs/node',\n",
       " '/antirez/redis',\n",
       " '/elastic/elasticsearch',\n",
       " '/angular/angular',\n",
       " '/moby/moby',\n",
       " '/mui-org/material-ui',\n",
       " '/vinta/awesome-python',\n",
       " '/gabrielecirulli/2048',\n",
       " '/shadowsocks/shadowsocks-windows',\n",
       " '/microsoft/vscode',\n",
       " '/wakaleo/game-of-life',\n",
       " '/macrozheng/mall',\n",
       " '/wesbos/JavaScript30',\n",
       " '/python/cpython',\n",
       " '/hakimel/reveal.js',\n",
       " '/helm/charts',\n",
       " '/atom/atom',\n",
       " '/ColorlibHQ/AdminLTE',\n",
       " '/animate-css/animate.css',\n",
       " '/apache/incubator-echarts',\n",
       " '/xingshaocheng/architect-awesome',\n",
       " '/udacity/course-collaboration-travel-plans',\n",
       " '/aymericdamien/TensorFlow-Examples',\n",
       " '/reduxjs/redux',\n",
       " '/tastejs/todomvc',\n",
       " '/CSSEGISandData/COVID-19',\n",
       " '/pallets/flask',\n",
       " '/ionic-team/ionic',\n",
       " '/qmk/qmk_firmware',\n",
       " '/flutter/flutter',\n",
       " '/pjreddie/darknet',\n",
       " '/odoo/odoo',\n",
       " '/doocs/advanced-java',\n",
       " '/Homebrew/legacy-homebrew',\n",
       " '/selfteaching/the-craft-of-selfteaching',\n",
       " '/jenkins-docs/simple-java-maven-app',\n",
       " '/Trinea/android-open-project',\n",
       " '/trekhleb/javascript-algorithms',\n",
       " '/udacity/fullstack-nanodegree-vm',\n",
       " '/scutan90/DeepLearning-500-questions',\n",
       " '/danielmiessler/SecLists',\n",
       " '/ytdl-org/youtube-dl',\n",
       " '/josephmisiti/awesome-machine-learning',\n",
       " '/protocolbuffers/protobuf',\n",
       " '/netty/netty',\n",
       " '/mmistakes/minimal-mistakes',\n",
       " '/electron/electron',\n",
       " '/233boy/v2ray',\n",
       " '/shadowsocks/shadowsocks-android',\n",
       " '/bailicangdu/vue2-elm',\n",
       " '/h5bp/html5-boilerplate',\n",
       " '/scm-ninja/starter-web',\n",
       " '/ageron/handson-ml',\n",
       " '/FortAwesome/Font-Awesome',\n",
       " '/getlantern/lantern']"
      ]
     },
     "execution_count": 91,
     "metadata": {},
     "output_type": "execute_result"
    }
   ],
   "source": [
    "repos"
   ]
  },
  {
   "cell_type": "code",
   "execution_count": 92,
   "metadata": {},
   "outputs": [
    {
     "name": "stderr",
     "output_type": "stream",
     "text": [
      "/Users/ravindersingh/codeup-data-science/nlp_project/git-language/scraper.py:28: UserWarning: No parser was explicitly specified, so I'm using the best available HTML parser for this system (\"lxml\"). This usually isn't a problem, but if you run this code on another system, or in a different virtual environment, it may use a different parser and behave differently.\n",
      "\n",
      "The code that caused this warning is on line 28 of the file /Users/ravindersingh/codeup-data-science/nlp_project/git-language/scraper.py. To get rid of this warning, pass the additional argument 'features=\"lxml\"' to the BeautifulSoup constructor.\n",
      "\n",
      "  soup = BeautifulSoup(response.text)\n"
     ]
    }
   ],
   "source": [
    "#repos = scraper.get_repos(g_url)"
   ]
  },
  {
   "cell_type": "code",
   "execution_count": 2,
   "metadata": {},
   "outputs": [],
   "source": [
    "f = open('data.json')\n",
    "json_file = json.load(f)"
   ]
  },
  {
   "cell_type": "code",
   "execution_count": 3,
   "metadata": {},
   "outputs": [],
   "source": [
    "df = pd.DataFrame(json_file)"
   ]
  },
  {
   "cell_type": "code",
   "execution_count": 4,
   "metadata": {},
   "outputs": [
    {
     "data": {
      "text/html": [
       "<div>\n",
       "<style scoped>\n",
       "    .dataframe tbody tr th:only-of-type {\n",
       "        vertical-align: middle;\n",
       "    }\n",
       "\n",
       "    .dataframe tbody tr th {\n",
       "        vertical-align: top;\n",
       "    }\n",
       "\n",
       "    .dataframe thead th {\n",
       "        text-align: right;\n",
       "    }\n",
       "</style>\n",
       "<table border=\"1\" class=\"dataframe\">\n",
       "  <thead>\n",
       "    <tr style=\"text-align: right;\">\n",
       "      <th></th>\n",
       "      <th>repo</th>\n",
       "      <th>language</th>\n",
       "      <th>readme_contents</th>\n",
       "    </tr>\n",
       "  </thead>\n",
       "  <tbody>\n",
       "    <tr>\n",
       "      <th>0</th>\n",
       "      <td>jenkins-docs/simple-java-maven-app</td>\n",
       "      <td>Java</td>\n",
       "      <td># simple-java-maven-app\\n\\nThis repository is ...</td>\n",
       "    </tr>\n",
       "    <tr>\n",
       "      <th>1</th>\n",
       "      <td>Trinea/android-open-project</td>\n",
       "      <td>None</td>\n",
       "      <td>Android 开源项目分类汇总，更全更新可见 [codekk.com](https://p...</td>\n",
       "    </tr>\n",
       "    <tr>\n",
       "      <th>2</th>\n",
       "      <td>trekhleb/javascript-algorithms</td>\n",
       "      <td>JavaScript</td>\n",
       "      <td># Algoritmos y Estructuras de Datos en JavaScr...</td>\n",
       "    </tr>\n",
       "    <tr>\n",
       "      <th>3</th>\n",
       "      <td>udacity/fullstack-nanodegree-vm</td>\n",
       "      <td>Python</td>\n",
       "      <td># Full Stack Web Developer Nanodegree program ...</td>\n",
       "    </tr>\n",
       "    <tr>\n",
       "      <th>4</th>\n",
       "      <td>scutan90/DeepLearning-500-questions</td>\n",
       "      <td>None</td>\n",
       "      <td># 禁止转载，禁止转载，禁止转载！\\n# GitHub上非最新内容，最新内容请期待新书。\\n...</td>\n",
       "    </tr>\n",
       "    <tr>\n",
       "      <th>...</th>\n",
       "      <td>...</td>\n",
       "      <td>...</td>\n",
       "      <td>...</td>\n",
       "    </tr>\n",
       "    <tr>\n",
       "      <th>105</th>\n",
       "      <td>pjreddie/darknet</td>\n",
       "      <td>C</td>\n",
       "      <td>![Darknet Logo](http://pjreddie.com/media/file...</td>\n",
       "    </tr>\n",
       "    <tr>\n",
       "      <th>106</th>\n",
       "      <td>odoo/odoo</td>\n",
       "      <td>JavaScript</td>\n",
       "      <td>[![Build Status](http://runbot.odoo.com/runbot...</td>\n",
       "    </tr>\n",
       "    <tr>\n",
       "      <th>107</th>\n",
       "      <td>doocs/advanced-java</td>\n",
       "      <td>Java</td>\n",
       "      <td># 互联网 Java 工程师进阶知识完全扫盲&lt;sup&gt;[©](https://github....</td>\n",
       "    </tr>\n",
       "    <tr>\n",
       "      <th>108</th>\n",
       "      <td>Homebrew/legacy-homebrew</td>\n",
       "      <td>None</td>\n",
       "      <td># Homebrew (Legacy)\\n\\nThis repository was dep...</td>\n",
       "    </tr>\n",
       "    <tr>\n",
       "      <th>109</th>\n",
       "      <td>selfteaching/the-craft-of-selfteaching</td>\n",
       "      <td>Jupyter Notebook</td>\n",
       "      <td># the-craft-of-selfteaching\\n\\n&gt; One has no fu...</td>\n",
       "    </tr>\n",
       "  </tbody>\n",
       "</table>\n",
       "<p>110 rows × 3 columns</p>\n",
       "</div>"
      ],
      "text/plain": [
       "                                       repo          language  \\\n",
       "0        jenkins-docs/simple-java-maven-app              Java   \n",
       "1               Trinea/android-open-project              None   \n",
       "2            trekhleb/javascript-algorithms        JavaScript   \n",
       "3           udacity/fullstack-nanodegree-vm            Python   \n",
       "4       scutan90/DeepLearning-500-questions              None   \n",
       "..                                      ...               ...   \n",
       "105                        pjreddie/darknet                 C   \n",
       "106                               odoo/odoo        JavaScript   \n",
       "107                     doocs/advanced-java              Java   \n",
       "108                Homebrew/legacy-homebrew              None   \n",
       "109  selfteaching/the-craft-of-selfteaching  Jupyter Notebook   \n",
       "\n",
       "                                       readme_contents  \n",
       "0    # simple-java-maven-app\\n\\nThis repository is ...  \n",
       "1    Android 开源项目分类汇总，更全更新可见 [codekk.com](https://p...  \n",
       "2    # Algoritmos y Estructuras de Datos en JavaScr...  \n",
       "3    # Full Stack Web Developer Nanodegree program ...  \n",
       "4    # 禁止转载，禁止转载，禁止转载！\\n# GitHub上非最新内容，最新内容请期待新书。\\n...  \n",
       "..                                                 ...  \n",
       "105  ![Darknet Logo](http://pjreddie.com/media/file...  \n",
       "106  [![Build Status](http://runbot.odoo.com/runbot...  \n",
       "107  # 互联网 Java 工程师进阶知识完全扫盲<sup>[©](https://github....  \n",
       "108  # Homebrew (Legacy)\\n\\nThis repository was dep...  \n",
       "109  # the-craft-of-selfteaching\\n\\n> One has no fu...  \n",
       "\n",
       "[110 rows x 3 columns]"
      ]
     },
     "execution_count": 4,
     "metadata": {},
     "output_type": "execute_result"
    }
   ],
   "source": [
    "df"
   ]
  },
  {
   "cell_type": "code",
   "execution_count": 5,
   "metadata": {},
   "outputs": [
    {
     "name": "stdout",
     "output_type": "stream",
     "text": [
      "<class 'pandas.core.frame.DataFrame'>\n",
      "RangeIndex: 110 entries, 0 to 109\n",
      "Data columns (total 3 columns):\n",
      " #   Column           Non-Null Count  Dtype \n",
      "---  ------           --------------  ----- \n",
      " 0   repo             110 non-null    object\n",
      " 1   language         96 non-null     object\n",
      " 2   readme_contents  110 non-null    object\n",
      "dtypes: object(3)\n",
      "memory usage: 2.7+ KB\n"
     ]
    }
   ],
   "source": [
    "df.info()"
   ]
  },
  {
   "cell_type": "code",
   "execution_count": 6,
   "metadata": {},
   "outputs": [
    {
     "data": {
      "text/plain": [
       "repo                0\n",
       "language           14\n",
       "readme_contents     0\n",
       "dtype: int64"
      ]
     },
     "execution_count": 6,
     "metadata": {},
     "output_type": "execute_result"
    }
   ],
   "source": [
    "df.isnull().sum()"
   ]
  },
  {
   "cell_type": "code",
   "execution_count": 7,
   "metadata": {},
   "outputs": [],
   "source": [
    "df = df.dropna(axis =0)"
   ]
  },
  {
   "cell_type": "code",
   "execution_count": 8,
   "metadata": {},
   "outputs": [
    {
     "name": "stdout",
     "output_type": "stream",
     "text": [
      "<class 'pandas.core.frame.DataFrame'>\n",
      "Int64Index: 96 entries, 0 to 109\n",
      "Data columns (total 3 columns):\n",
      " #   Column           Non-Null Count  Dtype \n",
      "---  ------           --------------  ----- \n",
      " 0   repo             96 non-null     object\n",
      " 1   language         96 non-null     object\n",
      " 2   readme_contents  96 non-null     object\n",
      "dtypes: object(3)\n",
      "memory usage: 3.0+ KB\n"
     ]
    }
   ],
   "source": [
    "df.info()"
   ]
  },
  {
   "cell_type": "code",
   "execution_count": 9,
   "metadata": {},
   "outputs": [],
   "source": [
    "df = df.reset_index(drop = True)"
   ]
  },
  {
   "cell_type": "code",
   "execution_count": 10,
   "metadata": {
    "scrolled": false
   },
   "outputs": [
    {
     "data": {
      "text/plain": [
       "JavaScript          25\n",
       "Python              14\n",
       "Java                 9\n",
       "TypeScript           6\n",
       "C++                  5\n",
       "CSS                  5\n",
       "HTML                 5\n",
       "C                    4\n",
       "Go                   4\n",
       "Jupyter Notebook     3\n",
       "Vue                  2\n",
       "C#                   2\n",
       "Shell                2\n",
       "PHP                  2\n",
       "Scala                1\n",
       "ApacheConf           1\n",
       "Kotlin               1\n",
       "Rust                 1\n",
       "Ruby                 1\n",
       "Groovy               1\n",
       "Dart                 1\n",
       "R                    1\n",
       "Name: language, dtype: int64"
      ]
     },
     "execution_count": 10,
     "metadata": {},
     "output_type": "execute_result"
    }
   ],
   "source": [
    "df.language.value_counts()"
   ]
  },
  {
   "cell_type": "code",
   "execution_count": 11,
   "metadata": {},
   "outputs": [],
   "source": [
    "df['language'] = df.language.replace(['PHP','Shell','Kotlin','Vue','ApacheConf','Jupyter Notebook','R','Groovy',\\\n",
    "                                      'Scala','Rust','C#','Dart','Ruby'], 'Other')"
   ]
  },
  {
   "cell_type": "code",
   "execution_count": 12,
   "metadata": {},
   "outputs": [
    {
     "data": {
      "text/plain": [
       "JavaScript    25\n",
       "Other         19\n",
       "Python        14\n",
       "Java           9\n",
       "TypeScript     6\n",
       "CSS            5\n",
       "C++            5\n",
       "HTML           5\n",
       "Go             4\n",
       "C              4\n",
       "Name: language, dtype: int64"
      ]
     },
     "execution_count": 12,
     "metadata": {},
     "output_type": "execute_result"
    }
   ],
   "source": [
    "df.language.value_counts()"
   ]
  },
  {
   "cell_type": "code",
   "execution_count": 13,
   "metadata": {},
   "outputs": [
    {
     "data": {
      "text/plain": [
       "<matplotlib.axes._subplots.AxesSubplot at 0x1a1cf4ced0>"
      ]
     },
     "execution_count": 13,
     "metadata": {},
     "output_type": "execute_result"
    },
    {
     "data": {
      "image/png": "[encoded data removed]",
      "text/plain": [
       "<Figure size 432x288 with 1 Axes>"
      ]
     },
     "metadata": {
      "needs_background": "light"
     },
     "output_type": "display_data"
    }
   ],
   "source": [
    "# bar plot showing repo counts by language\n",
    "df.language.value_counts().plot.barh()"
   ]
  },
  {
   "cell_type": "code",
   "execution_count": 14,
   "metadata": {},
   "outputs": [],
   "source": [
    "df = df.drop(columns = ['repo'])"
   ]
  },
  {
   "cell_type": "code",
   "execution_count": 15,
   "metadata": {},
   "outputs": [
    {
     "data": {
      "text/html": [
       "<div>\n",
       "<style scoped>\n",
       "    .dataframe tbody tr th:only-of-type {\n",
       "        vertical-align: middle;\n",
       "    }\n",
       "\n",
       "    .dataframe tbody tr th {\n",
       "        vertical-align: top;\n",
       "    }\n",
       "\n",
       "    .dataframe thead th {\n",
       "        text-align: right;\n",
       "    }\n",
       "</style>\n",
       "<table border=\"1\" class=\"dataframe\">\n",
       "  <thead>\n",
       "    <tr style=\"text-align: right;\">\n",
       "      <th></th>\n",
       "      <th>language</th>\n",
       "      <th>readme_contents</th>\n",
       "    </tr>\n",
       "  </thead>\n",
       "  <tbody>\n",
       "    <tr>\n",
       "      <th>0</th>\n",
       "      <td>Java</td>\n",
       "      <td># simple-java-maven-app\\n\\nThis repository is ...</td>\n",
       "    </tr>\n",
       "    <tr>\n",
       "      <th>1</th>\n",
       "      <td>JavaScript</td>\n",
       "      <td># Algoritmos y Estructuras de Datos en JavaScr...</td>\n",
       "    </tr>\n",
       "    <tr>\n",
       "      <th>2</th>\n",
       "      <td>Python</td>\n",
       "      <td># Full Stack Web Developer Nanodegree program ...</td>\n",
       "    </tr>\n",
       "    <tr>\n",
       "      <th>3</th>\n",
       "      <td>Other</td>\n",
       "      <td>![seclists.png](https://danielmiessler.com/ima...</td>\n",
       "    </tr>\n",
       "  </tbody>\n",
       "</table>\n",
       "</div>"
      ],
      "text/plain": [
       "     language                                    readme_contents\n",
       "0        Java  # simple-java-maven-app\\n\\nThis repository is ...\n",
       "1  JavaScript  # Algoritmos y Estructuras de Datos en JavaScr...\n",
       "2      Python  # Full Stack Web Developer Nanodegree program ...\n",
       "3       Other  ![seclists.png](https://danielmiessler.com/ima..."
      ]
     },
     "execution_count": 15,
     "metadata": {},
     "output_type": "execute_result"
    }
   ],
   "source": [
    "df.head(4)"
   ]
  },
  {
   "cell_type": "code",
   "execution_count": 16,
   "metadata": {},
   "outputs": [],
   "source": [
    "y = df.language\n",
    "X = df.readme_contents\n",
    "train, test = train_test_split(df, stratify=df.language, test_size=.2, random_state=123)"
   ]
  },
  {
   "cell_type": "code",
   "execution_count": 17,
   "metadata": {},
   "outputs": [
    {
     "data": {
      "text/html": [
       "<div>\n",
       "<style scoped>\n",
       "    .dataframe tbody tr th:only-of-type {\n",
       "        vertical-align: middle;\n",
       "    }\n",
       "\n",
       "    .dataframe tbody tr th {\n",
       "        vertical-align: top;\n",
       "    }\n",
       "\n",
       "    .dataframe thead th {\n",
       "        text-align: right;\n",
       "    }\n",
       "</style>\n",
       "<table border=\"1\" class=\"dataframe\">\n",
       "  <thead>\n",
       "    <tr style=\"text-align: right;\">\n",
       "      <th></th>\n",
       "      <th>language</th>\n",
       "      <th>readme_contents</th>\n",
       "    </tr>\n",
       "  </thead>\n",
       "  <tbody>\n",
       "    <tr>\n",
       "      <th>81</th>\n",
       "      <td>JavaScript</td>\n",
       "      <td># Introduction\\n\\n[![npm version](https://img....</td>\n",
       "    </tr>\n",
       "    <tr>\n",
       "      <th>2</th>\n",
       "      <td>Python</td>\n",
       "      <td># Full Stack Web Developer Nanodegree program ...</td>\n",
       "    </tr>\n",
       "    <tr>\n",
       "      <th>92</th>\n",
       "      <td>C</td>\n",
       "      <td>![Darknet Logo](http://pjreddie.com/media/file...</td>\n",
       "    </tr>\n",
       "    <tr>\n",
       "      <th>58</th>\n",
       "      <td>Java</td>\n",
       "      <td>&lt;!-- the line below needs to be an empty line ...</td>\n",
       "    </tr>\n",
       "    <tr>\n",
       "      <th>39</th>\n",
       "      <td>TypeScript</td>\n",
       "      <td>&lt;p align=\"center\"&gt;\\n  &lt;a href=\"https://ant.des...</td>\n",
       "    </tr>\n",
       "    <tr>\n",
       "      <th>...</th>\n",
       "      <td>...</td>\n",
       "      <td>...</td>\n",
       "    </tr>\n",
       "    <tr>\n",
       "      <th>83</th>\n",
       "      <td>JavaScript</td>\n",
       "      <td># ECharts\\n\\n&lt;a href=\"https://echarts.apache.o...</td>\n",
       "    </tr>\n",
       "    <tr>\n",
       "      <th>95</th>\n",
       "      <td>Other</td>\n",
       "      <td># the-craft-of-selfteaching\\n\\n&gt; One has no fu...</td>\n",
       "    </tr>\n",
       "    <tr>\n",
       "      <th>51</th>\n",
       "      <td>C</td>\n",
       "      <td>[![Build status](https://github.com/git/git/wo...</td>\n",
       "    </tr>\n",
       "    <tr>\n",
       "      <th>30</th>\n",
       "      <td>Java</td>\n",
       "      <td>&gt; JavaGuide 的Star数量虽然比较多，但是它的价值和含金量一定是不能和 Dubb...</td>\n",
       "    </tr>\n",
       "    <tr>\n",
       "      <th>79</th>\n",
       "      <td>Go</td>\n",
       "      <td># Helm Charts\\n\\nThe canonical source for Helm...</td>\n",
       "    </tr>\n",
       "  </tbody>\n",
       "</table>\n",
       "<p>76 rows × 2 columns</p>\n",
       "</div>"
      ],
      "text/plain": [
       "      language                                    readme_contents\n",
       "81  JavaScript  # Introduction\\n\\n[![npm version](https://img....\n",
       "2       Python  # Full Stack Web Developer Nanodegree program ...\n",
       "92           C  ![Darknet Logo](http://pjreddie.com/media/file...\n",
       "58        Java  <!-- the line below needs to be an empty line ...\n",
       "39  TypeScript  <p align=\"center\">\\n  <a href=\"https://ant.des...\n",
       "..         ...                                                ...\n",
       "83  JavaScript  # ECharts\\n\\n<a href=\"https://echarts.apache.o...\n",
       "95       Other  # the-craft-of-selfteaching\\n\\n> One has no fu...\n",
       "51           C  [![Build status](https://github.com/git/git/wo...\n",
       "30        Java  > JavaGuide 的Star数量虽然比较多，但是它的价值和含金量一定是不能和 Dubb...\n",
       "79          Go  # Helm Charts\\n\\nThe canonical source for Helm...\n",
       "\n",
       "[76 rows x 2 columns]"
      ]
     },
     "execution_count": 17,
     "metadata": {},
     "output_type": "execute_result"
    }
   ],
   "source": [
    "train"
   ]
  },
  {
   "cell_type": "code",
   "execution_count": 18,
   "metadata": {},
   "outputs": [],
   "source": [
    "train1 = train.readme_contents.groupby(train.language).sum()"
   ]
  },
  {
   "cell_type": "code",
   "execution_count": 19,
   "metadata": {},
   "outputs": [],
   "source": [
    "train1 = pd.DataFrame(train1).reset_index()"
   ]
  },
  {
   "cell_type": "code",
   "execution_count": 20,
   "metadata": {},
   "outputs": [
    {
     "data": {
      "text/html": [
       "<div>\n",
       "<style scoped>\n",
       "    .dataframe tbody tr th:only-of-type {\n",
       "        vertical-align: middle;\n",
       "    }\n",
       "\n",
       "    .dataframe tbody tr th {\n",
       "        vertical-align: top;\n",
       "    }\n",
       "\n",
       "    .dataframe thead th {\n",
       "        text-align: right;\n",
       "    }\n",
       "</style>\n",
       "<table border=\"1\" class=\"dataframe\">\n",
       "  <thead>\n",
       "    <tr style=\"text-align: right;\">\n",
       "      <th></th>\n",
       "      <th>language</th>\n",
       "      <th>readme_contents</th>\n",
       "    </tr>\n",
       "  </thead>\n",
       "  <tbody>\n",
       "    <tr>\n",
       "      <th>0</th>\n",
       "      <td>C</td>\n",
       "      <td>![Darknet Logo](http://pjreddie.com/media/file...</td>\n",
       "    </tr>\n",
       "    <tr>\n",
       "      <th>1</th>\n",
       "      <td>C++</td>\n",
       "      <td>Bitcoin Core integration/staging tree\\n=======...</td>\n",
       "    </tr>\n",
       "    <tr>\n",
       "      <th>2</th>\n",
       "      <td>CSS</td>\n",
       "      <td># [Minimal Mistakes Jekyll theme](https://mmis...</td>\n",
       "    </tr>\n",
       "    <tr>\n",
       "      <th>3</th>\n",
       "      <td>Go</td>\n",
       "      <td>## 蓝灯(Lantern)最新版本下载 版本![](https://bitbucket.o...</td>\n",
       "    </tr>\n",
       "  </tbody>\n",
       "</table>\n",
       "</div>"
      ],
      "text/plain": [
       "  language                                    readme_contents\n",
       "0        C  ![Darknet Logo](http://pjreddie.com/media/file...\n",
       "1      C++  Bitcoin Core integration/staging tree\\n=======...\n",
       "2      CSS  # [Minimal Mistakes Jekyll theme](https://mmis...\n",
       "3       Go  ## 蓝灯(Lantern)最新版本下载 版本![](https://bitbucket.o..."
      ]
     },
     "execution_count": 20,
     "metadata": {},
     "output_type": "execute_result"
    }
   ],
   "source": [
    "train1.head(4)"
   ]
  },
  {
   "cell_type": "code",
   "execution_count": 21,
   "metadata": {},
   "outputs": [],
   "source": [
    "train = prepare_r.prep_contents(train)"
   ]
  },
  {
   "cell_type": "code",
   "execution_count": 22,
   "metadata": {},
   "outputs": [
    {
     "data": {
      "text/html": [
       "<div>\n",
       "<style scoped>\n",
       "    .dataframe tbody tr th:only-of-type {\n",
       "        vertical-align: middle;\n",
       "    }\n",
       "\n",
       "    .dataframe tbody tr th {\n",
       "        vertical-align: top;\n",
       "    }\n",
       "\n",
       "    .dataframe thead th {\n",
       "        text-align: right;\n",
       "    }\n",
       "</style>\n",
       "<table border=\"1\" class=\"dataframe\">\n",
       "  <thead>\n",
       "    <tr style=\"text-align: right;\">\n",
       "      <th></th>\n",
       "      <th>language</th>\n",
       "      <th>readme_contents</th>\n",
       "      <th>cleaned</th>\n",
       "    </tr>\n",
       "  </thead>\n",
       "  <tbody>\n",
       "    <tr>\n",
       "      <th>81</th>\n",
       "      <td>JavaScript</td>\n",
       "      <td># Introduction\\n\\n[![npm version](https://img....</td>\n",
       "      <td>introduction npm version img shield npm admin ...</td>\n",
       "    </tr>\n",
       "    <tr>\n",
       "      <th>2</th>\n",
       "      <td>Python</td>\n",
       "      <td># Full Stack Web Developer Nanodegree program ...</td>\n",
       "      <td>full stack web developer nanodegree program vi...</td>\n",
       "    </tr>\n",
       "    <tr>\n",
       "      <th>92</th>\n",
       "      <td>C</td>\n",
       "      <td>![Darknet Logo](http://pjreddie.com/media/file...</td>\n",
       "      <td>darknet logo pjreddie com medium file darknet ...</td>\n",
       "    </tr>\n",
       "    <tr>\n",
       "      <th>58</th>\n",
       "      <td>Java</td>\n",
       "      <td>&lt;!-- the line below needs to be an empty line ...</td>\n",
       "      <td>line need empty line kramdown isnt smart dearl...</td>\n",
       "    </tr>\n",
       "  </tbody>\n",
       "</table>\n",
       "</div>"
      ],
      "text/plain": [
       "      language                                    readme_contents  \\\n",
       "81  JavaScript  # Introduction\\n\\n[![npm version](https://img....   \n",
       "2       Python  # Full Stack Web Developer Nanodegree program ...   \n",
       "92           C  ![Darknet Logo](http://pjreddie.com/media/file...   \n",
       "58        Java  <!-- the line below needs to be an empty line ...   \n",
       "\n",
       "                                              cleaned  \n",
       "81  introduction npm version img shield npm admin ...  \n",
       "2   full stack web developer nanodegree program vi...  \n",
       "92  darknet logo pjreddie com medium file darknet ...  \n",
       "58  line need empty line kramdown isnt smart dearl...  "
      ]
     },
     "execution_count": 22,
     "metadata": {},
     "output_type": "execute_result"
    }
   ],
   "source": [
    "train = train.drop(columns = ['original', 'normalized', 'stemmed', 'lemmatized'])\n",
    "train.head(4)"
   ]
  },
  {
   "cell_type": "code",
   "execution_count": 23,
   "metadata": {
    "scrolled": true
   },
   "outputs": [],
   "source": [
    "train1 = prepare_r.prep_contents(train1)"
   ]
  },
  {
   "cell_type": "code",
   "execution_count": 24,
   "metadata": {},
   "outputs": [],
   "source": [
    "train1 = train1.drop(columns = ['original', 'normalized', 'stemmed', 'lemmatized'])\n"
   ]
  },
  {
   "cell_type": "code",
   "execution_count": 25,
   "metadata": {},
   "outputs": [
    {
     "data": {
      "text/plain": [
       "com           3305\n",
       "org            903\n",
       "python         829\n",
       "javascript     592\n",
       "doc            564\n",
       "name           554\n",
       "learning       519\n",
       "library        504\n",
       "data           500\n",
       "machine        412\n",
       "html           404\n",
       "code           392\n",
       "use            377\n",
       "example        367\n",
       "function       357\n",
       "dtype: int64"
      ]
     },
     "execution_count": 25,
     "metadata": {},
     "output_type": "execute_result"
    }
   ],
   "source": [
    "word_counts = pd.Series(\" \".join(train.cleaned).split()).value_counts().head(15)\n",
    "word_counts"
   ]
  },
  {
   "cell_type": "code",
   "execution_count": 26,
   "metadata": {},
   "outputs": [
    {
     "data": {
      "text/plain": [
       "<matplotlib.axes._subplots.AxesSubplot at 0x1a22f8e290>"
      ]
     },
     "execution_count": 26,
     "metadata": {},
     "output_type": "execute_result"
    },
    {
     "data": {
      "image/png": "[encoded data removed]",
      "text/plain": [
       "<Figure size 720x432 with 1 Axes>"
      ]
     },
     "metadata": {
      "needs_background": "light"
     },
     "output_type": "display_data"
    }
   ],
   "source": [
    "plt.figure(figsize = (10,6))\n",
    "word_counts.plot.barh()"
   ]
  },
  {
   "cell_type": "code",
   "execution_count": 27,
   "metadata": {},
   "outputs": [],
   "source": [
    "#IDF function\n",
    "def idf(word):\n",
    "    n_occurences = sum([1 for doc in train.cleaned if word in doc])\n",
    "    return len(train.cleaned) / n_occurences"
   ]
  },
  {
   "cell_type": "code",
   "execution_count": 28,
   "metadata": {},
   "outputs": [
    {
     "data": {
      "text/plain": [
       "array(['introduction', 'npm', 'version', ..., 'gcr', 'quay',\n",
       "       'cloudnativeapp'], dtype=object)"
      ]
     },
     "execution_count": 28,
     "metadata": {},
     "output_type": "execute_result"
    }
   ],
   "source": [
    "#Find unique word list from DF cleaned column\n",
    "unique_words = pd.Series(' '.join(train.cleaned).split()).unique()\n",
    "unique_words"
   ]
  },
  {
   "cell_type": "code",
   "execution_count": 29,
   "metadata": {},
   "outputs": [],
   "source": [
    "# put the unique words into a data frame\n",
    "idf_train = pd.DataFrame(dict(word = unique_words))\\\n",
    ".assign(idf = lambda train: train.word.apply(idf))\\\n",
    ".set_index('word').sort_values(by='idf', ascending = False)"
   ]
  },
  {
   "cell_type": "code",
   "execution_count": 32,
   "metadata": {},
   "outputs": [
    {
     "data": {
      "text/html": [
       "<div>\n",
       "<style scoped>\n",
       "    .dataframe tbody tr th:only-of-type {\n",
       "        vertical-align: middle;\n",
       "    }\n",
       "\n",
       "    .dataframe tbody tr th {\n",
       "        vertical-align: top;\n",
       "    }\n",
       "\n",
       "    .dataframe thead th {\n",
       "        text-align: right;\n",
       "    }\n",
       "</style>\n",
       "<table border=\"1\" class=\"dataframe\">\n",
       "  <thead>\n",
       "    <tr style=\"text-align: right;\">\n",
       "      <th></th>\n",
       "      <th>idf</th>\n",
       "    </tr>\n",
       "    <tr>\n",
       "      <th>word</th>\n",
       "      <th></th>\n",
       "    </tr>\n",
       "  </thead>\n",
       "  <tbody>\n",
       "    <tr>\n",
       "      <th>cloudnativeapp</th>\n",
       "      <td>76.0</td>\n",
       "    </tr>\n",
       "    <tr>\n",
       "      <th>association</th>\n",
       "      <td>76.0</td>\n",
       "    </tr>\n",
       "    <tr>\n",
       "      <th>hazard</th>\n",
       "      <td>76.0</td>\n",
       "    </tr>\n",
       "    <tr>\n",
       "      <th>additive</th>\n",
       "      <td>76.0</td>\n",
       "    </tr>\n",
       "    <tr>\n",
       "      <th>semiparametric</th>\n",
       "      <td>76.0</td>\n",
       "    </tr>\n",
       "    <tr>\n",
       "      <th>aizvorski</th>\n",
       "      <td>76.0</td>\n",
       "    </tr>\n",
       "    <tr>\n",
       "      <th>cran</th>\n",
       "      <td>76.0</td>\n",
       "    </tr>\n",
       "    <tr>\n",
       "      <th>ahaz</th>\n",
       "      <td>76.0</td>\n",
       "    </tr>\n",
       "    <tr>\n",
       "      <th>compressing</th>\n",
       "      <td>76.0</td>\n",
       "    </tr>\n",
       "    <tr>\n",
       "      <th>organising</th>\n",
       "      <td>76.0</td>\n",
       "    </tr>\n",
       "  </tbody>\n",
       "</table>\n",
       "</div>"
      ],
      "text/plain": [
       "                 idf\n",
       "word                \n",
       "cloudnativeapp  76.0\n",
       "association     76.0\n",
       "hazard          76.0\n",
       "additive        76.0\n",
       "semiparametric  76.0\n",
       "aizvorski       76.0\n",
       "cran            76.0\n",
       "ahaz            76.0\n",
       "compressing     76.0\n",
       "organising      76.0"
      ]
     },
     "execution_count": 32,
     "metadata": {},
     "output_type": "execute_result"
    }
   ],
   "source": [
    "idf_train.head(10)"
   ]
  },
  {
   "cell_type": "code",
   "execution_count": 34,
   "metadata": {},
   "outputs": [
    {
     "data": {
      "text/plain": [
       "Text(0.5, 0, 'IDF value')"
      ]
     },
     "execution_count": 34,
     "metadata": {},
     "output_type": "execute_result"
    },
    {
     "data": {
      "image/png": "[encoded data removed]",
      "text/plain": [
       "<Figure size 864x432 with 1 Axes>"
      ]
     },
     "metadata": {
      "needs_background": "light"
     },
     "output_type": "display_data"
    }
   ],
   "source": [
    "idf_train.plot.hist(figsize=(12,6))\n",
    "plt.title('IDF Frequency')\n",
    "plt.xlabel('IDF value')\n"
   ]
  },
  {
   "cell_type": "code",
   "execution_count": 35,
   "metadata": {},
   "outputs": [],
   "source": [
    "# here we create a new column with number of words for each readme file.\n",
    "train['readme_words'] = train['cleaned'].apply(lambda x: len(x.split()))"
   ]
  },
  {
   "cell_type": "code",
   "execution_count": 36,
   "metadata": {},
   "outputs": [
    {
     "data": {
      "text/html": [
       "<div>\n",
       "<style scoped>\n",
       "    .dataframe tbody tr th:only-of-type {\n",
       "        vertical-align: middle;\n",
       "    }\n",
       "\n",
       "    .dataframe tbody tr th {\n",
       "        vertical-align: top;\n",
       "    }\n",
       "\n",
       "    .dataframe thead th {\n",
       "        text-align: right;\n",
       "    }\n",
       "</style>\n",
       "<table border=\"1\" class=\"dataframe\">\n",
       "  <thead>\n",
       "    <tr style=\"text-align: right;\">\n",
       "      <th></th>\n",
       "      <th>language</th>\n",
       "      <th>readme_contents</th>\n",
       "      <th>cleaned</th>\n",
       "      <th>readme_words</th>\n",
       "    </tr>\n",
       "  </thead>\n",
       "  <tbody>\n",
       "    <tr>\n",
       "      <th>81</th>\n",
       "      <td>JavaScript</td>\n",
       "      <td># Introduction\\n\\n[![npm version](https://img....</td>\n",
       "      <td>introduction npm version img shield npm admin ...</td>\n",
       "      <td>382</td>\n",
       "    </tr>\n",
       "    <tr>\n",
       "      <th>2</th>\n",
       "      <td>Python</td>\n",
       "      <td># Full Stack Web Developer Nanodegree program ...</td>\n",
       "      <td>full stack web developer nanodegree program vi...</td>\n",
       "      <td>815</td>\n",
       "    </tr>\n",
       "    <tr>\n",
       "      <th>92</th>\n",
       "      <td>C</td>\n",
       "      <td>![Darknet Logo](http://pjreddie.com/media/file...</td>\n",
       "      <td>darknet logo pjreddie com medium file darknet ...</td>\n",
       "      <td>75</td>\n",
       "    </tr>\n",
       "    <tr>\n",
       "      <th>58</th>\n",
       "      <td>Java</td>\n",
       "      <td>&lt;!-- the line below needs to be an empty line ...</td>\n",
       "      <td>line need empty line kramdown isnt smart dearl...</td>\n",
       "      <td>294</td>\n",
       "    </tr>\n",
       "    <tr>\n",
       "      <th>39</th>\n",
       "      <td>TypeScript</td>\n",
       "      <td>&lt;p align=\"center\"&gt;\\n  &lt;a href=\"https://ant.des...</td>\n",
       "      <td>align center href ant design img width src ali...</td>\n",
       "      <td>1363</td>\n",
       "    </tr>\n",
       "    <tr>\n",
       "      <th>...</th>\n",
       "      <td>...</td>\n",
       "      <td>...</td>\n",
       "      <td>...</td>\n",
       "      <td>...</td>\n",
       "    </tr>\n",
       "    <tr>\n",
       "      <th>83</th>\n",
       "      <td>JavaScript</td>\n",
       "      <td># ECharts\\n\\n&lt;a href=\"https://echarts.apache.o...</td>\n",
       "      <td>echarts href echarts apache org img style vert...</td>\n",
       "      <td>462</td>\n",
       "    </tr>\n",
       "    <tr>\n",
       "      <th>95</th>\n",
       "      <td>Other</td>\n",
       "      <td># the-craft-of-selfteaching\\n\\n&gt; One has no fu...</td>\n",
       "      <td>craft selfteaching one ha future one teach the...</td>\n",
       "      <td>387</td>\n",
       "    </tr>\n",
       "    <tr>\n",
       "      <th>51</th>\n",
       "      <td>C</td>\n",
       "      <td>[![Build status](https://github.com/git/git/wo...</td>\n",
       "      <td>build status com git git workflow badge svg co...</td>\n",
       "      <td>318</td>\n",
       "    </tr>\n",
       "    <tr>\n",
       "      <th>30</th>\n",
       "      <td>Java</td>\n",
       "      <td>&gt; JavaGuide 的Star数量虽然比较多，但是它的价值和含金量一定是不能和 Dubb...</td>\n",
       "      <td>javaguide star dubbonacos java javaguide doc j...</td>\n",
       "      <td>1174</td>\n",
       "    </tr>\n",
       "    <tr>\n",
       "      <th>79</th>\n",
       "      <td>Go</td>\n",
       "      <td># Helm Charts\\n\\nThe canonical source for Helm...</td>\n",
       "      <td>helm chart canonical source helm chart helm hu...</td>\n",
       "      <td>885</td>\n",
       "    </tr>\n",
       "  </tbody>\n",
       "</table>\n",
       "<p>76 rows × 4 columns</p>\n",
       "</div>"
      ],
      "text/plain": [
       "      language                                    readme_contents  \\\n",
       "81  JavaScript  # Introduction\\n\\n[![npm version](https://img....   \n",
       "2       Python  # Full Stack Web Developer Nanodegree program ...   \n",
       "92           C  ![Darknet Logo](http://pjreddie.com/media/file...   \n",
       "58        Java  <!-- the line below needs to be an empty line ...   \n",
       "39  TypeScript  <p align=\"center\">\\n  <a href=\"https://ant.des...   \n",
       "..         ...                                                ...   \n",
       "83  JavaScript  # ECharts\\n\\n<a href=\"https://echarts.apache.o...   \n",
       "95       Other  # the-craft-of-selfteaching\\n\\n> One has no fu...   \n",
       "51           C  [![Build status](https://github.com/git/git/wo...   \n",
       "30        Java  > JavaGuide 的Star数量虽然比较多，但是它的价值和含金量一定是不能和 Dubb...   \n",
       "79          Go  # Helm Charts\\n\\nThe canonical source for Helm...   \n",
       "\n",
       "                                              cleaned  readme_words  \n",
       "81  introduction npm version img shield npm admin ...           382  \n",
       "2   full stack web developer nanodegree program vi...           815  \n",
       "92  darknet logo pjreddie com medium file darknet ...            75  \n",
       "58  line need empty line kramdown isnt smart dearl...           294  \n",
       "39  align center href ant design img width src ali...          1363  \n",
       "..                                                ...           ...  \n",
       "83  echarts href echarts apache org img style vert...           462  \n",
       "95  craft selfteaching one ha future one teach the...           387  \n",
       "51  build status com git git workflow badge svg co...           318  \n",
       "30  javaguide star dubbonacos java javaguide doc j...          1174  \n",
       "79  helm chart canonical source helm chart helm hu...           885  \n",
       "\n",
       "[76 rows x 4 columns]"
      ]
     },
     "execution_count": 36,
     "metadata": {},
     "output_type": "execute_result"
    }
   ],
   "source": [
    "train"
   ]
  },
  {
   "cell_type": "code",
   "execution_count": 37,
   "metadata": {},
   "outputs": [
    {
     "data": {
      "text/plain": [
       "(0, 10000)"
      ]
     },
     "execution_count": 37,
     "metadata": {},
     "output_type": "execute_result"
    },
    {
     "data": {
      "image/png": "[encoded data removed]",
      "text/plain": [
       "<Figure size 864x432 with 1 Axes>"
      ]
     },
     "metadata": {
      "needs_background": "light"
     },
     "output_type": "display_data"
    }
   ],
   "source": [
    "plt.figure(figsize = (12,6))\n",
    "sns.boxplot(x = 'language', y = 'readme_words', data = train)\n",
    "plt.xticks(rotation = 90)\n",
    "plt.ylim(0,10000)"
   ]
  },
  {
   "cell_type": "code",
   "execution_count": 38,
   "metadata": {},
   "outputs": [
    {
     "data": {
      "text/plain": [
       "(0, 2000)"
      ]
     },
     "execution_count": 38,
     "metadata": {},
     "output_type": "execute_result"
    },
    {
     "data": {
      "image/png": "[encoded data removed]",
      "text/plain": [
       "<Figure size 864x432 with 1 Axes>"
      ]
     },
     "metadata": {
      "needs_background": "light"
     },
     "output_type": "display_data"
    }
   ],
   "source": [
    "plt.figure(figsize = (12,6))\n",
    "sns.swarmplot(x = 'language', y = 'readme_words', data = train)\n",
    "plt.xticks(rotation = 90)\n",
    "plt.ylim(0,2000)"
   ]
  },
  {
   "cell_type": "markdown",
   "metadata": {},
   "source": [
    "#### It seems like the median length of readme file is not very different between languages. Python however seems to have much bigger spread"
   ]
  },
  {
   "cell_type": "code",
   "execution_count": 39,
   "metadata": {},
   "outputs": [
    {
     "data": {
      "text/plain": [
       "JavaScript    20\n",
       "Other         15\n",
       "Python        11\n",
       "Java           7\n",
       "TypeScript     5\n",
       "HTML           4\n",
       "C++            4\n",
       "CSS            4\n",
       "Go             3\n",
       "C              3\n",
       "Name: language, dtype: int64"
      ]
     },
     "execution_count": 39,
     "metadata": {},
     "output_type": "execute_result"
    }
   ],
   "source": [
    "# Next lets explore which words appear most often in a particular language\n",
    "train.language.value_counts()"
   ]
  },
  {
   "cell_type": "code",
   "execution_count": 40,
   "metadata": {},
   "outputs": [],
   "source": [
    "All_words = pd.Series(' '.join(train.cleaned).split()).value_counts()\n",
    "JavaScript_words = pd.Series(' '.join(train[train.language == 'JavaScript'].cleaned).split()).value_counts()\n",
    "Other_words = pd.Series(' '.join(train[train.language == 'Other'].cleaned).split()).value_counts()\n",
    "Python_words = pd.Series(' '.join(train[train.language == 'Python'].cleaned).split()).value_counts()\n",
    "java_words = pd.Series(' '.join(train[train.language == 'Java'].cleaned).split()).value_counts()\n",
    "TypeScript_words = pd.Series(' '.join(train[train.language == 'TypeScript'].cleaned).split()).value_counts()\n",
    "Cplus_words = pd.Series(' '.join(train[train.language == 'C++'].cleaned).split()).value_counts()\n",
    "CSS_words = pd.Series(' '.join(train[train.language == 'CSS'].cleaned).split()).value_counts()\n",
    "HTML_words = pd.Series(' '.join(train[train.language == 'HTML'].cleaned).split()).value_counts()\n",
    "C_words = pd.Series(' '.join(train[train.language == 'C'].cleaned).split()).value_counts()\n",
    "Go_words = pd.Series(' '.join(train[train.language == 'Go'].cleaned).split()).value_counts()"
   ]
  },
  {
   "cell_type": "code",
   "execution_count": 41,
   "metadata": {},
   "outputs": [
    {
     "data": {
      "text/html": [
       "<div>\n",
       "<style scoped>\n",
       "    .dataframe tbody tr th:only-of-type {\n",
       "        vertical-align: middle;\n",
       "    }\n",
       "\n",
       "    .dataframe tbody tr th {\n",
       "        vertical-align: top;\n",
       "    }\n",
       "\n",
       "    .dataframe thead th {\n",
       "        text-align: right;\n",
       "    }\n",
       "</style>\n",
       "<table border=\"1\" class=\"dataframe\">\n",
       "  <thead>\n",
       "    <tr style=\"text-align: right;\">\n",
       "      <th></th>\n",
       "      <th>All</th>\n",
       "      <th>JavaScript</th>\n",
       "      <th>Other</th>\n",
       "      <th>Python</th>\n",
       "      <th>Java</th>\n",
       "      <th>TypeScript</th>\n",
       "      <th>C++</th>\n",
       "      <th>CSS</th>\n",
       "      <th>HTML</th>\n",
       "      <th>C</th>\n",
       "      <th>Go_</th>\n",
       "    </tr>\n",
       "  </thead>\n",
       "  <tbody>\n",
       "    <tr>\n",
       "      <th>aac</th>\n",
       "      <td>2</td>\n",
       "      <td>0</td>\n",
       "      <td>0</td>\n",
       "      <td>2</td>\n",
       "      <td>0</td>\n",
       "      <td>0</td>\n",
       "      <td>0</td>\n",
       "      <td>0</td>\n",
       "      <td>0</td>\n",
       "      <td>0</td>\n",
       "      <td>0</td>\n",
       "    </tr>\n",
       "    <tr>\n",
       "      <th>aafb</th>\n",
       "      <td>1</td>\n",
       "      <td>0</td>\n",
       "      <td>0</td>\n",
       "      <td>1</td>\n",
       "      <td>0</td>\n",
       "      <td>0</td>\n",
       "      <td>0</td>\n",
       "      <td>0</td>\n",
       "      <td>0</td>\n",
       "      <td>0</td>\n",
       "      <td>0</td>\n",
       "    </tr>\n",
       "    <tr>\n",
       "      <th>aan</th>\n",
       "      <td>1</td>\n",
       "      <td>1</td>\n",
       "      <td>0</td>\n",
       "      <td>0</td>\n",
       "      <td>0</td>\n",
       "      <td>0</td>\n",
       "      <td>0</td>\n",
       "      <td>0</td>\n",
       "      <td>0</td>\n",
       "      <td>0</td>\n",
       "      <td>0</td>\n",
       "    </tr>\n",
       "    <tr>\n",
       "      <th>aanzee</th>\n",
       "      <td>2</td>\n",
       "      <td>2</td>\n",
       "      <td>0</td>\n",
       "      <td>0</td>\n",
       "      <td>0</td>\n",
       "      <td>0</td>\n",
       "      <td>0</td>\n",
       "      <td>0</td>\n",
       "      <td>0</td>\n",
       "      <td>0</td>\n",
       "      <td>0</td>\n",
       "    </tr>\n",
       "    <tr>\n",
       "      <th>aarch</th>\n",
       "      <td>1</td>\n",
       "      <td>0</td>\n",
       "      <td>1</td>\n",
       "      <td>0</td>\n",
       "      <td>0</td>\n",
       "      <td>0</td>\n",
       "      <td>0</td>\n",
       "      <td>0</td>\n",
       "      <td>0</td>\n",
       "      <td>0</td>\n",
       "      <td>0</td>\n",
       "    </tr>\n",
       "  </tbody>\n",
       "</table>\n",
       "</div>"
      ],
      "text/plain": [
       "        All  JavaScript  Other  Python  Java  TypeScript  C++  CSS  HTML  C  \\\n",
       "aac       2           0      0       2     0           0    0    0     0  0   \n",
       "aafb      1           0      0       1     0           0    0    0     0  0   \n",
       "aan       1           1      0       0     0           0    0    0     0  0   \n",
       "aanzee    2           2      0       0     0           0    0    0     0  0   \n",
       "aarch     1           0      1       0     0           0    0    0     0  0   \n",
       "\n",
       "        Go_  \n",
       "aac       0  \n",
       "aafb      0  \n",
       "aan       0  \n",
       "aanzee    0  \n",
       "aarch     0  "
      ]
     },
     "execution_count": 41,
     "metadata": {},
     "output_type": "execute_result"
    }
   ],
   "source": [
    "word_counts = (pd.concat([All_words, JavaScript_words, Other_words, Python_words,java_words, TypeScript_words, Cplus_words,\\\n",
    "                         CSS_words,HTML_words, C_words, Go_words],\\\n",
    "                         axis=1, sort=True).set_axis(['All','JavaScript', 'Other', 'Python','Java', 'TypeScript', 'C++',\\\n",
    "                         'CSS','HTML', 'C', 'Go_'], axis=1, inplace=False).fillna(0)\\\n",
    "               .apply(lambda s: s.astype(int)))\n",
    "\n",
    "word_counts.head()"
   ]
  },
  {
   "cell_type": "code",
   "execution_count": 42,
   "metadata": {
    "scrolled": false
   },
   "outputs": [
    {
     "data": {
      "text/html": [
       "<div>\n",
       "<style scoped>\n",
       "    .dataframe tbody tr th:only-of-type {\n",
       "        vertical-align: middle;\n",
       "    }\n",
       "\n",
       "    .dataframe tbody tr th {\n",
       "        vertical-align: top;\n",
       "    }\n",
       "\n",
       "    .dataframe thead th {\n",
       "        text-align: right;\n",
       "    }\n",
       "</style>\n",
       "<table border=\"1\" class=\"dataframe\">\n",
       "  <thead>\n",
       "    <tr style=\"text-align: right;\">\n",
       "      <th></th>\n",
       "      <th>All</th>\n",
       "      <th>JavaScript</th>\n",
       "      <th>Other</th>\n",
       "      <th>Python</th>\n",
       "      <th>Java</th>\n",
       "      <th>TypeScript</th>\n",
       "      <th>C++</th>\n",
       "      <th>CSS</th>\n",
       "      <th>HTML</th>\n",
       "      <th>C</th>\n",
       "      <th>Go_</th>\n",
       "    </tr>\n",
       "  </thead>\n",
       "  <tbody>\n",
       "    <tr>\n",
       "      <th>com</th>\n",
       "      <td>3305</td>\n",
       "      <td>861</td>\n",
       "      <td>270</td>\n",
       "      <td>1457</td>\n",
       "      <td>185</td>\n",
       "      <td>188</td>\n",
       "      <td>135</td>\n",
       "      <td>98</td>\n",
       "      <td>65</td>\n",
       "      <td>12</td>\n",
       "      <td>34</td>\n",
       "    </tr>\n",
       "    <tr>\n",
       "      <th>org</th>\n",
       "      <td>903</td>\n",
       "      <td>306</td>\n",
       "      <td>43</td>\n",
       "      <td>392</td>\n",
       "      <td>50</td>\n",
       "      <td>47</td>\n",
       "      <td>28</td>\n",
       "      <td>17</td>\n",
       "      <td>5</td>\n",
       "      <td>4</td>\n",
       "      <td>11</td>\n",
       "    </tr>\n",
       "    <tr>\n",
       "      <th>python</th>\n",
       "      <td>829</td>\n",
       "      <td>1</td>\n",
       "      <td>12</td>\n",
       "      <td>797</td>\n",
       "      <td>1</td>\n",
       "      <td>0</td>\n",
       "      <td>18</td>\n",
       "      <td>0</td>\n",
       "      <td>0</td>\n",
       "      <td>0</td>\n",
       "      <td>0</td>\n",
       "    </tr>\n",
       "    <tr>\n",
       "      <th>javascript</th>\n",
       "      <td>592</td>\n",
       "      <td>479</td>\n",
       "      <td>2</td>\n",
       "      <td>46</td>\n",
       "      <td>0</td>\n",
       "      <td>4</td>\n",
       "      <td>5</td>\n",
       "      <td>0</td>\n",
       "      <td>56</td>\n",
       "      <td>0</td>\n",
       "      <td>0</td>\n",
       "    </tr>\n",
       "    <tr>\n",
       "      <th>doc</th>\n",
       "      <td>564</td>\n",
       "      <td>185</td>\n",
       "      <td>25</td>\n",
       "      <td>88</td>\n",
       "      <td>210</td>\n",
       "      <td>20</td>\n",
       "      <td>13</td>\n",
       "      <td>15</td>\n",
       "      <td>0</td>\n",
       "      <td>0</td>\n",
       "      <td>8</td>\n",
       "    </tr>\n",
       "    <tr>\n",
       "      <th>name</th>\n",
       "      <td>554</td>\n",
       "      <td>377</td>\n",
       "      <td>6</td>\n",
       "      <td>146</td>\n",
       "      <td>7</td>\n",
       "      <td>4</td>\n",
       "      <td>1</td>\n",
       "      <td>5</td>\n",
       "      <td>0</td>\n",
       "      <td>7</td>\n",
       "      <td>1</td>\n",
       "    </tr>\n",
       "    <tr>\n",
       "      <th>learning</th>\n",
       "      <td>519</td>\n",
       "      <td>8</td>\n",
       "      <td>6</td>\n",
       "      <td>484</td>\n",
       "      <td>7</td>\n",
       "      <td>8</td>\n",
       "      <td>4</td>\n",
       "      <td>0</td>\n",
       "      <td>2</td>\n",
       "      <td>0</td>\n",
       "      <td>0</td>\n",
       "    </tr>\n",
       "    <tr>\n",
       "      <th>library</th>\n",
       "      <td>504</td>\n",
       "      <td>33</td>\n",
       "      <td>11</td>\n",
       "      <td>449</td>\n",
       "      <td>0</td>\n",
       "      <td>6</td>\n",
       "      <td>0</td>\n",
       "      <td>0</td>\n",
       "      <td>0</td>\n",
       "      <td>5</td>\n",
       "      <td>0</td>\n",
       "    </tr>\n",
       "    <tr>\n",
       "      <th>data</th>\n",
       "      <td>500</td>\n",
       "      <td>111</td>\n",
       "      <td>24</td>\n",
       "      <td>308</td>\n",
       "      <td>22</td>\n",
       "      <td>7</td>\n",
       "      <td>2</td>\n",
       "      <td>1</td>\n",
       "      <td>0</td>\n",
       "      <td>25</td>\n",
       "      <td>0</td>\n",
       "    </tr>\n",
       "    <tr>\n",
       "      <th>machine</th>\n",
       "      <td>412</td>\n",
       "      <td>7</td>\n",
       "      <td>5</td>\n",
       "      <td>399</td>\n",
       "      <td>0</td>\n",
       "      <td>0</td>\n",
       "      <td>0</td>\n",
       "      <td>1</td>\n",
       "      <td>0</td>\n",
       "      <td>0</td>\n",
       "      <td>0</td>\n",
       "    </tr>\n",
       "    <tr>\n",
       "      <th>html</th>\n",
       "      <td>404</td>\n",
       "      <td>160</td>\n",
       "      <td>15</td>\n",
       "      <td>197</td>\n",
       "      <td>21</td>\n",
       "      <td>2</td>\n",
       "      <td>3</td>\n",
       "      <td>4</td>\n",
       "      <td>2</td>\n",
       "      <td>0</td>\n",
       "      <td>0</td>\n",
       "    </tr>\n",
       "    <tr>\n",
       "      <th>code</th>\n",
       "      <td>392</td>\n",
       "      <td>92</td>\n",
       "      <td>51</td>\n",
       "      <td>157</td>\n",
       "      <td>5</td>\n",
       "      <td>39</td>\n",
       "      <td>11</td>\n",
       "      <td>8</td>\n",
       "      <td>7</td>\n",
       "      <td>19</td>\n",
       "      <td>3</td>\n",
       "    </tr>\n",
       "    <tr>\n",
       "      <th>use</th>\n",
       "      <td>377</td>\n",
       "      <td>174</td>\n",
       "      <td>15</td>\n",
       "      <td>121</td>\n",
       "      <td>10</td>\n",
       "      <td>19</td>\n",
       "      <td>9</td>\n",
       "      <td>9</td>\n",
       "      <td>0</td>\n",
       "      <td>13</td>\n",
       "      <td>7</td>\n",
       "    </tr>\n",
       "    <tr>\n",
       "      <th>example</th>\n",
       "      <td>367</td>\n",
       "      <td>58</td>\n",
       "      <td>157</td>\n",
       "      <td>82</td>\n",
       "      <td>3</td>\n",
       "      <td>48</td>\n",
       "      <td>6</td>\n",
       "      <td>3</td>\n",
       "      <td>1</td>\n",
       "      <td>6</td>\n",
       "      <td>3</td>\n",
       "    </tr>\n",
       "    <tr>\n",
       "      <th>function</th>\n",
       "      <td>357</td>\n",
       "      <td>272</td>\n",
       "      <td>22</td>\n",
       "      <td>37</td>\n",
       "      <td>0</td>\n",
       "      <td>6</td>\n",
       "      <td>0</td>\n",
       "      <td>0</td>\n",
       "      <td>0</td>\n",
       "      <td>19</td>\n",
       "      <td>1</td>\n",
       "    </tr>\n",
       "  </tbody>\n",
       "</table>\n",
       "</div>"
      ],
      "text/plain": [
       "             All  JavaScript  Other  Python  Java  TypeScript  C++  CSS  HTML  \\\n",
       "com         3305         861    270    1457   185         188  135   98    65   \n",
       "org          903         306     43     392    50          47   28   17     5   \n",
       "python       829           1     12     797     1           0   18    0     0   \n",
       "javascript   592         479      2      46     0           4    5    0    56   \n",
       "doc          564         185     25      88   210          20   13   15     0   \n",
       "name         554         377      6     146     7           4    1    5     0   \n",
       "learning     519           8      6     484     7           8    4    0     2   \n",
       "library      504          33     11     449     0           6    0    0     0   \n",
       "data         500         111     24     308    22           7    2    1     0   \n",
       "machine      412           7      5     399     0           0    0    1     0   \n",
       "html         404         160     15     197    21           2    3    4     2   \n",
       "code         392          92     51     157     5          39   11    8     7   \n",
       "use          377         174     15     121    10          19    9    9     0   \n",
       "example      367          58    157      82     3          48    6    3     1   \n",
       "function     357         272     22      37     0           6    0    0     0   \n",
       "\n",
       "             C  Go_  \n",
       "com         12   34  \n",
       "org          4   11  \n",
       "python       0    0  \n",
       "javascript   0    0  \n",
       "doc          0    8  \n",
       "name         7    1  \n",
       "learning     0    0  \n",
       "library      5    0  \n",
       "data        25    0  \n",
       "machine      0    0  \n",
       "html         0    0  \n",
       "code        19    3  \n",
       "use         13    7  \n",
       "example      6    3  \n",
       "function    19    1  "
      ]
     },
     "execution_count": 42,
     "metadata": {},
     "output_type": "execute_result"
    }
   ],
   "source": [
    "word_counts.sort_values(by='All', ascending=False).head(15)"
   ]
  },
  {
   "cell_type": "code",
   "execution_count": 43,
   "metadata": {},
   "outputs": [
    {
     "data": {
      "text/html": [
       "<div>\n",
       "<style scoped>\n",
       "    .dataframe tbody tr th:only-of-type {\n",
       "        vertical-align: middle;\n",
       "    }\n",
       "\n",
       "    .dataframe tbody tr th {\n",
       "        vertical-align: top;\n",
       "    }\n",
       "\n",
       "    .dataframe thead th {\n",
       "        text-align: right;\n",
       "    }\n",
       "</style>\n",
       "<table border=\"1\" class=\"dataframe\">\n",
       "  <thead>\n",
       "    <tr style=\"text-align: right;\">\n",
       "      <th></th>\n",
       "      <th>All</th>\n",
       "      <th>JavaScript</th>\n",
       "      <th>Other</th>\n",
       "      <th>Python</th>\n",
       "      <th>Java</th>\n",
       "      <th>TypeScript</th>\n",
       "      <th>C++</th>\n",
       "      <th>CSS</th>\n",
       "      <th>HTML</th>\n",
       "      <th>C</th>\n",
       "      <th>Go_</th>\n",
       "    </tr>\n",
       "  </thead>\n",
       "  <tbody>\n",
       "    <tr>\n",
       "      <th>com</th>\n",
       "      <td>3305</td>\n",
       "      <td>861</td>\n",
       "      <td>270</td>\n",
       "      <td>1457</td>\n",
       "      <td>185</td>\n",
       "      <td>188</td>\n",
       "      <td>135</td>\n",
       "      <td>98</td>\n",
       "      <td>65</td>\n",
       "      <td>12</td>\n",
       "      <td>34</td>\n",
       "    </tr>\n",
       "    <tr>\n",
       "      <th>python</th>\n",
       "      <td>829</td>\n",
       "      <td>1</td>\n",
       "      <td>12</td>\n",
       "      <td>797</td>\n",
       "      <td>1</td>\n",
       "      <td>0</td>\n",
       "      <td>18</td>\n",
       "      <td>0</td>\n",
       "      <td>0</td>\n",
       "      <td>0</td>\n",
       "      <td>0</td>\n",
       "    </tr>\n",
       "    <tr>\n",
       "      <th>learning</th>\n",
       "      <td>519</td>\n",
       "      <td>8</td>\n",
       "      <td>6</td>\n",
       "      <td>484</td>\n",
       "      <td>7</td>\n",
       "      <td>8</td>\n",
       "      <td>4</td>\n",
       "      <td>0</td>\n",
       "      <td>2</td>\n",
       "      <td>0</td>\n",
       "      <td>0</td>\n",
       "    </tr>\n",
       "    <tr>\n",
       "      <th>library</th>\n",
       "      <td>504</td>\n",
       "      <td>33</td>\n",
       "      <td>11</td>\n",
       "      <td>449</td>\n",
       "      <td>0</td>\n",
       "      <td>6</td>\n",
       "      <td>0</td>\n",
       "      <td>0</td>\n",
       "      <td>0</td>\n",
       "      <td>5</td>\n",
       "      <td>0</td>\n",
       "    </tr>\n",
       "    <tr>\n",
       "      <th>machine</th>\n",
       "      <td>412</td>\n",
       "      <td>7</td>\n",
       "      <td>5</td>\n",
       "      <td>399</td>\n",
       "      <td>0</td>\n",
       "      <td>0</td>\n",
       "      <td>0</td>\n",
       "      <td>1</td>\n",
       "      <td>0</td>\n",
       "      <td>0</td>\n",
       "      <td>0</td>\n",
       "    </tr>\n",
       "    <tr>\n",
       "      <th>org</th>\n",
       "      <td>903</td>\n",
       "      <td>306</td>\n",
       "      <td>43</td>\n",
       "      <td>392</td>\n",
       "      <td>50</td>\n",
       "      <td>47</td>\n",
       "      <td>28</td>\n",
       "      <td>17</td>\n",
       "      <td>5</td>\n",
       "      <td>4</td>\n",
       "      <td>11</td>\n",
       "    </tr>\n",
       "    <tr>\n",
       "      <th>data</th>\n",
       "      <td>500</td>\n",
       "      <td>111</td>\n",
       "      <td>24</td>\n",
       "      <td>308</td>\n",
       "      <td>22</td>\n",
       "      <td>7</td>\n",
       "      <td>2</td>\n",
       "      <td>1</td>\n",
       "      <td>0</td>\n",
       "      <td>25</td>\n",
       "      <td>0</td>\n",
       "    </tr>\n",
       "    <tr>\n",
       "      <th>youtube</th>\n",
       "      <td>294</td>\n",
       "      <td>5</td>\n",
       "      <td>0</td>\n",
       "      <td>287</td>\n",
       "      <td>0</td>\n",
       "      <td>2</td>\n",
       "      <td>0</td>\n",
       "      <td>0</td>\n",
       "      <td>0</td>\n",
       "      <td>0</td>\n",
       "      <td>0</td>\n",
       "    </tr>\n",
       "    <tr>\n",
       "      <th>video</th>\n",
       "      <td>268</td>\n",
       "      <td>2</td>\n",
       "      <td>4</td>\n",
       "      <td>243</td>\n",
       "      <td>1</td>\n",
       "      <td>13</td>\n",
       "      <td>0</td>\n",
       "      <td>0</td>\n",
       "      <td>5</td>\n",
       "      <td>0</td>\n",
       "      <td>0</td>\n",
       "    </tr>\n",
       "    <tr>\n",
       "      <th>html</th>\n",
       "      <td>404</td>\n",
       "      <td>160</td>\n",
       "      <td>15</td>\n",
       "      <td>197</td>\n",
       "      <td>21</td>\n",
       "      <td>2</td>\n",
       "      <td>3</td>\n",
       "      <td>4</td>\n",
       "      <td>2</td>\n",
       "      <td>0</td>\n",
       "      <td>0</td>\n",
       "    </tr>\n",
       "    <tr>\n",
       "      <th>package</th>\n",
       "      <td>272</td>\n",
       "      <td>48</td>\n",
       "      <td>10</td>\n",
       "      <td>178</td>\n",
       "      <td>8</td>\n",
       "      <td>24</td>\n",
       "      <td>3</td>\n",
       "      <td>0</td>\n",
       "      <td>0</td>\n",
       "      <td>1</td>\n",
       "      <td>0</td>\n",
       "    </tr>\n",
       "    <tr>\n",
       "      <th>deprecated</th>\n",
       "      <td>173</td>\n",
       "      <td>7</td>\n",
       "      <td>0</td>\n",
       "      <td>166</td>\n",
       "      <td>0</td>\n",
       "      <td>0</td>\n",
       "      <td>0</td>\n",
       "      <td>0</td>\n",
       "      <td>0</td>\n",
       "      <td>0</td>\n",
       "      <td>0</td>\n",
       "    </tr>\n",
       "    <tr>\n",
       "      <th>file</th>\n",
       "      <td>305</td>\n",
       "      <td>64</td>\n",
       "      <td>18</td>\n",
       "      <td>162</td>\n",
       "      <td>3</td>\n",
       "      <td>4</td>\n",
       "      <td>4</td>\n",
       "      <td>11</td>\n",
       "      <td>2</td>\n",
       "      <td>28</td>\n",
       "      <td>9</td>\n",
       "    </tr>\n",
       "    <tr>\n",
       "      <th>web</th>\n",
       "      <td>238</td>\n",
       "      <td>49</td>\n",
       "      <td>12</td>\n",
       "      <td>157</td>\n",
       "      <td>10</td>\n",
       "      <td>6</td>\n",
       "      <td>1</td>\n",
       "      <td>0</td>\n",
       "      <td>3</td>\n",
       "      <td>0</td>\n",
       "      <td>0</td>\n",
       "    </tr>\n",
       "    <tr>\n",
       "      <th>code</th>\n",
       "      <td>392</td>\n",
       "      <td>92</td>\n",
       "      <td>51</td>\n",
       "      <td>157</td>\n",
       "      <td>5</td>\n",
       "      <td>39</td>\n",
       "      <td>11</td>\n",
       "      <td>8</td>\n",
       "      <td>7</td>\n",
       "      <td>19</td>\n",
       "      <td>3</td>\n",
       "    </tr>\n",
       "  </tbody>\n",
       "</table>\n",
       "</div>"
      ],
      "text/plain": [
       "             All  JavaScript  Other  Python  Java  TypeScript  C++  CSS  HTML  \\\n",
       "com         3305         861    270    1457   185         188  135   98    65   \n",
       "python       829           1     12     797     1           0   18    0     0   \n",
       "learning     519           8      6     484     7           8    4    0     2   \n",
       "library      504          33     11     449     0           6    0    0     0   \n",
       "machine      412           7      5     399     0           0    0    1     0   \n",
       "org          903         306     43     392    50          47   28   17     5   \n",
       "data         500         111     24     308    22           7    2    1     0   \n",
       "youtube      294           5      0     287     0           2    0    0     0   \n",
       "video        268           2      4     243     1          13    0    0     5   \n",
       "html         404         160     15     197    21           2    3    4     2   \n",
       "package      272          48     10     178     8          24    3    0     0   \n",
       "deprecated   173           7      0     166     0           0    0    0     0   \n",
       "file         305          64     18     162     3           4    4   11     2   \n",
       "web          238          49     12     157    10           6    1    0     3   \n",
       "code         392          92     51     157     5          39   11    8     7   \n",
       "\n",
       "             C  Go_  \n",
       "com         12   34  \n",
       "python       0    0  \n",
       "learning     0    0  \n",
       "library      5    0  \n",
       "machine      0    0  \n",
       "org          4   11  \n",
       "data        25    0  \n",
       "youtube      0    0  \n",
       "video        0    0  \n",
       "html         0    0  \n",
       "package      1    0  \n",
       "deprecated   0    0  \n",
       "file        28    9  \n",
       "web          0    0  \n",
       "code        19    3  "
      ]
     },
     "execution_count": 43,
     "metadata": {},
     "output_type": "execute_result"
    }
   ],
   "source": [
    "word_counts.sort_values(by='Python', ascending=False).head(15)"
   ]
  },
  {
   "cell_type": "code",
   "execution_count": 70,
   "metadata": {},
   "outputs": [
    {
     "data": {
      "text/plain": [
       "Text(0.5, 1.0, 'Word cloud for all words')"
      ]
     },
     "execution_count": 70,
     "metadata": {},
     "output_type": "execute_result"
    },
    {
     "data": {
      "image/png": "[encoded data removed]",
      "text/plain": [
       "<Figure size 432x288 with 1 Axes>"
      ]
     },
     "metadata": {
      "needs_background": "light"
     },
     "output_type": "display_data"
    }
   ],
   "source": [
    "# word cloud for all words\n",
    "img = WordCloud(background_color='white').generate(' '.join(train.cleaned))\n",
    "# WordCloud() produces an image object, which can be displayed with plt.imshow\n",
    "plt.imshow(img)\n",
    "# axis aren't very useful for a word cloud\n",
    "plt.axis('off')\n",
    "plt.title('Word cloud for all words')"
   ]
  },
  {
   "cell_type": "code",
   "execution_count": 69,
   "metadata": {},
   "outputs": [
    {
     "data": {
      "text/plain": [
       "Text(0.5, 1.0, 'Python wordcloud')"
      ]
     },
     "execution_count": 69,
     "metadata": {},
     "output_type": "execute_result"
    },
    {
     "data": {
      "image/png": "[encoded data removed]",
      "text/plain": [
       "<Figure size 432x288 with 1 Axes>"
      ]
     },
     "metadata": {
      "needs_background": "light"
     },
     "output_type": "display_data"
    }
   ],
   "source": [
    "# word cloud for Python\n",
    "img = WordCloud(background_color='white').generate(' '.join(train[train.language == 'Python'].cleaned))\n",
    "# WordCloud() produces an image object, which can be displayed with plt.imshow\n",
    "plt.imshow(img)\n",
    "# axis aren't very useful for a word cloud\n",
    "plt.axis('off')\n",
    "plt.title('Python wordcloud')"
   ]
  },
  {
   "cell_type": "code",
   "execution_count": 56,
   "metadata": {
    "scrolled": false
   },
   "outputs": [
    {
     "data": {
      "text/plain": [
       "<matplotlib.axes._subplots.AxesSubplot at 0x1a263f4a90>"
      ]
     },
     "execution_count": 56,
     "metadata": {},
     "output_type": "execute_result"
    },
    {
     "data": {
      "image/png": "[encoded data removed]",
      "text/plain": [
       "<Figure size 864x432 with 1 Axes>"
      ]
     },
     "metadata": {
      "needs_background": "light"
     },
     "output_type": "display_data"
    }
   ],
   "source": [
    "#lets look at bigrams for all text\n",
    "plt.figure(figsize = (12,6))\n",
    "bigrams = nltk.ngrams(' '.join(train.cleaned).split(), 2)\n",
    "pd.Series(bigrams).value_counts().head(10).plot.barh()"
   ]
  },
  {
   "cell_type": "code",
   "execution_count": 65,
   "metadata": {},
   "outputs": [],
   "source": [
    "top_30_bigrams = pd.Series(nltk.ngrams(' '.join(train.cleaned).split(), 2)).value_counts().head(30)"
   ]
  },
  {
   "cell_type": "code",
   "execution_count": 68,
   "metadata": {},
   "outputs": [
    {
     "data": {
      "text/plain": [
       "Text(0.5, 1.0, 'Top 30 Bigrams')"
      ]
     },
     "execution_count": 68,
     "metadata": {},
     "output_type": "execute_result"
    },
    {
     "data": {
      "image/png": "[encoded data removed]",
      "text/plain": [
       "<Figure size 720x432 with 1 Axes>"
      ]
     },
     "metadata": {
      "needs_background": "light"
     },
     "output_type": "display_data"
    }
   ],
   "source": [
    "data = {k[0] + ' ' + k[1]: v for k, v in top_30_bigrams.to_dict().items()}\n",
    "img = WordCloud(background_color='white', width=800, height=400).generate_from_frequencies(data)\n",
    "plt.figure(figsize=(10, 6))\n",
    "plt.imshow(img)\n",
    "plt.axis('off')\n",
    "plt.title('Top 30 Bigrams')"
   ]
  },
  {
   "cell_type": "code",
   "execution_count": 661,
   "metadata": {},
   "outputs": [
    {
     "data": {
      "text/plain": [
       "<matplotlib.axes._subplots.AxesSubplot at 0x1a384d7750>"
      ]
     },
     "execution_count": 661,
     "metadata": {},
     "output_type": "execute_result"
    },
    {
     "data": {
      "image/png": "[encoded data removed]",
      "text/plain": [
       "<Figure size 864x432 with 1 Axes>"
      ]
     },
     "metadata": {
      "needs_background": "light"
     },
     "output_type": "display_data"
    }
   ],
   "source": [
    "#lets look at trigrams for all text\n",
    "plt.figure(figsize = (12,6))\n",
    "bigrams = nltk.ngrams(' '.join(train.cleaned).split(), 3)\n",
    "pd.Series(bigrams).value_counts().head(10).plot.barh()"
   ]
  },
  {
   "cell_type": "code",
   "execution_count": 660,
   "metadata": {},
   "outputs": [
    {
     "data": {
      "text/plain": [
       "Series([], dtype: float64)"
      ]
     },
     "execution_count": 660,
     "metadata": {},
     "output_type": "execute_result"
    }
   ],
   "source": [
    "pd.Series(bigrams)"
   ]
  },
  {
   "cell_type": "code",
   "execution_count": null,
   "metadata": {},
   "outputs": [],
   "source": []
  }
 ],
 "metadata": {
  "kernelspec": {
   "display_name": "Python 3",
   "language": "python",
   "name": "python3"
  },
  "language_info": {
   "codemirror_mode": {
    "name": "ipython",
    "version": 3
   },
   "file_extension": ".py",
   "mimetype": "text/x-python",
   "name": "python",
   "nbconvert_exporter": "python",
   "pygments_lexer": "ipython3",
   "version": "3.7.6"
  }
 },
 "nbformat": 4,
 "nbformat_minor": 4
}
