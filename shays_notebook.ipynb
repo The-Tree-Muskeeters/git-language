{
 "cells": [
  {
   "cell_type": "markdown",
   "metadata": {},
   "source": [
    "# Imports"
   ]
  },
  {
   "cell_type": "code",
   "execution_count": 1,
   "metadata": {},
   "outputs": [],
   "source": [
    "import scraper\n",
    "import src.acquire\n",
    "import prepare_r\n",
    "\n",
    "import warnings\n",
    "warnings.filterwarnings(\"ignore\")\n",
    "\n",
    "import pandas as pd\n",
    "import numpy as np\n",
    "\n",
    "import matplotlib.pyplot as plt\n",
    "import seaborn as sns\n",
    "\n",
    "from requests import get\n",
    "from bs4 import BeautifulSoup as BS\n",
    "\n",
    "import re\n",
    "import nltk"
   ]
  },
  {
   "cell_type": "markdown",
   "metadata": {},
   "source": [
    "# Acquire"
   ]
  },
  {
   "cell_type": "code",
   "execution_count": 2,
   "metadata": {},
   "outputs": [],
   "source": [
    "df = pd.read_json('data.json')"
   ]
  },
  {
   "cell_type": "code",
   "execution_count": 3,
   "metadata": {},
   "outputs": [
    {
     "name": "stdout",
     "output_type": "stream",
     "text": [
      "(280, 3)\n"
     ]
    },
    {
     "data": {
      "text/html": [
       "<div>\n",
       "<style scoped>\n",
       "    .dataframe tbody tr th:only-of-type {\n",
       "        vertical-align: middle;\n",
       "    }\n",
       "\n",
       "    .dataframe tbody tr th {\n",
       "        vertical-align: top;\n",
       "    }\n",
       "\n",
       "    .dataframe thead th {\n",
       "        text-align: right;\n",
       "    }\n",
       "</style>\n",
       "<table border=\"1\" class=\"dataframe\">\n",
       "  <thead>\n",
       "    <tr style=\"text-align: right;\">\n",
       "      <th></th>\n",
       "      <th>repo</th>\n",
       "      <th>language</th>\n",
       "      <th>readme_contents</th>\n",
       "    </tr>\n",
       "  </thead>\n",
       "  <tbody>\n",
       "    <tr>\n",
       "      <th>0</th>\n",
       "      <td>jtleek/datasharing</td>\n",
       "      <td>None</td>\n",
       "      <td>How to share data with a statistician\\n=======...</td>\n",
       "    </tr>\n",
       "    <tr>\n",
       "      <th>1</th>\n",
       "      <td>rdpeng/ProgrammingAssignment2</td>\n",
       "      <td>R</td>\n",
       "      <td>### Introduction\\n\\nThis second programming as...</td>\n",
       "    </tr>\n",
       "    <tr>\n",
       "      <th>2</th>\n",
       "      <td>octocat/Spoon-Knife</td>\n",
       "      <td>HTML</td>\n",
       "      <td>### Well hello there!\\n\\nThis repository is me...</td>\n",
       "    </tr>\n",
       "    <tr>\n",
       "      <th>3</th>\n",
       "      <td>tensorflow/tensorflow</td>\n",
       "      <td>C++</td>\n",
       "      <td>&lt;div align=\"center\"&gt;\\n  &lt;img src=\"https://www....</td>\n",
       "    </tr>\n",
       "    <tr>\n",
       "      <th>4</th>\n",
       "      <td>SmartThingsCommunity/SmartThingsPublic</td>\n",
       "      <td>Groovy</td>\n",
       "      <td># SmartThings Public GitHub Repo\\n\\nAn officia...</td>\n",
       "    </tr>\n",
       "  </tbody>\n",
       "</table>\n",
       "</div>"
      ],
      "text/plain": [
       "                                     repo language  \\\n",
       "0                      jtleek/datasharing     None   \n",
       "1           rdpeng/ProgrammingAssignment2        R   \n",
       "2                     octocat/Spoon-Knife     HTML   \n",
       "3                   tensorflow/tensorflow      C++   \n",
       "4  SmartThingsCommunity/SmartThingsPublic   Groovy   \n",
       "\n",
       "                                     readme_contents  \n",
       "0  How to share data with a statistician\\n=======...  \n",
       "1  ### Introduction\\n\\nThis second programming as...  \n",
       "2  ### Well hello there!\\n\\nThis repository is me...  \n",
       "3  <div align=\"center\">\\n  <img src=\"https://www....  \n",
       "4  # SmartThings Public GitHub Repo\\n\\nAn officia...  "
      ]
     },
     "execution_count": 3,
     "metadata": {},
     "output_type": "execute_result"
    }
   ],
   "source": [
    "print(df.shape)\n",
    "df.head()"
   ]
  },
  {
   "cell_type": "markdown",
   "metadata": {},
   "source": [
    "# Prepare"
   ]
  },
  {
   "cell_type": "code",
   "execution_count": 4,
   "metadata": {},
   "outputs": [],
   "source": [
    "df = prepare_r.prep_contents(df)"
   ]
  },
  {
   "cell_type": "code",
   "execution_count": 5,
   "metadata": {},
   "outputs": [
    {
     "data": {
      "text/plain": [
       "JavaScript          58\n",
       "Java                33\n",
       "Python              31\n",
       "C++                 16\n",
       "Jupyter Notebook    12\n",
       "HTML                12\n",
       "PHP                 11\n",
       "Go                  11\n",
       "TypeScript          10\n",
       "Ruby                 9\n",
       "CSS                  8\n",
       "C                    8\n",
       "Shell                5\n",
       "Vue                  3\n",
       "R                    2\n",
       "PowerShell           2\n",
       "Rust                 2\n",
       "Kotlin               2\n",
       "C#                   2\n",
       "TeX                  2\n",
       "Groovy               1\n",
       "Scala                1\n",
       "Dart                 1\n",
       "Objective-C          1\n",
       "Swift                1\n",
       "ApacheConf           1\n",
       "Name: language, dtype: int64"
      ]
     },
     "execution_count": 5,
     "metadata": {},
     "output_type": "execute_result"
    }
   ],
   "source": [
    "df.language.value_counts()"
   ]
  },
  {
   "cell_type": "code",
   "execution_count": 6,
   "metadata": {},
   "outputs": [],
   "source": [
    "df['language'] = df.language.replace(['PHP','Shell','Kotlin','Vue','ApacheConf','Jupyter Notebook','R','Groovy',\n",
    "                                      'Scala','Rust','C#','Dart','Ruby', 'TeX', 'PowerShell', 'Objective-C', 'Swift'], 'Other')"
   ]
  },
  {
   "cell_type": "code",
   "execution_count": 7,
   "metadata": {},
   "outputs": [],
   "source": [
    "df = df[df.language != 'Other']"
   ]
  },
  {
   "cell_type": "code",
   "execution_count": 8,
   "metadata": {},
   "outputs": [
    {
     "data": {
      "text/plain": [
       "JavaScript    58\n",
       "Java          33\n",
       "Python        31\n",
       "C++           16\n",
       "HTML          12\n",
       "Go            11\n",
       "TypeScript    10\n",
       "C              8\n",
       "CSS            8\n",
       "Name: language, dtype: int64"
      ]
     },
     "execution_count": 8,
     "metadata": {},
     "output_type": "execute_result"
    }
   ],
   "source": [
    "df.language.value_counts()"
   ]
  },
  {
   "cell_type": "markdown",
   "metadata": {},
   "source": [
    "## Handling Null Values"
   ]
  },
  {
   "cell_type": "code",
   "execution_count": 9,
   "metadata": {},
   "outputs": [
    {
     "data": {
      "text/plain": [
       "(222, 8)"
      ]
     },
     "execution_count": 9,
     "metadata": {},
     "output_type": "execute_result"
    }
   ],
   "source": [
    "df.shape"
   ]
  },
  {
   "cell_type": "code",
   "execution_count": 10,
   "metadata": {},
   "outputs": [],
   "source": [
    "df.dropna(inplace=True)"
   ]
  },
  {
   "cell_type": "code",
   "execution_count": 11,
   "metadata": {},
   "outputs": [],
   "source": [
    "df.reset_index(inplace=True)"
   ]
  },
  {
   "cell_type": "code",
   "execution_count": 12,
   "metadata": {},
   "outputs": [
    {
     "data": {
      "text/html": [
       "<div>\n",
       "<style scoped>\n",
       "    .dataframe tbody tr th:only-of-type {\n",
       "        vertical-align: middle;\n",
       "    }\n",
       "\n",
       "    .dataframe tbody tr th {\n",
       "        vertical-align: top;\n",
       "    }\n",
       "\n",
       "    .dataframe thead th {\n",
       "        text-align: right;\n",
       "    }\n",
       "</style>\n",
       "<table border=\"1\" class=\"dataframe\">\n",
       "  <thead>\n",
       "    <tr style=\"text-align: right;\">\n",
       "      <th></th>\n",
       "      <th>index</th>\n",
       "      <th>repo</th>\n",
       "      <th>language</th>\n",
       "      <th>readme_contents</th>\n",
       "      <th>original</th>\n",
       "      <th>normalized</th>\n",
       "      <th>stemmed</th>\n",
       "      <th>lemmatized</th>\n",
       "      <th>cleaned</th>\n",
       "    </tr>\n",
       "  </thead>\n",
       "  <tbody>\n",
       "    <tr>\n",
       "      <th>0</th>\n",
       "      <td>2</td>\n",
       "      <td>octocat/Spoon-Knife</td>\n",
       "      <td>HTML</td>\n",
       "      <td>### Well hello there!\\n\\nThis repository is me...</td>\n",
       "      <td>### Well hello there!\\n\\nThis repository is me...</td>\n",
       "      <td>well hello there   this repository  meant  pro...</td>\n",
       "      <td>well hello there thi repositori meant provid e...</td>\n",
       "      <td>well hello there this repository meant provide...</td>\n",
       "      <td>well hello repository meant provide example fo...</td>\n",
       "    </tr>\n",
       "    <tr>\n",
       "      <th>1</th>\n",
       "      <td>3</td>\n",
       "      <td>tensorflow/tensorflow</td>\n",
       "      <td>C++</td>\n",
       "      <td>&lt;div align=\"center\"&gt;\\n  &lt;img src=\"https://www....</td>\n",
       "      <td>&lt;div align=\"center\"&gt;\\n  &lt;img src=\"https://www....</td>\n",
       "      <td>div align  center      img src  https   www te...</td>\n",
       "      <td>div align center img src http www tensorflow o...</td>\n",
       "      <td>div align center img src http www tensorflow o...</td>\n",
       "      <td>div align center img src tensorflow org image ...</td>\n",
       "    </tr>\n",
       "    <tr>\n",
       "      <th>2</th>\n",
       "      <td>5</td>\n",
       "      <td>twbs/bootstrap</td>\n",
       "      <td>JavaScript</td>\n",
       "      <td>&lt;p align=\"center\"&gt;\\n  &lt;a href=\"https://getboot...</td>\n",
       "      <td>&lt;p align=\"center\"&gt;\\n  &lt;a href=\"https://getboot...</td>\n",
       "      <td>align  center       href  https   getbootstrap...</td>\n",
       "      <td>align center href http getbootstrap com img sr...</td>\n",
       "      <td>align center href http getbootstrap com img sr...</td>\n",
       "      <td>align center href getbootstrap com img src get...</td>\n",
       "    </tr>\n",
       "    <tr>\n",
       "      <th>3</th>\n",
       "      <td>8</td>\n",
       "      <td>tensorflow/models</td>\n",
       "      <td>Python</td>\n",
       "      <td>![Logo](https://storage.googleapis.com/model_g...</td>\n",
       "      <td>![Logo](https://storage.googleapis.com/model_g...</td>\n",
       "      <td>logo  https   storage googleapis com model gar...</td>\n",
       "      <td>logo http storag googleapi com model garden ar...</td>\n",
       "      <td>logo http storage googleapis com model garden ...</td>\n",
       "      <td>logo storage googleapis com model garden artif...</td>\n",
       "    </tr>\n",
       "    <tr>\n",
       "      <th>4</th>\n",
       "      <td>9</td>\n",
       "      <td>nightscout/cgm-remote-monitor</td>\n",
       "      <td>JavaScript</td>\n",
       "      <td>Nightscout Web Monitor (a.k.a. cgm-remote-moni...</td>\n",
       "      <td>Nightscout Web Monitor (a.k.a. cgm-remote-moni...</td>\n",
       "      <td>nightscout web monitor      cgm remote monitor...</td>\n",
       "      <td>nightscout web monitor cgm remot monitor night...</td>\n",
       "      <td>nightscout web monitor cgm remote monitor nigh...</td>\n",
       "      <td>nightscout web monitor cgm remote monitor nigh...</td>\n",
       "    </tr>\n",
       "  </tbody>\n",
       "</table>\n",
       "</div>"
      ],
      "text/plain": [
       "   index                           repo    language  \\\n",
       "0      2            octocat/Spoon-Knife        HTML   \n",
       "1      3          tensorflow/tensorflow         C++   \n",
       "2      5                 twbs/bootstrap  JavaScript   \n",
       "3      8              tensorflow/models      Python   \n",
       "4      9  nightscout/cgm-remote-monitor  JavaScript   \n",
       "\n",
       "                                     readme_contents  \\\n",
       "0  ### Well hello there!\\n\\nThis repository is me...   \n",
       "1  <div align=\"center\">\\n  <img src=\"https://www....   \n",
       "2  <p align=\"center\">\\n  <a href=\"https://getboot...   \n",
       "3  ![Logo](https://storage.googleapis.com/model_g...   \n",
       "4  Nightscout Web Monitor (a.k.a. cgm-remote-moni...   \n",
       "\n",
       "                                            original  \\\n",
       "0  ### Well hello there!\\n\\nThis repository is me...   \n",
       "1  <div align=\"center\">\\n  <img src=\"https://www....   \n",
       "2  <p align=\"center\">\\n  <a href=\"https://getboot...   \n",
       "3  ![Logo](https://storage.googleapis.com/model_g...   \n",
       "4  Nightscout Web Monitor (a.k.a. cgm-remote-moni...   \n",
       "\n",
       "                                          normalized  \\\n",
       "0  well hello there   this repository  meant  pro...   \n",
       "1  div align  center      img src  https   www te...   \n",
       "2  align  center       href  https   getbootstrap...   \n",
       "3  logo  https   storage googleapis com model gar...   \n",
       "4  nightscout web monitor      cgm remote monitor...   \n",
       "\n",
       "                                             stemmed  \\\n",
       "0  well hello there thi repositori meant provid e...   \n",
       "1  div align center img src http www tensorflow o...   \n",
       "2  align center href http getbootstrap com img sr...   \n",
       "3  logo http storag googleapi com model garden ar...   \n",
       "4  nightscout web monitor cgm remot monitor night...   \n",
       "\n",
       "                                          lemmatized  \\\n",
       "0  well hello there this repository meant provide...   \n",
       "1  div align center img src http www tensorflow o...   \n",
       "2  align center href http getbootstrap com img sr...   \n",
       "3  logo http storage googleapis com model garden ...   \n",
       "4  nightscout web monitor cgm remote monitor nigh...   \n",
       "\n",
       "                                             cleaned  \n",
       "0  well hello repository meant provide example fo...  \n",
       "1  div align center img src tensorflow org image ...  \n",
       "2  align center href getbootstrap com img src get...  \n",
       "3  logo storage googleapis com model garden artif...  \n",
       "4  nightscout web monitor cgm remote monitor nigh...  "
      ]
     },
     "execution_count": 12,
     "metadata": {},
     "output_type": "execute_result"
    }
   ],
   "source": [
    "df.head()"
   ]
  },
  {
   "cell_type": "markdown",
   "metadata": {},
   "source": [
    "# Feature Engineering"
   ]
  },
  {
   "cell_type": "markdown",
   "metadata": {},
   "source": [
    "## Word Count"
   ]
  },
  {
   "cell_type": "code",
   "execution_count": 13,
   "metadata": {},
   "outputs": [],
   "source": [
    "df['readme_words'] = df['cleaned'].apply(lambda x: len(x.split()))"
   ]
  },
  {
   "cell_type": "markdown",
   "metadata": {},
   "source": [
    "## Sentence Count"
   ]
  },
  {
   "cell_type": "code",
   "execution_count": 14,
   "metadata": {},
   "outputs": [],
   "source": [
    "df['sentence_count'] = df['readme_contents'].apply(lambda x: len(x.split('\\n\\n')))"
   ]
  },
  {
   "cell_type": "markdown",
   "metadata": {},
   "source": [
    "## Bracket Count"
   ]
  },
  {
   "cell_type": "code",
   "execution_count": 15,
   "metadata": {},
   "outputs": [],
   "source": [
    "df['bracket_count'] = df['readme_contents'].apply(lambda x: x.count('['))"
   ]
  },
  {
   "cell_type": "markdown",
   "metadata": {},
   "source": [
    "## Angle Bracket Count"
   ]
  },
  {
   "cell_type": "code",
   "execution_count": 16,
   "metadata": {},
   "outputs": [],
   "source": [
    "df['angle_bracket_count'] = df['readme_contents'].apply(lambda x: x.count('<'))"
   ]
  },
  {
   "cell_type": "markdown",
   "metadata": {},
   "source": [
    "## Sentiment Analysis"
   ]
  },
  {
   "cell_type": "code",
   "execution_count": 17,
   "metadata": {},
   "outputs": [],
   "source": [
    "from nltk.sentiment import SentimentIntensityAnalyzer"
   ]
  },
  {
   "cell_type": "code",
   "execution_count": 18,
   "metadata": {},
   "outputs": [],
   "source": [
    "sia = SentimentIntensityAnalyzer()"
   ]
  },
  {
   "cell_type": "code",
   "execution_count": 19,
   "metadata": {},
   "outputs": [],
   "source": [
    "df['sentiment'] = df.cleaned.apply(lambda msg: sia.polarity_scores(msg)['compound'])"
   ]
  },
  {
   "cell_type": "code",
   "execution_count": 20,
   "metadata": {},
   "outputs": [
    {
     "data": {
      "text/html": [
       "<div>\n",
       "<style scoped>\n",
       "    .dataframe tbody tr th:only-of-type {\n",
       "        vertical-align: middle;\n",
       "    }\n",
       "\n",
       "    .dataframe tbody tr th {\n",
       "        vertical-align: top;\n",
       "    }\n",
       "\n",
       "    .dataframe thead th {\n",
       "        text-align: right;\n",
       "    }\n",
       "</style>\n",
       "<table border=\"1\" class=\"dataframe\">\n",
       "  <thead>\n",
       "    <tr style=\"text-align: right;\">\n",
       "      <th></th>\n",
       "      <th>index</th>\n",
       "      <th>repo</th>\n",
       "      <th>language</th>\n",
       "      <th>readme_contents</th>\n",
       "      <th>original</th>\n",
       "      <th>normalized</th>\n",
       "      <th>stemmed</th>\n",
       "      <th>lemmatized</th>\n",
       "      <th>cleaned</th>\n",
       "      <th>readme_words</th>\n",
       "      <th>sentence_count</th>\n",
       "      <th>bracket_count</th>\n",
       "      <th>angle_bracket_count</th>\n",
       "      <th>sentiment</th>\n",
       "    </tr>\n",
       "  </thead>\n",
       "  <tbody>\n",
       "    <tr>\n",
       "      <th>0</th>\n",
       "      <td>2</td>\n",
       "      <td>octocat/Spoon-Knife</td>\n",
       "      <td>HTML</td>\n",
       "      <td>### Well hello there!\\n\\nThis repository is me...</td>\n",
       "      <td>### Well hello there!\\n\\nThis repository is me...</td>\n",
       "      <td>well hello there   this repository  meant  pro...</td>\n",
       "      <td>well hello there thi repositori meant provid e...</td>\n",
       "      <td>well hello there this repository meant provide...</td>\n",
       "      <td>well hello repository meant provide example fo...</td>\n",
       "      <td>68</td>\n",
       "      <td>5</td>\n",
       "      <td>2</td>\n",
       "      <td>0</td>\n",
       "      <td>0.9485</td>\n",
       "    </tr>\n",
       "    <tr>\n",
       "      <th>1</th>\n",
       "      <td>3</td>\n",
       "      <td>tensorflow/tensorflow</td>\n",
       "      <td>C++</td>\n",
       "      <td>&lt;div align=\"center\"&gt;\\n  &lt;img src=\"https://www....</td>\n",
       "      <td>&lt;div align=\"center\"&gt;\\n  &lt;img src=\"https://www....</td>\n",
       "      <td>div align  center      img src  https   www te...</td>\n",
       "      <td>div align center img src http www tensorflow o...</td>\n",
       "      <td>div align center img src http www tensorflow o...</td>\n",
       "      <td>div align center img src tensorflow org image ...</td>\n",
       "      <td>1177</td>\n",
       "      <td>34</td>\n",
       "      <td>116</td>\n",
       "      <td>4</td>\n",
       "      <td>0.9890</td>\n",
       "    </tr>\n",
       "    <tr>\n",
       "      <th>2</th>\n",
       "      <td>5</td>\n",
       "      <td>twbs/bootstrap</td>\n",
       "      <td>JavaScript</td>\n",
       "      <td>&lt;p align=\"center\"&gt;\\n  &lt;a href=\"https://getboot...</td>\n",
       "      <td>&lt;p align=\"center\"&gt;\\n  &lt;a href=\"https://getboot...</td>\n",
       "      <td>align  center       href  https   getbootstrap...</td>\n",
       "      <td>align center href http getbootstrap com img sr...</td>\n",
       "      <td>align center href http getbootstrap com img sr...</td>\n",
       "      <td>align center href getbootstrap com img src get...</td>\n",
       "      <td>1155</td>\n",
       "      <td>52</td>\n",
       "      <td>99</td>\n",
       "      <td>34</td>\n",
       "      <td>0.9958</td>\n",
       "    </tr>\n",
       "    <tr>\n",
       "      <th>3</th>\n",
       "      <td>8</td>\n",
       "      <td>tensorflow/models</td>\n",
       "      <td>Python</td>\n",
       "      <td>![Logo](https://storage.googleapis.com/model_g...</td>\n",
       "      <td>![Logo](https://storage.googleapis.com/model_g...</td>\n",
       "      <td>logo  https   storage googleapis com model gar...</td>\n",
       "      <td>logo http storag googleapi com model garden ar...</td>\n",
       "      <td>logo http storage googleapis com model garden ...</td>\n",
       "      <td>logo storage googleapis com model garden artif...</td>\n",
       "      <td>208</td>\n",
       "      <td>11</td>\n",
       "      <td>14</td>\n",
       "      <td>3</td>\n",
       "      <td>0.9858</td>\n",
       "    </tr>\n",
       "    <tr>\n",
       "      <th>4</th>\n",
       "      <td>9</td>\n",
       "      <td>nightscout/cgm-remote-monitor</td>\n",
       "      <td>JavaScript</td>\n",
       "      <td>Nightscout Web Monitor (a.k.a. cgm-remote-moni...</td>\n",
       "      <td>Nightscout Web Monitor (a.k.a. cgm-remote-moni...</td>\n",
       "      <td>nightscout web monitor      cgm remote monitor...</td>\n",
       "      <td>nightscout web monitor cgm remot monitor night...</td>\n",
       "      <td>nightscout web monitor cgm remote monitor nigh...</td>\n",
       "      <td>nightscout web monitor cgm remote monitor nigh...</td>\n",
       "      <td>4912</td>\n",
       "      <td>142</td>\n",
       "      <td>213</td>\n",
       "      <td>5</td>\n",
       "      <td>0.9998</td>\n",
       "    </tr>\n",
       "  </tbody>\n",
       "</table>\n",
       "</div>"
      ],
      "text/plain": [
       "   index                           repo    language  \\\n",
       "0      2            octocat/Spoon-Knife        HTML   \n",
       "1      3          tensorflow/tensorflow         C++   \n",
       "2      5                 twbs/bootstrap  JavaScript   \n",
       "3      8              tensorflow/models      Python   \n",
       "4      9  nightscout/cgm-remote-monitor  JavaScript   \n",
       "\n",
       "                                     readme_contents  \\\n",
       "0  ### Well hello there!\\n\\nThis repository is me...   \n",
       "1  <div align=\"center\">\\n  <img src=\"https://www....   \n",
       "2  <p align=\"center\">\\n  <a href=\"https://getboot...   \n",
       "3  ![Logo](https://storage.googleapis.com/model_g...   \n",
       "4  Nightscout Web Monitor (a.k.a. cgm-remote-moni...   \n",
       "\n",
       "                                            original  \\\n",
       "0  ### Well hello there!\\n\\nThis repository is me...   \n",
       "1  <div align=\"center\">\\n  <img src=\"https://www....   \n",
       "2  <p align=\"center\">\\n  <a href=\"https://getboot...   \n",
       "3  ![Logo](https://storage.googleapis.com/model_g...   \n",
       "4  Nightscout Web Monitor (a.k.a. cgm-remote-moni...   \n",
       "\n",
       "                                          normalized  \\\n",
       "0  well hello there   this repository  meant  pro...   \n",
       "1  div align  center      img src  https   www te...   \n",
       "2  align  center       href  https   getbootstrap...   \n",
       "3  logo  https   storage googleapis com model gar...   \n",
       "4  nightscout web monitor      cgm remote monitor...   \n",
       "\n",
       "                                             stemmed  \\\n",
       "0  well hello there thi repositori meant provid e...   \n",
       "1  div align center img src http www tensorflow o...   \n",
       "2  align center href http getbootstrap com img sr...   \n",
       "3  logo http storag googleapi com model garden ar...   \n",
       "4  nightscout web monitor cgm remot monitor night...   \n",
       "\n",
       "                                          lemmatized  \\\n",
       "0  well hello there this repository meant provide...   \n",
       "1  div align center img src http www tensorflow o...   \n",
       "2  align center href http getbootstrap com img sr...   \n",
       "3  logo http storage googleapis com model garden ...   \n",
       "4  nightscout web monitor cgm remote monitor nigh...   \n",
       "\n",
       "                                             cleaned  readme_words  \\\n",
       "0  well hello repository meant provide example fo...            68   \n",
       "1  div align center img src tensorflow org image ...          1177   \n",
       "2  align center href getbootstrap com img src get...          1155   \n",
       "3  logo storage googleapis com model garden artif...           208   \n",
       "4  nightscout web monitor cgm remote monitor nigh...          4912   \n",
       "\n",
       "   sentence_count  bracket_count  angle_bracket_count  sentiment  \n",
       "0               5              2                    0     0.9485  \n",
       "1              34            116                    4     0.9890  \n",
       "2              52             99                   34     0.9958  \n",
       "3              11             14                    3     0.9858  \n",
       "4             142            213                    5     0.9998  "
      ]
     },
     "execution_count": 20,
     "metadata": {},
     "output_type": "execute_result"
    }
   ],
   "source": [
    "df.head()"
   ]
  },
  {
   "cell_type": "markdown",
   "metadata": {},
   "source": [
    "# Explore"
   ]
  },
  {
   "cell_type": "code",
   "execution_count": 21,
   "metadata": {},
   "outputs": [
    {
     "data": {
      "text/plain": [
       "language\n",
       "C             15.0\n",
       "C++           58.5\n",
       "CSS           19.5\n",
       "Go            35.0\n",
       "HTML           6.0\n",
       "Java          27.0\n",
       "JavaScript    33.5\n",
       "Python        40.0\n",
       "TypeScript    38.0\n",
       "Name: bracket_count, dtype: float64"
      ]
     },
     "execution_count": 21,
     "metadata": {},
     "output_type": "execute_result"
    }
   ],
   "source": [
    "df.groupby(['language']).bracket_count.median()"
   ]
  },
  {
   "cell_type": "code",
   "execution_count": 22,
   "metadata": {},
   "outputs": [
    {
     "data": {
      "text/plain": [
       "language\n",
       "C             0.5\n",
       "C++           3.0\n",
       "CSS           2.5\n",
       "Go            1.0\n",
       "HTML          0.0\n",
       "Java          1.0\n",
       "JavaScript    6.0\n",
       "Python        3.0\n",
       "TypeScript    3.0\n",
       "Name: angle_bracket_count, dtype: float64"
      ]
     },
     "execution_count": 22,
     "metadata": {},
     "output_type": "execute_result"
    }
   ],
   "source": [
    "df.groupby(['language']).angle_bracket_count.median()"
   ]
  },
  {
   "cell_type": "markdown",
   "metadata": {},
   "source": [
    "# Modeling"
   ]
  },
  {
   "cell_type": "code",
   "execution_count": 23,
   "metadata": {},
   "outputs": [],
   "source": [
    "from sklearn.feature_extraction.text import TfidfVectorizer\n",
    "from sklearn.model_selection import train_test_split\n",
    "from sklearn.metrics import classification_report, accuracy_score"
   ]
  },
  {
   "cell_type": "code",
   "execution_count": 44,
   "metadata": {},
   "outputs": [],
   "source": [
    "tfidf  = TfidfVectorizer()\n",
    "sparse = tfidf.fit_transform(df.cleaned)\n",
    "data   = pd.DataFrame(sparse.todense(), columns=tfidf.get_feature_names())"
   ]
  },
  {
   "cell_type": "code",
   "execution_count": 25,
   "metadata": {},
   "outputs": [
    {
     "data": {
      "text/html": [
       "<div>\n",
       "<style scoped>\n",
       "    .dataframe tbody tr th:only-of-type {\n",
       "        vertical-align: middle;\n",
       "    }\n",
       "\n",
       "    .dataframe tbody tr th {\n",
       "        vertical-align: top;\n",
       "    }\n",
       "\n",
       "    .dataframe thead th {\n",
       "        text-align: right;\n",
       "    }\n",
       "</style>\n",
       "<table border=\"1\" class=\"dataframe\">\n",
       "  <thead>\n",
       "    <tr style=\"text-align: right;\">\n",
       "      <th></th>\n",
       "      <th>aaaaaaaaaac</th>\n",
       "      <th>aaaaaaaaaai</th>\n",
       "      <th>aaaaaaaad</th>\n",
       "      <th>aaaaaaaaecm</th>\n",
       "      <th>aaaaaaaaerc</th>\n",
       "      <th>aaaaaaaaex</th>\n",
       "      <th>aac</th>\n",
       "      <th>aadc</th>\n",
       "      <th>aaef</th>\n",
       "      <th>aafb</th>\n",
       "      <th>...</th>\n",
       "      <th>zxingorg</th>\n",
       "      <th>zybpzd</th>\n",
       "      <th>zygmuntz</th>\n",
       "      <th>zymergen</th>\n",
       "      <th>zynga</th>\n",
       "      <th>zypper</th>\n",
       "      <th>zyszys</th>\n",
       "      <th>zzadeh</th>\n",
       "      <th>zzm</th>\n",
       "      <th>zzztimbo</th>\n",
       "    </tr>\n",
       "  </thead>\n",
       "  <tbody>\n",
       "    <tr>\n",
       "      <th>0</th>\n",
       "      <td>0.0</td>\n",
       "      <td>0.0</td>\n",
       "      <td>0.0</td>\n",
       "      <td>0.0</td>\n",
       "      <td>0.0</td>\n",
       "      <td>0.0</td>\n",
       "      <td>0.0</td>\n",
       "      <td>0.0</td>\n",
       "      <td>0.0</td>\n",
       "      <td>0.0</td>\n",
       "      <td>...</td>\n",
       "      <td>0.0</td>\n",
       "      <td>0.0</td>\n",
       "      <td>0.0</td>\n",
       "      <td>0.0</td>\n",
       "      <td>0.0</td>\n",
       "      <td>0.0</td>\n",
       "      <td>0.0</td>\n",
       "      <td>0.0</td>\n",
       "      <td>0.0</td>\n",
       "      <td>0.0</td>\n",
       "    </tr>\n",
       "    <tr>\n",
       "      <th>1</th>\n",
       "      <td>0.0</td>\n",
       "      <td>0.0</td>\n",
       "      <td>0.0</td>\n",
       "      <td>0.0</td>\n",
       "      <td>0.0</td>\n",
       "      <td>0.0</td>\n",
       "      <td>0.0</td>\n",
       "      <td>0.0</td>\n",
       "      <td>0.0</td>\n",
       "      <td>0.0</td>\n",
       "      <td>...</td>\n",
       "      <td>0.0</td>\n",
       "      <td>0.0</td>\n",
       "      <td>0.0</td>\n",
       "      <td>0.0</td>\n",
       "      <td>0.0</td>\n",
       "      <td>0.0</td>\n",
       "      <td>0.0</td>\n",
       "      <td>0.0</td>\n",
       "      <td>0.0</td>\n",
       "      <td>0.0</td>\n",
       "    </tr>\n",
       "    <tr>\n",
       "      <th>2</th>\n",
       "      <td>0.0</td>\n",
       "      <td>0.0</td>\n",
       "      <td>0.0</td>\n",
       "      <td>0.0</td>\n",
       "      <td>0.0</td>\n",
       "      <td>0.0</td>\n",
       "      <td>0.0</td>\n",
       "      <td>0.0</td>\n",
       "      <td>0.0</td>\n",
       "      <td>0.0</td>\n",
       "      <td>...</td>\n",
       "      <td>0.0</td>\n",
       "      <td>0.0</td>\n",
       "      <td>0.0</td>\n",
       "      <td>0.0</td>\n",
       "      <td>0.0</td>\n",
       "      <td>0.0</td>\n",
       "      <td>0.0</td>\n",
       "      <td>0.0</td>\n",
       "      <td>0.0</td>\n",
       "      <td>0.0</td>\n",
       "    </tr>\n",
       "    <tr>\n",
       "      <th>3</th>\n",
       "      <td>0.0</td>\n",
       "      <td>0.0</td>\n",
       "      <td>0.0</td>\n",
       "      <td>0.0</td>\n",
       "      <td>0.0</td>\n",
       "      <td>0.0</td>\n",
       "      <td>0.0</td>\n",
       "      <td>0.0</td>\n",
       "      <td>0.0</td>\n",
       "      <td>0.0</td>\n",
       "      <td>...</td>\n",
       "      <td>0.0</td>\n",
       "      <td>0.0</td>\n",
       "      <td>0.0</td>\n",
       "      <td>0.0</td>\n",
       "      <td>0.0</td>\n",
       "      <td>0.0</td>\n",
       "      <td>0.0</td>\n",
       "      <td>0.0</td>\n",
       "      <td>0.0</td>\n",
       "      <td>0.0</td>\n",
       "    </tr>\n",
       "    <tr>\n",
       "      <th>4</th>\n",
       "      <td>0.0</td>\n",
       "      <td>0.0</td>\n",
       "      <td>0.0</td>\n",
       "      <td>0.0</td>\n",
       "      <td>0.0</td>\n",
       "      <td>0.0</td>\n",
       "      <td>0.0</td>\n",
       "      <td>0.0</td>\n",
       "      <td>0.0</td>\n",
       "      <td>0.0</td>\n",
       "      <td>...</td>\n",
       "      <td>0.0</td>\n",
       "      <td>0.0</td>\n",
       "      <td>0.0</td>\n",
       "      <td>0.0</td>\n",
       "      <td>0.0</td>\n",
       "      <td>0.0</td>\n",
       "      <td>0.0</td>\n",
       "      <td>0.0</td>\n",
       "      <td>0.0</td>\n",
       "      <td>0.0</td>\n",
       "    </tr>\n",
       "  </tbody>\n",
       "</table>\n",
       "<p>5 rows × 21152 columns</p>\n",
       "</div>"
      ],
      "text/plain": [
       "   aaaaaaaaaac  aaaaaaaaaai  aaaaaaaad  aaaaaaaaecm  aaaaaaaaerc  aaaaaaaaex  \\\n",
       "0          0.0          0.0        0.0          0.0          0.0         0.0   \n",
       "1          0.0          0.0        0.0          0.0          0.0         0.0   \n",
       "2          0.0          0.0        0.0          0.0          0.0         0.0   \n",
       "3          0.0          0.0        0.0          0.0          0.0         0.0   \n",
       "4          0.0          0.0        0.0          0.0          0.0         0.0   \n",
       "\n",
       "   aac  aadc  aaef  aafb  ...  zxingorg  zybpzd  zygmuntz  zymergen  zynga  \\\n",
       "0  0.0   0.0   0.0   0.0  ...       0.0     0.0       0.0       0.0    0.0   \n",
       "1  0.0   0.0   0.0   0.0  ...       0.0     0.0       0.0       0.0    0.0   \n",
       "2  0.0   0.0   0.0   0.0  ...       0.0     0.0       0.0       0.0    0.0   \n",
       "3  0.0   0.0   0.0   0.0  ...       0.0     0.0       0.0       0.0    0.0   \n",
       "4  0.0   0.0   0.0   0.0  ...       0.0     0.0       0.0       0.0    0.0   \n",
       "\n",
       "   zypper  zyszys  zzadeh  zzm  zzztimbo  \n",
       "0     0.0     0.0     0.0  0.0       0.0  \n",
       "1     0.0     0.0     0.0  0.0       0.0  \n",
       "2     0.0     0.0     0.0  0.0       0.0  \n",
       "3     0.0     0.0     0.0  0.0       0.0  \n",
       "4     0.0     0.0     0.0  0.0       0.0  \n",
       "\n",
       "[5 rows x 21152 columns]"
      ]
     },
     "execution_count": 25,
     "metadata": {},
     "output_type": "execute_result"
    }
   ],
   "source": [
    "data.head()"
   ]
  },
  {
   "cell_type": "code",
   "execution_count": 26,
   "metadata": {},
   "outputs": [],
   "source": [
    "word_count          = df[['readme_words']]\n",
    "sentence_count      = df[['sentence_count']]\n",
    "bracket_count       = df[['bracket_count']]\n",
    "angle_bracket_count = df[['angle_bracket_count']]\n",
    "sentiment           = df[['sentiment']]"
   ]
  },
  {
   "cell_type": "code",
   "execution_count": 45,
   "metadata": {},
   "outputs": [],
   "source": [
    "# features to test word_count, sentence_count, bracket_count, angle_bracket_count, sentiment"
   ]
  },
  {
   "cell_type": "code",
   "execution_count": 61,
   "metadata": {},
   "outputs": [],
   "source": [
    "joined = pd.concat([data, word_count, sentence_count, bracket_count], axis=1)"
   ]
  },
  {
   "cell_type": "code",
   "execution_count": 62,
   "metadata": {},
   "outputs": [
    {
     "data": {
      "text/html": [
       "<div>\n",
       "<style scoped>\n",
       "    .dataframe tbody tr th:only-of-type {\n",
       "        vertical-align: middle;\n",
       "    }\n",
       "\n",
       "    .dataframe tbody tr th {\n",
       "        vertical-align: top;\n",
       "    }\n",
       "\n",
       "    .dataframe thead th {\n",
       "        text-align: right;\n",
       "    }\n",
       "</style>\n",
       "<table border=\"1\" class=\"dataframe\">\n",
       "  <thead>\n",
       "    <tr style=\"text-align: right;\">\n",
       "      <th></th>\n",
       "      <th>aaaaaaaaaac</th>\n",
       "      <th>aaaaaaaaaai</th>\n",
       "      <th>aaaaaaaad</th>\n",
       "      <th>aaaaaaaaecm</th>\n",
       "      <th>aaaaaaaaerc</th>\n",
       "      <th>aaaaaaaaex</th>\n",
       "      <th>aac</th>\n",
       "      <th>aadc</th>\n",
       "      <th>aaef</th>\n",
       "      <th>aafb</th>\n",
       "      <th>...</th>\n",
       "      <th>zymergen</th>\n",
       "      <th>zynga</th>\n",
       "      <th>zypper</th>\n",
       "      <th>zyszys</th>\n",
       "      <th>zzadeh</th>\n",
       "      <th>zzm</th>\n",
       "      <th>zzztimbo</th>\n",
       "      <th>readme_words</th>\n",
       "      <th>sentence_count</th>\n",
       "      <th>bracket_count</th>\n",
       "    </tr>\n",
       "  </thead>\n",
       "  <tbody>\n",
       "    <tr>\n",
       "      <th>0</th>\n",
       "      <td>0.0</td>\n",
       "      <td>0.0</td>\n",
       "      <td>0.0</td>\n",
       "      <td>0.0</td>\n",
       "      <td>0.0</td>\n",
       "      <td>0.0</td>\n",
       "      <td>0.0</td>\n",
       "      <td>0.0</td>\n",
       "      <td>0.0</td>\n",
       "      <td>0.0</td>\n",
       "      <td>...</td>\n",
       "      <td>0.0</td>\n",
       "      <td>0.0</td>\n",
       "      <td>0.0</td>\n",
       "      <td>0.0</td>\n",
       "      <td>0.0</td>\n",
       "      <td>0.0</td>\n",
       "      <td>0.0</td>\n",
       "      <td>68</td>\n",
       "      <td>5</td>\n",
       "      <td>2</td>\n",
       "    </tr>\n",
       "    <tr>\n",
       "      <th>1</th>\n",
       "      <td>0.0</td>\n",
       "      <td>0.0</td>\n",
       "      <td>0.0</td>\n",
       "      <td>0.0</td>\n",
       "      <td>0.0</td>\n",
       "      <td>0.0</td>\n",
       "      <td>0.0</td>\n",
       "      <td>0.0</td>\n",
       "      <td>0.0</td>\n",
       "      <td>0.0</td>\n",
       "      <td>...</td>\n",
       "      <td>0.0</td>\n",
       "      <td>0.0</td>\n",
       "      <td>0.0</td>\n",
       "      <td>0.0</td>\n",
       "      <td>0.0</td>\n",
       "      <td>0.0</td>\n",
       "      <td>0.0</td>\n",
       "      <td>1177</td>\n",
       "      <td>34</td>\n",
       "      <td>116</td>\n",
       "    </tr>\n",
       "    <tr>\n",
       "      <th>2</th>\n",
       "      <td>0.0</td>\n",
       "      <td>0.0</td>\n",
       "      <td>0.0</td>\n",
       "      <td>0.0</td>\n",
       "      <td>0.0</td>\n",
       "      <td>0.0</td>\n",
       "      <td>0.0</td>\n",
       "      <td>0.0</td>\n",
       "      <td>0.0</td>\n",
       "      <td>0.0</td>\n",
       "      <td>...</td>\n",
       "      <td>0.0</td>\n",
       "      <td>0.0</td>\n",
       "      <td>0.0</td>\n",
       "      <td>0.0</td>\n",
       "      <td>0.0</td>\n",
       "      <td>0.0</td>\n",
       "      <td>0.0</td>\n",
       "      <td>1155</td>\n",
       "      <td>52</td>\n",
       "      <td>99</td>\n",
       "    </tr>\n",
       "    <tr>\n",
       "      <th>3</th>\n",
       "      <td>0.0</td>\n",
       "      <td>0.0</td>\n",
       "      <td>0.0</td>\n",
       "      <td>0.0</td>\n",
       "      <td>0.0</td>\n",
       "      <td>0.0</td>\n",
       "      <td>0.0</td>\n",
       "      <td>0.0</td>\n",
       "      <td>0.0</td>\n",
       "      <td>0.0</td>\n",
       "      <td>...</td>\n",
       "      <td>0.0</td>\n",
       "      <td>0.0</td>\n",
       "      <td>0.0</td>\n",
       "      <td>0.0</td>\n",
       "      <td>0.0</td>\n",
       "      <td>0.0</td>\n",
       "      <td>0.0</td>\n",
       "      <td>208</td>\n",
       "      <td>11</td>\n",
       "      <td>14</td>\n",
       "    </tr>\n",
       "    <tr>\n",
       "      <th>4</th>\n",
       "      <td>0.0</td>\n",
       "      <td>0.0</td>\n",
       "      <td>0.0</td>\n",
       "      <td>0.0</td>\n",
       "      <td>0.0</td>\n",
       "      <td>0.0</td>\n",
       "      <td>0.0</td>\n",
       "      <td>0.0</td>\n",
       "      <td>0.0</td>\n",
       "      <td>0.0</td>\n",
       "      <td>...</td>\n",
       "      <td>0.0</td>\n",
       "      <td>0.0</td>\n",
       "      <td>0.0</td>\n",
       "      <td>0.0</td>\n",
       "      <td>0.0</td>\n",
       "      <td>0.0</td>\n",
       "      <td>0.0</td>\n",
       "      <td>4912</td>\n",
       "      <td>142</td>\n",
       "      <td>213</td>\n",
       "    </tr>\n",
       "  </tbody>\n",
       "</table>\n",
       "<p>5 rows × 21155 columns</p>\n",
       "</div>"
      ],
      "text/plain": [
       "   aaaaaaaaaac  aaaaaaaaaai  aaaaaaaad  aaaaaaaaecm  aaaaaaaaerc  aaaaaaaaex  \\\n",
       "0          0.0          0.0        0.0          0.0          0.0         0.0   \n",
       "1          0.0          0.0        0.0          0.0          0.0         0.0   \n",
       "2          0.0          0.0        0.0          0.0          0.0         0.0   \n",
       "3          0.0          0.0        0.0          0.0          0.0         0.0   \n",
       "4          0.0          0.0        0.0          0.0          0.0         0.0   \n",
       "\n",
       "   aac  aadc  aaef  aafb  ...  zymergen  zynga  zypper  zyszys  zzadeh  zzm  \\\n",
       "0  0.0   0.0   0.0   0.0  ...       0.0    0.0     0.0     0.0     0.0  0.0   \n",
       "1  0.0   0.0   0.0   0.0  ...       0.0    0.0     0.0     0.0     0.0  0.0   \n",
       "2  0.0   0.0   0.0   0.0  ...       0.0    0.0     0.0     0.0     0.0  0.0   \n",
       "3  0.0   0.0   0.0   0.0  ...       0.0    0.0     0.0     0.0     0.0  0.0   \n",
       "4  0.0   0.0   0.0   0.0  ...       0.0    0.0     0.0     0.0     0.0  0.0   \n",
       "\n",
       "   zzztimbo  readme_words  sentence_count  bracket_count  \n",
       "0       0.0            68               5              2  \n",
       "1       0.0          1177              34            116  \n",
       "2       0.0          1155              52             99  \n",
       "3       0.0           208              11             14  \n",
       "4       0.0          4912             142            213  \n",
       "\n",
       "[5 rows x 21155 columns]"
      ]
     },
     "execution_count": 62,
     "metadata": {},
     "output_type": "execute_result"
    }
   ],
   "source": [
    "joined.head()"
   ]
  },
  {
   "cell_type": "code",
   "execution_count": 63,
   "metadata": {},
   "outputs": [],
   "source": [
    "X = joined\n",
    "y = df.language"
   ]
  },
  {
   "cell_type": "markdown",
   "metadata": {},
   "source": [
    "## Logistic Regression"
   ]
  },
  {
   "cell_type": "code",
   "execution_count": 64,
   "metadata": {},
   "outputs": [],
   "source": [
    "from sklearn.linear_model import LogisticRegression"
   ]
  },
  {
   "cell_type": "code",
   "execution_count": 65,
   "metadata": {},
   "outputs": [],
   "source": [
    "train = pd.DataFrame(dict(actual=y_train))\n",
    "test = pd.DataFrame(dict(actual=y_test))"
   ]
  },
  {
   "cell_type": "code",
   "execution_count": 66,
   "metadata": {},
   "outputs": [],
   "source": [
    "lm = LogisticRegression().fit(X_train, y_train)\n",
    "\n",
    "train['predicted'] = lm.predict(X_train)\n",
    "test['predicted'] = lm.predict(X_test)"
   ]
  },
  {
   "cell_type": "code",
   "execution_count": 67,
   "metadata": {},
   "outputs": [
    {
     "name": "stdout",
     "output_type": "stream",
     "text": [
      "TRAIN ACCURACY SCORE\n",
      "Accuracy: 26.85%\n",
      "---\n",
      "TEST ACCURACY SCORE\n",
      "Accuracy: 28.95%\n"
     ]
    }
   ],
   "source": [
    "print('TRAIN ACCURACY SCORE')\n",
    "print('Accuracy: {:.2%}'.format(accuracy_score(train.actual, train.predicted)))\n",
    "print('---')\n",
    "print('TEST ACCURACY SCORE')\n",
    "print('Accuracy: {:.2%}'.format(accuracy_score(test.actual, test.predicted)))"
   ]
  },
  {
   "cell_type": "markdown",
   "metadata": {},
   "source": [
    "## Decision Tree"
   ]
  },
  {
   "cell_type": "code",
   "execution_count": 68,
   "metadata": {},
   "outputs": [],
   "source": [
    "from sklearn.tree import DecisionTreeClassifier"
   ]
  },
  {
   "cell_type": "code",
   "execution_count": 69,
   "metadata": {},
   "outputs": [],
   "source": [
    "X_train, X_test, y_train, y_test = train_test_split(X, y, stratify=y, test_size=.2)"
   ]
  },
  {
   "cell_type": "code",
   "execution_count": 70,
   "metadata": {},
   "outputs": [],
   "source": [
    "train = pd.DataFrame(dict(actual=y_train))\n",
    "test = pd.DataFrame(dict(actual=y_test))\n",
    "\n",
    "tree = DecisionTreeClassifier(max_depth=3).fit(X_train, y_train)\n",
    "\n",
    "train['predicted'] = tree.predict(X_train)\n",
    "test['predicted'] = tree.predict(X_test)"
   ]
  },
  {
   "cell_type": "code",
   "execution_count": 71,
   "metadata": {},
   "outputs": [
    {
     "name": "stdout",
     "output_type": "stream",
     "text": [
      "TRAIN ACCURACY SCORE\n",
      "Accuracy: 57.05%\n",
      "---\n",
      "TEST ACCURACY SCORE\n",
      "Accuracy: 44.74%\n"
     ]
    }
   ],
   "source": [
    "print('TRAIN ACCURACY SCORE')\n",
    "print('Accuracy: {:.2%}'.format(accuracy_score(train.actual, train.predicted)))\n",
    "print('---')\n",
    "print('TEST ACCURACY SCORE')\n",
    "print('Accuracy: {:.2%}'.format(accuracy_score(test.actual, test.predicted)))"
   ]
  },
  {
   "cell_type": "markdown",
   "metadata": {},
   "source": [
    "## KNN"
   ]
  },
  {
   "cell_type": "code",
   "execution_count": 76,
   "metadata": {},
   "outputs": [],
   "source": [
    "from sklearn.neighbors import KNeighborsClassifier"
   ]
  },
  {
   "cell_type": "code",
   "execution_count": 77,
   "metadata": {},
   "outputs": [],
   "source": [
    "X_train, X_test, y_train, y_test = train_test_split(X, y, stratify=y, test_size=.2)"
   ]
  },
  {
   "cell_type": "code",
   "execution_count": 78,
   "metadata": {},
   "outputs": [],
   "source": [
    "train = pd.DataFrame(dict(actual=y_train))\n",
    "test = pd.DataFrame(dict(actual=y_test))\n",
    "\n",
    "knn = KNeighborsClassifier(n_neighbors=3).fit(X_train, y_train)\n",
    "\n",
    "train['predicted'] = knn.predict(X_train)\n",
    "test['predicted'] = knn.predict(X_test)"
   ]
  },
  {
   "cell_type": "code",
   "execution_count": 79,
   "metadata": {},
   "outputs": [
    {
     "name": "stdout",
     "output_type": "stream",
     "text": [
      "TRAIN ACCURACY SCORE\n",
      "Accuracy: 55.03%\n",
      "---\n",
      "TEST ACCURACY SCORE\n",
      "Accuracy: 18.42%\n"
     ]
    }
   ],
   "source": [
    "print('TRAIN ACCURACY SCORE')\n",
    "print('Accuracy: {:.2%}'.format(accuracy_score(train.actual, train.predicted)))\n",
    "print('---')\n",
    "print('TEST ACCURACY SCORE')\n",
    "print('Accuracy: {:.2%}'.format(accuracy_score(test.actual, test.predicted)))"
   ]
  }
 ],
 "metadata": {
  "kernelspec": {
   "display_name": "Python 3",
   "language": "python",
   "name": "python3"
  },
  "language_info": {
   "codemirror_mode": {
    "name": "ipython",
    "version": 3
   },
   "file_extension": ".py",
   "mimetype": "text/x-python",
   "name": "python",
   "nbconvert_exporter": "python",
   "pygments_lexer": "ipython3",
   "version": "3.7.6"
  }
 },
 "nbformat": 4,
 "nbformat_minor": 4
}
