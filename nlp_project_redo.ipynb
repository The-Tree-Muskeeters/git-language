{
 "cells": [
  {
   "cell_type": "markdown",
   "metadata": {},
   "source": [
    "### For this project, we will be scraping data from GitHub repository README files. The goal will be to build a model that can predict what programming language a repository is, given the text of the README file.\n",
    "\n",
    "#### Deliverables\n",
    "\n",
    "1. A well-documented jupyter notebook that contains your analysis\n",
    "2. Three or four google slides suitable for a general audience that summarize your findings. Include a well-labelled visualization in your slides."
   ]
  },
  {
   "cell_type": "code",
   "execution_count": 3,
   "metadata": {},
   "outputs": [],
   "source": [
    "from requests import get\n",
    "from bs4 import BeautifulSoup\n",
    "import os\n",
    "import re\n",
    "from env import github_token, github_username\n",
    "import scraper2\n",
    "import model\n",
    "import pandas as pd\n",
    "import json\n",
    "import seaborn as sns\n",
    "import time\n",
    "import prepare_r\n",
    "import matplotlib.pyplot as plt\n",
    "from sklearn.model_selection import train_test_split\n",
    "from sklearn.linear_model import LogisticRegression\n",
    "from sklearn.metrics import classification_report, accuracy_score\n",
    "from wordcloud import WordCloud\n",
    "import nltk\n",
    "from sklearn.neighbors import KNeighborsClassifier\n",
    "from sklearn.ensemble import RandomForestClassifier\n",
    "from sklearn.tree import DecisionTreeClassifier\n",
    "import warnings\n",
    "warnings.filterwarnings('ignore')\n",
    "\n",
    "from sklearn.feature_extraction.text import CountVectorizer\n",
    "from sklearn.naive_bayes import MultinomialNB\n",
    "from sklearn.naive_bayes import BernoulliNB\n",
    "from scipy import stats\n",
    "import acquire2\n",
    "\n",
    "plt.rc('figure', figsize=(10, 6))\n",
    "plt.rc('font', size=14)\n",
    "plt.style.use('seaborn-darkgrid')"
   ]
  },
  {
   "cell_type": "markdown",
   "metadata": {},
   "source": [
    "### Data Acquisition:\n",
    "1. Acquire list of repos we want to analyze using the scraper.py\n",
    "2. Use acquire.py (Zach's code) to scrape readme files from Github"
   ]
  },
  {
   "cell_type": "code",
   "execution_count": 15,
   "metadata": {},
   "outputs": [],
   "source": [
    "# List of urls for github\n",
    "g_url = ['https://github.com/search?q=stars%3A%3E0&s=stars&type=Repositories', ' https://github.com/search?p=2&q=stars%3A%3E0&s=stars&type=Repositories'\\\n",
    "         'https://github.com/search?p=3&q=stars%3A%3E0&s=stars&type=Repositories', 'https://github.com/search?p=4&q=stars%3A%3E0&s=stars&type=Repositories',\\\n",
    "         'https://github.com/search?p=5&q=stars%3A%3E0&s=stars&type=Repositories','https://github.com/search?p=6&q=stars%3A%3E0&s=stars&type=Repositories',\\\n",
    "        'https://github.com/search?p=7&q=stars%3A%3E0&s=stars&type=Repositories','https://github.com/search?p=8&q=stars%3A%3E0&s=stars&type=Repositories',\\\n",
    "        'https://github.com/search?p=9&q=stars%3A%3E0&s=stars&type=Repositories','https://github.com/search?p=10&q=stars%3A%3E0&s=stars&type=Repositories',\n",
    "        'https://github.com/search?p=11&q=stars%3A%3E0&s=stars&type=Repositories', 'https://github.com/search?p=12&q=stars%3A%3E0&s=stars&type=Repositories',\n",
    "        'https://github.com/search?p=13&q=stars%3A%3E0&s=stars&type=Repositories','https://github.com/search?p=14&q=stars%3A%3E0&s=stars&type=Repositories',\n",
    "        'https://github.com/search?p=15&q=stars%3A%3E0&s=stars&type=Repositories','https://github.com/search?p=16&q=stars%3A%3E0&s=stars&type=Repositories',\n",
    "        'https://github.com/search?p=17&q=stars%3A%3E0&s=stars&type=Repositories','https://github.com/search?p=18&q=stars%3A%3E0&s=stars&type=Repositories',\n",
    "        'https://github.com/search?p=19&q=stars%3A%3E0&s=stars&type=Repositories','https://github.com/search?p=20&q=stars%3A%3E0&s=stars&type=Repositories',\n",
    "        'https://github.com/search?p=21&q=stars%3A%3E0&s=stars&type=Repositories','https://github.com/search?p=22&q=stars%3A%3E0&s=stars&type=Repositories',\n",
    "        'https://github.com/search?p=23&q=stars%3A%3E0&s=stars&type=Repositories','https://github.com/search?p=24&q=stars%3A%3E0&s=stars&type=Repositories',\n",
    "        'https://github.com/search?p=25&q=stars%3A%3E0&s=stars&type=Repositories','https://github.com/search?p=26&q=stars%3A%3E0&s=stars&type=Repositories']"
   ]
  },
  {
   "cell_type": "code",
   "execution_count": 3,
   "metadata": {},
   "outputs": [],
   "source": [
    "# g_url = ['https://github.com/search?o=desc&q=stars:%3E1&s=forks&type=Repositories']"
   ]
  },
  {
   "cell_type": "code",
   "execution_count": 16,
   "metadata": {},
   "outputs": [],
   "source": [
    "# Scrape the name of github repos\n",
    "repo_list = scraper2.get_repos(g_url)"
   ]
  },
  {
   "cell_type": "code",
   "execution_count": 18,
   "metadata": {},
   "outputs": [
    {
     "data": {
      "text/plain": [
       "250"
      ]
     },
     "execution_count": 18,
     "metadata": {},
     "output_type": "execute_result"
    }
   ],
   "source": [
    "#total number of repos scraped\n",
    "len(repo_list)"
   ]
  },
  {
   "cell_type": "code",
   "execution_count": 19,
   "metadata": {},
   "outputs": [
    {
     "data": {
      "text/plain": [
       "['/freeCodeCamp/freeCodeCamp',\n",
       " '/996icu/996.ICU',\n",
       " '/vuejs/vue',\n",
       " '/EbookFoundation/free-programming-books',\n",
       " '/facebook/react']"
      ]
     },
     "execution_count": 19,
     "metadata": {},
     "output_type": "execute_result"
    }
   ],
   "source": [
    "# first five repos\n",
    "repo_list [0:5]"
   ]
  },
  {
   "cell_type": "code",
   "execution_count": 20,
   "metadata": {},
   "outputs": [],
   "source": [
    "# use regex to remove first slash from repo names\n",
    "list1 = []\n",
    "for repo in repo_list:\n",
    "    repo1 = re.search(r'[a-z0-9A-Z].+', repo)[0]\n",
    "    list1.append(repo1)\n",
    "    "
   ]
  },
  {
   "cell_type": "code",
   "execution_count": 21,
   "metadata": {},
   "outputs": [
    {
     "data": {
      "text/plain": [
       "['freeCodeCamp/freeCodeCamp',\n",
       " '996icu/996.ICU',\n",
       " 'vuejs/vue',\n",
       " 'EbookFoundation/free-programming-books',\n",
       " 'facebook/react']"
      ]
     },
     "execution_count": 21,
     "metadata": {},
     "output_type": "execute_result"
    }
   ],
   "source": [
    "# Look at first five repo names\n",
    "list1[0:5]"
   ]
  },
  {
   "cell_type": "code",
   "execution_count": 1,
   "metadata": {
    "scrolled": false
   },
   "outputs": [
    {
     "ename": "NameError",
     "evalue": "name 'list1' is not defined",
     "output_type": "error",
     "traceback": [
      "\u001b[0;31m---------------------------------------------------------------------------\u001b[0m",
      "\u001b[0;31mNameError\u001b[0m                                 Traceback (most recent call last)",
      "\u001b[0;32m<ipython-input-1-38f9f765204d>\u001b[0m in \u001b[0;36m<module>\u001b[0;34m\u001b[0m\n\u001b[0;32m----> 1\u001b[0;31m \u001b[0mlist1\u001b[0m\u001b[0;34m[\u001b[0m\u001b[0;36m0\u001b[0m\u001b[0;34m:\u001b[0m\u001b[0;36m5\u001b[0m\u001b[0;34m]\u001b[0m\u001b[0;34m\u001b[0m\u001b[0;34m\u001b[0m\u001b[0m\n\u001b[0m",
      "\u001b[0;31mNameError\u001b[0m: name 'list1' is not defined"
     ]
    }
   ],
   "source": [
    "list1[0:5]"
   ]
  },
  {
   "cell_type": "code",
   "execution_count": 26,
   "metadata": {},
   "outputs": [],
   "source": [
    "# The acquired data is read from data2.json and store in a dataframe 'df'\n",
    "f = open('data3.json')\n",
    "json_file = json.load(f)\n",
    "\n",
    "df = pd.DataFrame(json_file)"
   ]
  },
  {
   "cell_type": "code",
   "execution_count": 27,
   "metadata": {},
   "outputs": [
    {
     "data": {
      "text/html": [
       "<div>\n",
       "<style scoped>\n",
       "    .dataframe tbody tr th:only-of-type {\n",
       "        vertical-align: middle;\n",
       "    }\n",
       "\n",
       "    .dataframe tbody tr th {\n",
       "        vertical-align: top;\n",
       "    }\n",
       "\n",
       "    .dataframe thead th {\n",
       "        text-align: right;\n",
       "    }\n",
       "</style>\n",
       "<table border=\"1\" class=\"dataframe\">\n",
       "  <thead>\n",
       "    <tr style=\"text-align: right;\">\n",
       "      <th></th>\n",
       "      <th>repo</th>\n",
       "      <th>language</th>\n",
       "      <th>readme_contents</th>\n",
       "    </tr>\n",
       "  </thead>\n",
       "  <tbody>\n",
       "    <tr>\n",
       "      <th>0</th>\n",
       "      <td>freeCodeCamp/freeCodeCamp</td>\n",
       "      <td>JavaScript</td>\n",
       "      <td>![freeCodeCamp.org Social Banner](https://s3.a...</td>\n",
       "    </tr>\n",
       "    <tr>\n",
       "      <th>1</th>\n",
       "      <td>996icu/996.ICU</td>\n",
       "      <td>Rust</td>\n",
       "      <td>[996.ICU](https://996.icu/#/en_US)\\n=======\\n*...</td>\n",
       "    </tr>\n",
       "    <tr>\n",
       "      <th>2</th>\n",
       "      <td>vuejs/vue</td>\n",
       "      <td>JavaScript</td>\n",
       "      <td>&lt;p align=\"center\"&gt;&lt;a href=\"https://vuejs.org\" ...</td>\n",
       "    </tr>\n",
       "    <tr>\n",
       "      <th>3</th>\n",
       "      <td>EbookFoundation/free-programming-books</td>\n",
       "      <td>None</td>\n",
       "      <td>This page is available as an easy-to-read webs...</td>\n",
       "    </tr>\n",
       "    <tr>\n",
       "      <th>4</th>\n",
       "      <td>facebook/react</td>\n",
       "      <td>JavaScript</td>\n",
       "      <td># [React](https://reactjs.org/) &amp;middot; [![Gi...</td>\n",
       "    </tr>\n",
       "  </tbody>\n",
       "</table>\n",
       "</div>"
      ],
      "text/plain": [
       "                                     repo    language  \\\n",
       "0               freeCodeCamp/freeCodeCamp  JavaScript   \n",
       "1                          996icu/996.ICU        Rust   \n",
       "2                               vuejs/vue  JavaScript   \n",
       "3  EbookFoundation/free-programming-books        None   \n",
       "4                          facebook/react  JavaScript   \n",
       "\n",
       "                                     readme_contents  \n",
       "0  ![freeCodeCamp.org Social Banner](https://s3.a...  \n",
       "1  [996.ICU](https://996.icu/#/en_US)\\n=======\\n*...  \n",
       "2  <p align=\"center\"><a href=\"https://vuejs.org\" ...  \n",
       "3  This page is available as an easy-to-read webs...  \n",
       "4  # [React](https://reactjs.org/) &middot; [![Gi...  "
      ]
     },
     "execution_count": 27,
     "metadata": {},
     "output_type": "execute_result"
    }
   ],
   "source": [
    "df.head()"
   ]
  },
  {
   "cell_type": "code",
   "execution_count": 28,
   "metadata": {},
   "outputs": [
    {
     "name": "stdout",
     "output_type": "stream",
     "text": [
      "<class 'pandas.core.frame.DataFrame'>\n",
      "RangeIndex: 250 entries, 0 to 249\n",
      "Data columns (total 3 columns):\n",
      " #   Column           Non-Null Count  Dtype \n",
      "---  ------           --------------  ----- \n",
      " 0   repo             250 non-null    object\n",
      " 1   language         212 non-null    object\n",
      " 2   readme_contents  250 non-null    object\n",
      "dtypes: object(3)\n",
      "memory usage: 6.0+ KB\n"
     ]
    }
   ],
   "source": [
    "df.info()"
   ]
  },
  {
   "cell_type": "code",
   "execution_count": 29,
   "metadata": {},
   "outputs": [
    {
     "data": {
      "text/html": [
       "<div>\n",
       "<style scoped>\n",
       "    .dataframe tbody tr th:only-of-type {\n",
       "        vertical-align: middle;\n",
       "    }\n",
       "\n",
       "    .dataframe tbody tr th {\n",
       "        vertical-align: top;\n",
       "    }\n",
       "\n",
       "    .dataframe thead th {\n",
       "        text-align: right;\n",
       "    }\n",
       "</style>\n",
       "<table border=\"1\" class=\"dataframe\">\n",
       "  <thead>\n",
       "    <tr style=\"text-align: right;\">\n",
       "      <th></th>\n",
       "      <th>repo</th>\n",
       "      <th>language</th>\n",
       "      <th>readme_contents</th>\n",
       "    </tr>\n",
       "  </thead>\n",
       "  <tbody>\n",
       "    <tr>\n",
       "      <th>3</th>\n",
       "      <td>EbookFoundation/free-programming-books</td>\n",
       "      <td>None</td>\n",
       "      <td>This page is available as an easy-to-read webs...</td>\n",
       "    </tr>\n",
       "    <tr>\n",
       "      <th>6</th>\n",
       "      <td>sindresorhus/awesome</td>\n",
       "      <td>None</td>\n",
       "      <td>&lt;div align=\"center\"&gt;\\n\\t&lt;img width=\"500\" heigh...</td>\n",
       "    </tr>\n",
       "    <tr>\n",
       "      <th>8</th>\n",
       "      <td>jwasham/coding-interview-university</td>\n",
       "      <td>None</td>\n",
       "      <td># Coding Interview University\\n\\n&gt; I originall...</td>\n",
       "    </tr>\n",
       "    <tr>\n",
       "      <th>9</th>\n",
       "      <td>kamranahmedse/developer-roadmap</td>\n",
       "      <td>None</td>\n",
       "      <td>\\n![Web Developer Roadmap - 2020](https://i.im...</td>\n",
       "    </tr>\n",
       "    <tr>\n",
       "      <th>10</th>\n",
       "      <td>getify/You-Dont-Know-JS</td>\n",
       "      <td>None</td>\n",
       "      <td># You Don't Know JS Yet (book series) - 2nd Ed...</td>\n",
       "    </tr>\n",
       "  </tbody>\n",
       "</table>\n",
       "</div>"
      ],
      "text/plain": [
       "                                      repo language  \\\n",
       "3   EbookFoundation/free-programming-books     None   \n",
       "6                     sindresorhus/awesome     None   \n",
       "8      jwasham/coding-interview-university     None   \n",
       "9          kamranahmedse/developer-roadmap     None   \n",
       "10                 getify/You-Dont-Know-JS     None   \n",
       "\n",
       "                                      readme_contents  \n",
       "3   This page is available as an easy-to-read webs...  \n",
       "6   <div align=\"center\">\\n\\t<img width=\"500\" heigh...  \n",
       "8   # Coding Interview University\\n\\n> I originall...  \n",
       "9   \\n![Web Developer Roadmap - 2020](https://i.im...  \n",
       "10  # You Don't Know JS Yet (book series) - 2nd Ed...  "
      ]
     },
     "execution_count": 29,
     "metadata": {},
     "output_type": "execute_result"
    }
   ],
   "source": [
    "# look at repos where language is 'None'\n",
    "df[df.language.isnull()].head(5)"
   ]
  },
  {
   "cell_type": "code",
   "execution_count": 30,
   "metadata": {},
   "outputs": [
    {
     "data": {
      "text/plain": [
       "JavaScript          74\n",
       "Python              28\n",
       "Java                17\n",
       "Go                  16\n",
       "TypeScript          16\n",
       "C++                 12\n",
       "C                    7\n",
       "Ruby                 5\n",
       "CSS                  5\n",
       "Shell                4\n",
       "HTML                 4\n",
       "Swift                3\n",
       "Vue                  3\n",
       "Dart                 2\n",
       "Dockerfile           2\n",
       "Kotlin               2\n",
       "Rust                 2\n",
       "PHP                  2\n",
       "TeX                  1\n",
       "Objective-C          1\n",
       "C#                   1\n",
       "Clojure              1\n",
       "Jupyter Notebook     1\n",
       "SCSS                 1\n",
       "Vim script           1\n",
       "Assembly             1\n",
       "Name: language, dtype: int64"
      ]
     },
     "execution_count": 30,
     "metadata": {},
     "output_type": "execute_result"
    }
   ],
   "source": [
    "df.language.value_counts()"
   ]
  },
  {
   "cell_type": "code",
   "execution_count": 31,
   "metadata": {},
   "outputs": [],
   "source": [
    "df = df.groupby('language').filter(lambda x: len(x)>7)"
   ]
  },
  {
   "cell_type": "code",
   "execution_count": 32,
   "metadata": {},
   "outputs": [
    {
     "data": {
      "text/html": [
       "<div>\n",
       "<style scoped>\n",
       "    .dataframe tbody tr th:only-of-type {\n",
       "        vertical-align: middle;\n",
       "    }\n",
       "\n",
       "    .dataframe tbody tr th {\n",
       "        vertical-align: top;\n",
       "    }\n",
       "\n",
       "    .dataframe thead th {\n",
       "        text-align: right;\n",
       "    }\n",
       "</style>\n",
       "<table border=\"1\" class=\"dataframe\">\n",
       "  <thead>\n",
       "    <tr style=\"text-align: right;\">\n",
       "      <th></th>\n",
       "      <th>repo</th>\n",
       "      <th>language</th>\n",
       "      <th>readme_contents</th>\n",
       "    </tr>\n",
       "  </thead>\n",
       "  <tbody>\n",
       "    <tr>\n",
       "      <th>0</th>\n",
       "      <td>freeCodeCamp/freeCodeCamp</td>\n",
       "      <td>JavaScript</td>\n",
       "      <td>![freeCodeCamp.org Social Banner](https://s3.a...</td>\n",
       "    </tr>\n",
       "    <tr>\n",
       "      <th>2</th>\n",
       "      <td>vuejs/vue</td>\n",
       "      <td>JavaScript</td>\n",
       "      <td>&lt;p align=\"center\"&gt;&lt;a href=\"https://vuejs.org\" ...</td>\n",
       "    </tr>\n",
       "    <tr>\n",
       "      <th>4</th>\n",
       "      <td>facebook/react</td>\n",
       "      <td>JavaScript</td>\n",
       "      <td># [React](https://reactjs.org/) &amp;middot; [![Gi...</td>\n",
       "    </tr>\n",
       "    <tr>\n",
       "      <th>5</th>\n",
       "      <td>tensorflow/tensorflow</td>\n",
       "      <td>C++</td>\n",
       "      <td>&lt;div align=\"center\"&gt;\\n  &lt;img src=\"https://www....</td>\n",
       "    </tr>\n",
       "    <tr>\n",
       "      <th>7</th>\n",
       "      <td>twbs/bootstrap</td>\n",
       "      <td>JavaScript</td>\n",
       "      <td>&lt;p align=\"center\"&gt;\\n  &lt;a href=\"https://v5.getb...</td>\n",
       "    </tr>\n",
       "  </tbody>\n",
       "</table>\n",
       "</div>"
      ],
      "text/plain": [
       "                        repo    language  \\\n",
       "0  freeCodeCamp/freeCodeCamp  JavaScript   \n",
       "2                  vuejs/vue  JavaScript   \n",
       "4             facebook/react  JavaScript   \n",
       "5      tensorflow/tensorflow         C++   \n",
       "7             twbs/bootstrap  JavaScript   \n",
       "\n",
       "                                     readme_contents  \n",
       "0  ![freeCodeCamp.org Social Banner](https://s3.a...  \n",
       "2  <p align=\"center\"><a href=\"https://vuejs.org\" ...  \n",
       "4  # [React](https://reactjs.org/) &middot; [![Gi...  \n",
       "5  <div align=\"center\">\\n  <img src=\"https://www....  \n",
       "7  <p align=\"center\">\\n  <a href=\"https://v5.getb...  "
      ]
     },
     "execution_count": 32,
     "metadata": {},
     "output_type": "execute_result"
    }
   ],
   "source": [
    "df.head()"
   ]
  },
  {
   "cell_type": "code",
   "execution_count": 33,
   "metadata": {},
   "outputs": [
    {
     "data": {
      "text/plain": [
       "JavaScript    74\n",
       "Python        28\n",
       "Java          17\n",
       "Go            16\n",
       "TypeScript    16\n",
       "C++           12\n",
       "Name: language, dtype: int64"
      ]
     },
     "execution_count": 33,
     "metadata": {},
     "output_type": "execute_result"
    }
   ],
   "source": [
    "df.language.value_counts()"
   ]
  },
  {
   "cell_type": "code",
   "execution_count": 34,
   "metadata": {},
   "outputs": [
    {
     "data": {
      "text/plain": [
       "<matplotlib.axes._subplots.AxesSubplot at 0x1a22d0a1d0>"
      ]
     },
     "execution_count": 34,
     "metadata": {},
     "output_type": "execute_result"
    },
    {
     "data": {
      "image/png": "[encoded data removed]",
      "text/plain": [
       "<Figure size 720x432 with 1 Axes>"
      ]
     },
     "metadata": {},
     "output_type": "display_data"
    }
   ],
   "source": [
    "df.language.value_counts().plot.barh()"
   ]
  },
  {
   "cell_type": "code",
   "execution_count": 35,
   "metadata": {},
   "outputs": [],
   "source": [
    "df = df.drop(columns = ['repo'])"
   ]
  },
  {
   "cell_type": "code",
   "execution_count": 36,
   "metadata": {},
   "outputs": [],
   "source": [
    "# We next call a function named 'prep_contents' from prepare.py\n",
    "df = prepare_r.prep_contents(df)"
   ]
  },
  {
   "cell_type": "code",
   "execution_count": 37,
   "metadata": {},
   "outputs": [
    {
     "data": {
      "text/html": [
       "<div>\n",
       "<style scoped>\n",
       "    .dataframe tbody tr th:only-of-type {\n",
       "        vertical-align: middle;\n",
       "    }\n",
       "\n",
       "    .dataframe tbody tr th {\n",
       "        vertical-align: top;\n",
       "    }\n",
       "\n",
       "    .dataframe thead th {\n",
       "        text-align: right;\n",
       "    }\n",
       "</style>\n",
       "<table border=\"1\" class=\"dataframe\">\n",
       "  <thead>\n",
       "    <tr style=\"text-align: right;\">\n",
       "      <th></th>\n",
       "      <th>language</th>\n",
       "      <th>readme_contents</th>\n",
       "      <th>original</th>\n",
       "      <th>normalized</th>\n",
       "      <th>stemmed</th>\n",
       "      <th>lemmatized</th>\n",
       "      <th>cleaned</th>\n",
       "    </tr>\n",
       "  </thead>\n",
       "  <tbody>\n",
       "    <tr>\n",
       "      <th>0</th>\n",
       "      <td>JavaScript</td>\n",
       "      <td>![freeCodeCamp.org Social Banner](https://s3.a...</td>\n",
       "      <td>![freeCodeCamp.org Social Banner](https://s3.a...</td>\n",
       "      <td>freecodecamp org social banner  https     amaz...</td>\n",
       "      <td>freecodecamp org social banner http amazonaw c...</td>\n",
       "      <td>freecodecamp org social banner http amazonaws ...</td>\n",
       "      <td>freecodecamp org social banner amazonaws com f...</td>\n",
       "    </tr>\n",
       "    <tr>\n",
       "      <th>2</th>\n",
       "      <td>JavaScript</td>\n",
       "      <td>&lt;p align=\"center\"&gt;&lt;a href=\"https://vuejs.org\" ...</td>\n",
       "      <td>&lt;p align=\"center\"&gt;&lt;a href=\"https://vuejs.org\" ...</td>\n",
       "      <td>align  center    href  https   vuejs org  targ...</td>\n",
       "      <td>align center href http vuej org target blank r...</td>\n",
       "      <td>align center href http vuejs org target blank ...</td>\n",
       "      <td>align center href vuejs org target blank rel n...</td>\n",
       "    </tr>\n",
       "    <tr>\n",
       "      <th>4</th>\n",
       "      <td>JavaScript</td>\n",
       "      <td># [React](https://reactjs.org/) &amp;middot; [![Gi...</td>\n",
       "      <td># [React](https://reactjs.org/) &amp;middot; [![Gi...</td>\n",
       "      <td>react  https   reactjs org    middot     githu...</td>\n",
       "      <td>react http reactj org middot github licens htt...</td>\n",
       "      <td>react http reactjs org middot github license h...</td>\n",
       "      <td>react reactjs org middot license img shield ba...</td>\n",
       "    </tr>\n",
       "    <tr>\n",
       "      <th>5</th>\n",
       "      <td>C++</td>\n",
       "      <td>&lt;div align=\"center\"&gt;\\n  &lt;img src=\"https://www....</td>\n",
       "      <td>&lt;div align=\"center\"&gt;\\n  &lt;img src=\"https://www....</td>\n",
       "      <td>div align  center      img src  https   www te...</td>\n",
       "      <td>div align center img src http www tensorflow o...</td>\n",
       "      <td>div align center img src http www tensorflow o...</td>\n",
       "      <td>div align center img src tensorflow org image ...</td>\n",
       "    </tr>\n",
       "    <tr>\n",
       "      <th>7</th>\n",
       "      <td>JavaScript</td>\n",
       "      <td>&lt;p align=\"center\"&gt;\\n  &lt;a href=\"https://v5.getb...</td>\n",
       "      <td>&lt;p align=\"center\"&gt;\\n  &lt;a href=\"https://v5.getb...</td>\n",
       "      <td>align  center       href  https     getbootstr...</td>\n",
       "      <td>align center href http getbootstrap com img sr...</td>\n",
       "      <td>align center href http getbootstrap com img sr...</td>\n",
       "      <td>align center href getbootstrap com img src get...</td>\n",
       "    </tr>\n",
       "  </tbody>\n",
       "</table>\n",
       "</div>"
      ],
      "text/plain": [
       "     language                                    readme_contents  \\\n",
       "0  JavaScript  ![freeCodeCamp.org Social Banner](https://s3.a...   \n",
       "2  JavaScript  <p align=\"center\"><a href=\"https://vuejs.org\" ...   \n",
       "4  JavaScript  # [React](https://reactjs.org/) &middot; [![Gi...   \n",
       "5         C++  <div align=\"center\">\\n  <img src=\"https://www....   \n",
       "7  JavaScript  <p align=\"center\">\\n  <a href=\"https://v5.getb...   \n",
       "\n",
       "                                            original  \\\n",
       "0  ![freeCodeCamp.org Social Banner](https://s3.a...   \n",
       "2  <p align=\"center\"><a href=\"https://vuejs.org\" ...   \n",
       "4  # [React](https://reactjs.org/) &middot; [![Gi...   \n",
       "5  <div align=\"center\">\\n  <img src=\"https://www....   \n",
       "7  <p align=\"center\">\\n  <a href=\"https://v5.getb...   \n",
       "\n",
       "                                          normalized  \\\n",
       "0  freecodecamp org social banner  https     amaz...   \n",
       "2  align  center    href  https   vuejs org  targ...   \n",
       "4  react  https   reactjs org    middot     githu...   \n",
       "5  div align  center      img src  https   www te...   \n",
       "7  align  center       href  https     getbootstr...   \n",
       "\n",
       "                                             stemmed  \\\n",
       "0  freecodecamp org social banner http amazonaw c...   \n",
       "2  align center href http vuej org target blank r...   \n",
       "4  react http reactj org middot github licens htt...   \n",
       "5  div align center img src http www tensorflow o...   \n",
       "7  align center href http getbootstrap com img sr...   \n",
       "\n",
       "                                          lemmatized  \\\n",
       "0  freecodecamp org social banner http amazonaws ...   \n",
       "2  align center href http vuejs org target blank ...   \n",
       "4  react http reactjs org middot github license h...   \n",
       "5  div align center img src http www tensorflow o...   \n",
       "7  align center href http getbootstrap com img sr...   \n",
       "\n",
       "                                             cleaned  \n",
       "0  freecodecamp org social banner amazonaws com f...  \n",
       "2  align center href vuejs org target blank rel n...  \n",
       "4  react reactjs org middot license img shield ba...  \n",
       "5  div align center img src tensorflow org image ...  \n",
       "7  align center href getbootstrap com img src get...  "
      ]
     },
     "execution_count": 37,
     "metadata": {},
     "output_type": "execute_result"
    }
   ],
   "source": [
    "df.head()"
   ]
  },
  {
   "cell_type": "code",
   "execution_count": 38,
   "metadata": {},
   "outputs": [],
   "source": [
    "df = df.drop(columns = ['original', 'normalized', 'stemmed', 'lemmatized'])\n",
    "df = df.reset_index(drop = True)"
   ]
  },
  {
   "cell_type": "code",
   "execution_count": 39,
   "metadata": {},
   "outputs": [
    {
     "data": {
      "text/html": [
       "<div>\n",
       "<style scoped>\n",
       "    .dataframe tbody tr th:only-of-type {\n",
       "        vertical-align: middle;\n",
       "    }\n",
       "\n",
       "    .dataframe tbody tr th {\n",
       "        vertical-align: top;\n",
       "    }\n",
       "\n",
       "    .dataframe thead th {\n",
       "        text-align: right;\n",
       "    }\n",
       "</style>\n",
       "<table border=\"1\" class=\"dataframe\">\n",
       "  <thead>\n",
       "    <tr style=\"text-align: right;\">\n",
       "      <th></th>\n",
       "      <th>language</th>\n",
       "      <th>readme_contents</th>\n",
       "      <th>cleaned</th>\n",
       "    </tr>\n",
       "  </thead>\n",
       "  <tbody>\n",
       "    <tr>\n",
       "      <th>0</th>\n",
       "      <td>JavaScript</td>\n",
       "      <td>![freeCodeCamp.org Social Banner](https://s3.a...</td>\n",
       "      <td>freecodecamp org social banner amazonaws com f...</td>\n",
       "    </tr>\n",
       "    <tr>\n",
       "      <th>1</th>\n",
       "      <td>JavaScript</td>\n",
       "      <td>&lt;p align=\"center\"&gt;&lt;a href=\"https://vuejs.org\" ...</td>\n",
       "      <td>align center href vuejs org target blank rel n...</td>\n",
       "    </tr>\n",
       "    <tr>\n",
       "      <th>2</th>\n",
       "      <td>JavaScript</td>\n",
       "      <td># [React](https://reactjs.org/) &amp;middot; [![Gi...</td>\n",
       "      <td>react reactjs org middot license img shield ba...</td>\n",
       "    </tr>\n",
       "  </tbody>\n",
       "</table>\n",
       "</div>"
      ],
      "text/plain": [
       "     language                                    readme_contents  \\\n",
       "0  JavaScript  ![freeCodeCamp.org Social Banner](https://s3.a...   \n",
       "1  JavaScript  <p align=\"center\"><a href=\"https://vuejs.org\" ...   \n",
       "2  JavaScript  # [React](https://reactjs.org/) &middot; [![Gi...   \n",
       "\n",
       "                                             cleaned  \n",
       "0  freecodecamp org social banner amazonaws com f...  \n",
       "1  align center href vuejs org target blank rel n...  \n",
       "2  react reactjs org middot license img shield ba...  "
      ]
     },
     "execution_count": 39,
     "metadata": {},
     "output_type": "execute_result"
    }
   ],
   "source": [
    "df.head(3)"
   ]
  },
  {
   "cell_type": "code",
   "execution_count": 43,
   "metadata": {},
   "outputs": [],
   "source": [
    "# Train test split before exploration\n",
    "\n",
    "train, test = train_test_split(df, train_size = 0.8, random_state = 123, stratify = df.language)"
   ]
  },
  {
   "cell_type": "code",
   "execution_count": 44,
   "metadata": {},
   "outputs": [
    {
     "data": {
      "text/html": [
       "<div>\n",
       "<style scoped>\n",
       "    .dataframe tbody tr th:only-of-type {\n",
       "        vertical-align: middle;\n",
       "    }\n",
       "\n",
       "    .dataframe tbody tr th {\n",
       "        vertical-align: top;\n",
       "    }\n",
       "\n",
       "    .dataframe thead th {\n",
       "        text-align: right;\n",
       "    }\n",
       "</style>\n",
       "<table border=\"1\" class=\"dataframe\">\n",
       "  <thead>\n",
       "    <tr style=\"text-align: right;\">\n",
       "      <th></th>\n",
       "      <th>language</th>\n",
       "      <th>readme_contents</th>\n",
       "      <th>cleaned</th>\n",
       "    </tr>\n",
       "  </thead>\n",
       "  <tbody>\n",
       "    <tr>\n",
       "      <th>0</th>\n",
       "      <td>JavaScript</td>\n",
       "      <td>![freeCodeCamp.org Social Banner](https://s3.a...</td>\n",
       "      <td>freecodecamp org social banner amazonaws com f...</td>\n",
       "    </tr>\n",
       "    <tr>\n",
       "      <th>104</th>\n",
       "      <td>Java</td>\n",
       "      <td>Retrofit\\n========\\n\\nA type-safe HTTP client ...</td>\n",
       "      <td>retrofit type safe client android java informa...</td>\n",
       "    </tr>\n",
       "    <tr>\n",
       "      <th>20</th>\n",
       "      <td>TypeScript</td>\n",
       "      <td>\\r\\n# TypeScript\\r\\n\\r\\n[![Build Status](https...</td>\n",
       "      <td>typescript build status travis org microsoft t...</td>\n",
       "    </tr>\n",
       "    <tr>\n",
       "      <th>111</th>\n",
       "      <td>Go</td>\n",
       "      <td># &lt;img src=\"https://github.com/gogs/gogs/raw/m...</td>\n",
       "      <td>img src com gogs gogs raw main public img favi...</td>\n",
       "    </tr>\n",
       "    <tr>\n",
       "      <th>158</th>\n",
       "      <td>Python</td>\n",
       "      <td>### 12306 购票小助手\\n#### python版本\\n  - [ ] 2.7.10...</td>\n",
       "      <td>python server com zhaipro easy pan baidu com v...</td>\n",
       "    </tr>\n",
       "  </tbody>\n",
       "</table>\n",
       "</div>"
      ],
      "text/plain": [
       "       language                                    readme_contents  \\\n",
       "0    JavaScript  ![freeCodeCamp.org Social Banner](https://s3.a...   \n",
       "104        Java  Retrofit\\n========\\n\\nA type-safe HTTP client ...   \n",
       "20   TypeScript  \\r\\n# TypeScript\\r\\n\\r\\n[![Build Status](https...   \n",
       "111          Go  # <img src=\"https://github.com/gogs/gogs/raw/m...   \n",
       "158      Python  ### 12306 购票小助手\\n#### python版本\\n  - [ ] 2.7.10...   \n",
       "\n",
       "                                               cleaned  \n",
       "0    freecodecamp org social banner amazonaws com f...  \n",
       "104  retrofit type safe client android java informa...  \n",
       "20   typescript build status travis org microsoft t...  \n",
       "111  img src com gogs gogs raw main public img favi...  \n",
       "158  python server com zhaipro easy pan baidu com v...  "
      ]
     },
     "execution_count": 44,
     "metadata": {},
     "output_type": "execute_result"
    }
   ],
   "source": [
    "train.head()"
   ]
  },
  {
   "cell_type": "code",
   "execution_count": 46,
   "metadata": {},
   "outputs": [
    {
     "data": {
      "text/plain": [
       "((130, 3), (33, 3))"
      ]
     },
     "execution_count": 46,
     "metadata": {},
     "output_type": "execute_result"
    }
   ],
   "source": [
    "# check the shape of train and test dataframes\n",
    "train.shape, test.shape"
   ]
  },
  {
   "cell_type": "code",
   "execution_count": 57,
   "metadata": {},
   "outputs": [
    {
     "data": {
      "text/plain": [
       "com        11229\n",
       "react       3197\n",
       "native      3058\n",
       "org         1737\n",
       "img         1710\n",
       "           ...  \n",
       "awslabs        1\n",
       "habito         1\n",
       "keane          1\n",
       "ewald          1\n",
       "kieffer        1\n",
       "Length: 22410, dtype: int64"
      ]
     },
     "execution_count": 57,
     "metadata": {},
     "output_type": "execute_result"
    }
   ],
   "source": [
    "word_counts = pd.Series((' '.join(train.cleaned)).split()).value_counts()\n",
    "word_counts"
   ]
  },
  {
   "cell_type": "code",
   "execution_count": 64,
   "metadata": {},
   "outputs": [
    {
     "data": {
      "text/plain": [
       "Text(0.5, 1.0, '15 most common words in all repos')"
      ]
     },
     "execution_count": 64,
     "metadata": {},
     "output_type": "execute_result"
    },
    {
     "data": {
      "image/png": "[encoded data removed]",
      "text/plain": [
       "<Figure size 720x432 with 1 Axes>"
      ]
     },
     "metadata": {},
     "output_type": "display_data"
    }
   ],
   "source": [
    "plt.figure(figsize = (10,6))\n",
    "word_counts.head(20).plot.barh()\n",
    "plt.title('15 most common words in all repos')"
   ]
  },
  {
   "cell_type": "code",
   "execution_count": 66,
   "metadata": {},
   "outputs": [
    {
     "data": {
      "text/html": [
       "<div>\n",
       "<style scoped>\n",
       "    .dataframe tbody tr th:only-of-type {\n",
       "        vertical-align: middle;\n",
       "    }\n",
       "\n",
       "    .dataframe tbody tr th {\n",
       "        vertical-align: top;\n",
       "    }\n",
       "\n",
       "    .dataframe thead th {\n",
       "        text-align: right;\n",
       "    }\n",
       "</style>\n",
       "<table border=\"1\" class=\"dataframe\">\n",
       "  <thead>\n",
       "    <tr style=\"text-align: right;\">\n",
       "      <th></th>\n",
       "      <th>language</th>\n",
       "      <th>readme_contents</th>\n",
       "      <th>cleaned</th>\n",
       "    </tr>\n",
       "  </thead>\n",
       "  <tbody>\n",
       "    <tr>\n",
       "      <th>0</th>\n",
       "      <td>JavaScript</td>\n",
       "      <td>![freeCodeCamp.org Social Banner](https://s3.a...</td>\n",
       "      <td>freecodecamp org social banner amazonaws com f...</td>\n",
       "    </tr>\n",
       "    <tr>\n",
       "      <th>104</th>\n",
       "      <td>Java</td>\n",
       "      <td>Retrofit\\n========\\n\\nA type-safe HTTP client ...</td>\n",
       "      <td>retrofit type safe client android java informa...</td>\n",
       "    </tr>\n",
       "    <tr>\n",
       "      <th>20</th>\n",
       "      <td>TypeScript</td>\n",
       "      <td>\\r\\n# TypeScript\\r\\n\\r\\n[![Build Status](https...</td>\n",
       "      <td>typescript build status travis org microsoft t...</td>\n",
       "    </tr>\n",
       "    <tr>\n",
       "      <th>111</th>\n",
       "      <td>Go</td>\n",
       "      <td># &lt;img src=\"https://github.com/gogs/gogs/raw/m...</td>\n",
       "      <td>img src com gogs gogs raw main public img favi...</td>\n",
       "    </tr>\n",
       "    <tr>\n",
       "      <th>158</th>\n",
       "      <td>Python</td>\n",
       "      <td>### 12306 购票小助手\\n#### python版本\\n  - [ ] 2.7.10...</td>\n",
       "      <td>python server com zhaipro easy pan baidu com v...</td>\n",
       "    </tr>\n",
       "  </tbody>\n",
       "</table>\n",
       "</div>"
      ],
      "text/plain": [
       "       language                                    readme_contents  \\\n",
       "0    JavaScript  ![freeCodeCamp.org Social Banner](https://s3.a...   \n",
       "104        Java  Retrofit\\n========\\n\\nA type-safe HTTP client ...   \n",
       "20   TypeScript  \\r\\n# TypeScript\\r\\n\\r\\n[![Build Status](https...   \n",
       "111          Go  # <img src=\"https://github.com/gogs/gogs/raw/m...   \n",
       "158      Python  ### 12306 购票小助手\\n#### python版本\\n  - [ ] 2.7.10...   \n",
       "\n",
       "                                               cleaned  \n",
       "0    freecodecamp org social banner amazonaws com f...  \n",
       "104  retrofit type safe client android java informa...  \n",
       "20   typescript build status travis org microsoft t...  \n",
       "111  img src com gogs gogs raw main public img favi...  \n",
       "158  python server com zhaipro easy pan baidu com v...  "
      ]
     },
     "execution_count": 66,
     "metadata": {},
     "output_type": "execute_result"
    }
   ],
   "source": [
    "train.head()"
   ]
  },
  {
   "cell_type": "code",
   "execution_count": 70,
   "metadata": {},
   "outputs": [
    {
     "data": {
      "text/plain": [
       "1774"
      ]
     },
     "execution_count": 70,
     "metadata": {},
     "output_type": "execute_result"
    }
   ],
   "source": [
    "len(train.cleaned[0].split())"
   ]
  },
  {
   "cell_type": "code",
   "execution_count": 72,
   "metadata": {},
   "outputs": [],
   "source": [
    "train['repo_lenght'] = train.cleaned.apply(lambda x: len(x.split()))"
   ]
  },
  {
   "cell_type": "code",
   "execution_count": 73,
   "metadata": {},
   "outputs": [
    {
     "data": {
      "text/html": [
       "<div>\n",
       "<style scoped>\n",
       "    .dataframe tbody tr th:only-of-type {\n",
       "        vertical-align: middle;\n",
       "    }\n",
       "\n",
       "    .dataframe tbody tr th {\n",
       "        vertical-align: top;\n",
       "    }\n",
       "\n",
       "    .dataframe thead th {\n",
       "        text-align: right;\n",
       "    }\n",
       "</style>\n",
       "<table border=\"1\" class=\"dataframe\">\n",
       "  <thead>\n",
       "    <tr style=\"text-align: right;\">\n",
       "      <th></th>\n",
       "      <th>language</th>\n",
       "      <th>readme_contents</th>\n",
       "      <th>cleaned</th>\n",
       "      <th>repo_lenght</th>\n",
       "    </tr>\n",
       "  </thead>\n",
       "  <tbody>\n",
       "    <tr>\n",
       "      <th>0</th>\n",
       "      <td>JavaScript</td>\n",
       "      <td>![freeCodeCamp.org Social Banner](https://s3.a...</td>\n",
       "      <td>freecodecamp org social banner amazonaws com f...</td>\n",
       "      <td>1774</td>\n",
       "    </tr>\n",
       "    <tr>\n",
       "      <th>104</th>\n",
       "      <td>Java</td>\n",
       "      <td>Retrofit\\n========\\n\\nA type-safe HTTP client ...</td>\n",
       "      <td>retrofit type safe client android java informa...</td>\n",
       "      <td>159</td>\n",
       "    </tr>\n",
       "    <tr>\n",
       "      <th>20</th>\n",
       "      <td>TypeScript</td>\n",
       "      <td>\\r\\n# TypeScript\\r\\n\\r\\n[![Build Status](https...</td>\n",
       "      <td>typescript build status travis org microsoft t...</td>\n",
       "      <td>487</td>\n",
       "    </tr>\n",
       "    <tr>\n",
       "      <th>111</th>\n",
       "      <td>Go</td>\n",
       "      <td># &lt;img src=\"https://github.com/gogs/gogs/raw/m...</td>\n",
       "      <td>img src com gogs gogs raw main public img favi...</td>\n",
       "      <td>652</td>\n",
       "    </tr>\n",
       "    <tr>\n",
       "      <th>158</th>\n",
       "      <td>Python</td>\n",
       "      <td>### 12306 购票小助手\\n#### python版本\\n  - [ ] 2.7.10...</td>\n",
       "      <td>python server com zhaipro easy pan baidu com v...</td>\n",
       "      <td>161</td>\n",
       "    </tr>\n",
       "  </tbody>\n",
       "</table>\n",
       "</div>"
      ],
      "text/plain": [
       "       language                                    readme_contents  \\\n",
       "0    JavaScript  ![freeCodeCamp.org Social Banner](https://s3.a...   \n",
       "104        Java  Retrofit\\n========\\n\\nA type-safe HTTP client ...   \n",
       "20   TypeScript  \\r\\n# TypeScript\\r\\n\\r\\n[![Build Status](https...   \n",
       "111          Go  # <img src=\"https://github.com/gogs/gogs/raw/m...   \n",
       "158      Python  ### 12306 购票小助手\\n#### python版本\\n  - [ ] 2.7.10...   \n",
       "\n",
       "                                               cleaned  repo_lenght  \n",
       "0    freecodecamp org social banner amazonaws com f...         1774  \n",
       "104  retrofit type safe client android java informa...          159  \n",
       "20   typescript build status travis org microsoft t...          487  \n",
       "111  img src com gogs gogs raw main public img favi...          652  \n",
       "158  python server com zhaipro easy pan baidu com v...          161  "
      ]
     },
     "execution_count": 73,
     "metadata": {},
     "output_type": "execute_result"
    }
   ],
   "source": [
    "train.head()"
   ]
  },
  {
   "cell_type": "code",
   "execution_count": 78,
   "metadata": {},
   "outputs": [
    {
     "data": {
      "text/plain": [
       "(array([0, 1, 2, 3, 4, 5]), <a list of 6 Text xticklabel objects>)"
      ]
     },
     "execution_count": 78,
     "metadata": {},
     "output_type": "execute_result"
    },
    {
     "data": {
      "image/png": "[encoded data removed]",
      "text/plain": [
       "<Figure size 864x432 with 1 Axes>"
      ]
     },
     "metadata": {},
     "output_type": "display_data"
    }
   ],
   "source": [
    "plt.figure(figsize = (12,6))\n",
    "sns.boxplot(x = 'language', y = 'repo_lenght', data = train)\n",
    "plt.ylim(0,5000)\n",
    "plt.xticks(rotation = 90)"
   ]
  },
  {
   "cell_type": "code",
   "execution_count": null,
   "metadata": {},
   "outputs": [],
   "source": []
  }
 ],
 "metadata": {
  "kernelspec": {
   "display_name": "Python 3",
   "language": "python",
   "name": "python3"
  },
  "language_info": {
   "codemirror_mode": {
    "name": "ipython",
    "version": 3
   },
   "file_extension": ".py",
   "mimetype": "text/x-python",
   "name": "python",
   "nbconvert_exporter": "python",
   "pygments_lexer": "ipython3",
   "version": "3.7.6"
  }
 },
 "nbformat": 4,
 "nbformat_minor": 4
}
